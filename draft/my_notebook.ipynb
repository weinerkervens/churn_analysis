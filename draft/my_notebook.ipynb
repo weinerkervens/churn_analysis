{
 "cells": [
  {
   "cell_type": "code",
   "execution_count": 1,
   "metadata": {},
   "outputs": [],
   "source": [
    "import pandas as pd\n",
    "import numpy as np\n",
    "import matplotlib as mpl\n",
    "import matplotlib.pyplot as plt"
   ]
  },
  {
   "cell_type": "markdown",
   "metadata": {},
   "source": [
    "<b>Data Prepocessing"
   ]
  },
  {
   "cell_type": "code",
   "execution_count": 2,
   "metadata": {},
   "outputs": [
    {
     "data": {
      "text/html": [
       "<div>\n",
       "<style scoped>\n",
       "    .dataframe tbody tr th:only-of-type {\n",
       "        vertical-align: middle;\n",
       "    }\n",
       "\n",
       "    .dataframe tbody tr th {\n",
       "        vertical-align: top;\n",
       "    }\n",
       "\n",
       "    .dataframe thead th {\n",
       "        text-align: right;\n",
       "    }\n",
       "</style>\n",
       "<table border=\"1\" class=\"dataframe\">\n",
       "  <thead>\n",
       "    <tr style=\"text-align: right;\">\n",
       "      <th></th>\n",
       "      <th>customerID</th>\n",
       "      <th>gender</th>\n",
       "      <th>SeniorCitizen</th>\n",
       "      <th>Partner</th>\n",
       "      <th>Dependents</th>\n",
       "      <th>tenure</th>\n",
       "      <th>PhoneService</th>\n",
       "      <th>MultipleLines</th>\n",
       "      <th>InternetService</th>\n",
       "      <th>OnlineSecurity</th>\n",
       "      <th>...</th>\n",
       "      <th>DeviceProtection</th>\n",
       "      <th>TechSupport</th>\n",
       "      <th>StreamingTV</th>\n",
       "      <th>StreamingMovies</th>\n",
       "      <th>Contract</th>\n",
       "      <th>PaperlessBilling</th>\n",
       "      <th>PaymentMethod</th>\n",
       "      <th>MonthlyCharges</th>\n",
       "      <th>TotalCharges</th>\n",
       "      <th>Churn</th>\n",
       "    </tr>\n",
       "  </thead>\n",
       "  <tbody>\n",
       "    <tr>\n",
       "      <th>0</th>\n",
       "      <td>7590-VHVEG</td>\n",
       "      <td>Female</td>\n",
       "      <td>0</td>\n",
       "      <td>Yes</td>\n",
       "      <td>No</td>\n",
       "      <td>1</td>\n",
       "      <td>No</td>\n",
       "      <td>No phone service</td>\n",
       "      <td>DSL</td>\n",
       "      <td>No</td>\n",
       "      <td>...</td>\n",
       "      <td>No</td>\n",
       "      <td>No</td>\n",
       "      <td>No</td>\n",
       "      <td>No</td>\n",
       "      <td>Month-to-month</td>\n",
       "      <td>Yes</td>\n",
       "      <td>Electronic check</td>\n",
       "      <td>29.85</td>\n",
       "      <td>29.85</td>\n",
       "      <td>No</td>\n",
       "    </tr>\n",
       "    <tr>\n",
       "      <th>1</th>\n",
       "      <td>5575-GNVDE</td>\n",
       "      <td>Male</td>\n",
       "      <td>0</td>\n",
       "      <td>No</td>\n",
       "      <td>No</td>\n",
       "      <td>34</td>\n",
       "      <td>Yes</td>\n",
       "      <td>No</td>\n",
       "      <td>DSL</td>\n",
       "      <td>Yes</td>\n",
       "      <td>...</td>\n",
       "      <td>Yes</td>\n",
       "      <td>No</td>\n",
       "      <td>No</td>\n",
       "      <td>No</td>\n",
       "      <td>One year</td>\n",
       "      <td>No</td>\n",
       "      <td>Mailed check</td>\n",
       "      <td>56.95</td>\n",
       "      <td>1889.5</td>\n",
       "      <td>No</td>\n",
       "    </tr>\n",
       "    <tr>\n",
       "      <th>2</th>\n",
       "      <td>3668-QPYBK</td>\n",
       "      <td>Male</td>\n",
       "      <td>0</td>\n",
       "      <td>No</td>\n",
       "      <td>No</td>\n",
       "      <td>2</td>\n",
       "      <td>Yes</td>\n",
       "      <td>No</td>\n",
       "      <td>DSL</td>\n",
       "      <td>Yes</td>\n",
       "      <td>...</td>\n",
       "      <td>No</td>\n",
       "      <td>No</td>\n",
       "      <td>No</td>\n",
       "      <td>No</td>\n",
       "      <td>Month-to-month</td>\n",
       "      <td>Yes</td>\n",
       "      <td>Mailed check</td>\n",
       "      <td>53.85</td>\n",
       "      <td>108.15</td>\n",
       "      <td>Yes</td>\n",
       "    </tr>\n",
       "    <tr>\n",
       "      <th>3</th>\n",
       "      <td>7795-CFOCW</td>\n",
       "      <td>Male</td>\n",
       "      <td>0</td>\n",
       "      <td>No</td>\n",
       "      <td>No</td>\n",
       "      <td>45</td>\n",
       "      <td>No</td>\n",
       "      <td>No phone service</td>\n",
       "      <td>DSL</td>\n",
       "      <td>Yes</td>\n",
       "      <td>...</td>\n",
       "      <td>Yes</td>\n",
       "      <td>Yes</td>\n",
       "      <td>No</td>\n",
       "      <td>No</td>\n",
       "      <td>One year</td>\n",
       "      <td>No</td>\n",
       "      <td>Bank transfer (automatic)</td>\n",
       "      <td>42.30</td>\n",
       "      <td>1840.75</td>\n",
       "      <td>No</td>\n",
       "    </tr>\n",
       "    <tr>\n",
       "      <th>4</th>\n",
       "      <td>9237-HQITU</td>\n",
       "      <td>Female</td>\n",
       "      <td>0</td>\n",
       "      <td>No</td>\n",
       "      <td>No</td>\n",
       "      <td>2</td>\n",
       "      <td>Yes</td>\n",
       "      <td>No</td>\n",
       "      <td>Fiber optic</td>\n",
       "      <td>No</td>\n",
       "      <td>...</td>\n",
       "      <td>No</td>\n",
       "      <td>No</td>\n",
       "      <td>No</td>\n",
       "      <td>No</td>\n",
       "      <td>Month-to-month</td>\n",
       "      <td>Yes</td>\n",
       "      <td>Electronic check</td>\n",
       "      <td>70.70</td>\n",
       "      <td>151.65</td>\n",
       "      <td>Yes</td>\n",
       "    </tr>\n",
       "  </tbody>\n",
       "</table>\n",
       "<p>5 rows × 21 columns</p>\n",
       "</div>"
      ],
      "text/plain": [
       "   customerID  gender  SeniorCitizen Partner Dependents  tenure PhoneService  \\\n",
       "0  7590-VHVEG  Female              0     Yes         No       1           No   \n",
       "1  5575-GNVDE    Male              0      No         No      34          Yes   \n",
       "2  3668-QPYBK    Male              0      No         No       2          Yes   \n",
       "3  7795-CFOCW    Male              0      No         No      45           No   \n",
       "4  9237-HQITU  Female              0      No         No       2          Yes   \n",
       "\n",
       "      MultipleLines InternetService OnlineSecurity  ... DeviceProtection  \\\n",
       "0  No phone service             DSL             No  ...               No   \n",
       "1                No             DSL            Yes  ...              Yes   \n",
       "2                No             DSL            Yes  ...               No   \n",
       "3  No phone service             DSL            Yes  ...              Yes   \n",
       "4                No     Fiber optic             No  ...               No   \n",
       "\n",
       "  TechSupport StreamingTV StreamingMovies        Contract PaperlessBilling  \\\n",
       "0          No          No              No  Month-to-month              Yes   \n",
       "1          No          No              No        One year               No   \n",
       "2          No          No              No  Month-to-month              Yes   \n",
       "3         Yes          No              No        One year               No   \n",
       "4          No          No              No  Month-to-month              Yes   \n",
       "\n",
       "               PaymentMethod MonthlyCharges  TotalCharges Churn  \n",
       "0           Electronic check          29.85         29.85    No  \n",
       "1               Mailed check          56.95        1889.5    No  \n",
       "2               Mailed check          53.85        108.15   Yes  \n",
       "3  Bank transfer (automatic)          42.30       1840.75    No  \n",
       "4           Electronic check          70.70        151.65   Yes  \n",
       "\n",
       "[5 rows x 21 columns]"
      ]
     },
     "execution_count": 2,
     "metadata": {},
     "output_type": "execute_result"
    }
   ],
   "source": [
    "df_churn=pd.read_csv('datasets%2F13996%2F18858%2FWA_Fn-UseC_-Telco-Customer-Churn.csv')\n",
    "df_churn.head()"
   ]
  },
  {
   "cell_type": "code",
   "execution_count": 3,
   "metadata": {},
   "outputs": [
    {
     "data": {
      "text/plain": [
       "customerID           object\n",
       "gender               object\n",
       "SeniorCitizen         int64\n",
       "Partner              object\n",
       "Dependents           object\n",
       "tenure                int64\n",
       "PhoneService         object\n",
       "MultipleLines        object\n",
       "InternetService      object\n",
       "OnlineSecurity       object\n",
       "OnlineBackup         object\n",
       "DeviceProtection     object\n",
       "TechSupport          object\n",
       "StreamingTV          object\n",
       "StreamingMovies      object\n",
       "Contract             object\n",
       "PaperlessBilling     object\n",
       "PaymentMethod        object\n",
       "MonthlyCharges      float64\n",
       "TotalCharges         object\n",
       "Churn                object\n",
       "dtype: object"
      ]
     },
     "execution_count": 3,
     "metadata": {},
     "output_type": "execute_result"
    }
   ],
   "source": [
    "df_churn.dtypes"
   ]
  },
  {
   "cell_type": "code",
   "execution_count": 4,
   "metadata": {},
   "outputs": [],
   "source": [
    "df_churn['TotalCharges']=pd.to_numeric(df_churn.TotalCharges,errors='coerce')"
   ]
  },
  {
   "cell_type": "code",
   "execution_count": 5,
   "metadata": {},
   "outputs": [
    {
     "data": {
      "text/plain": [
       "customerID           object\n",
       "gender               object\n",
       "SeniorCitizen         int64\n",
       "Partner              object\n",
       "Dependents           object\n",
       "tenure                int64\n",
       "PhoneService         object\n",
       "MultipleLines        object\n",
       "InternetService      object\n",
       "OnlineSecurity       object\n",
       "OnlineBackup         object\n",
       "DeviceProtection     object\n",
       "TechSupport          object\n",
       "StreamingTV          object\n",
       "StreamingMovies      object\n",
       "Contract             object\n",
       "PaperlessBilling     object\n",
       "PaymentMethod        object\n",
       "MonthlyCharges      float64\n",
       "TotalCharges        float64\n",
       "Churn                object\n",
       "dtype: object"
      ]
     },
     "execution_count": 5,
     "metadata": {},
     "output_type": "execute_result"
    }
   ],
   "source": [
    "df_churn.dtypes"
   ]
  },
  {
   "cell_type": "code",
   "execution_count": 6,
   "metadata": {},
   "outputs": [
    {
     "data": {
      "text/plain": [
       "customerID           0\n",
       "gender               0\n",
       "SeniorCitizen        0\n",
       "Partner              0\n",
       "Dependents           0\n",
       "tenure               0\n",
       "PhoneService         0\n",
       "MultipleLines        0\n",
       "InternetService      0\n",
       "OnlineSecurity       0\n",
       "OnlineBackup         0\n",
       "DeviceProtection     0\n",
       "TechSupport          0\n",
       "StreamingTV          0\n",
       "StreamingMovies      0\n",
       "Contract             0\n",
       "PaperlessBilling     0\n",
       "PaymentMethod        0\n",
       "MonthlyCharges       0\n",
       "TotalCharges        11\n",
       "Churn                0\n",
       "dtype: int64"
      ]
     },
     "execution_count": 6,
     "metadata": {},
     "output_type": "execute_result"
    }
   ],
   "source": [
    "df_churn.isnull().sum(axis=0)"
   ]
  },
  {
   "cell_type": "code",
   "execution_count": 7,
   "metadata": {},
   "outputs": [],
   "source": [
    "df_churn.dropna(subset=['TotalCharges'],axis=0,inplace=True)"
   ]
  },
  {
   "cell_type": "code",
   "execution_count": 8,
   "metadata": {},
   "outputs": [
    {
     "data": {
      "text/html": [
       "<div>\n",
       "<style scoped>\n",
       "    .dataframe tbody tr th:only-of-type {\n",
       "        vertical-align: middle;\n",
       "    }\n",
       "\n",
       "    .dataframe tbody tr th {\n",
       "        vertical-align: top;\n",
       "    }\n",
       "\n",
       "    .dataframe thead th {\n",
       "        text-align: right;\n",
       "    }\n",
       "</style>\n",
       "<table border=\"1\" class=\"dataframe\">\n",
       "  <thead>\n",
       "    <tr style=\"text-align: right;\">\n",
       "      <th></th>\n",
       "      <th>SeniorCitizen</th>\n",
       "      <th>tenure</th>\n",
       "      <th>MonthlyCharges</th>\n",
       "      <th>TotalCharges</th>\n",
       "    </tr>\n",
       "  </thead>\n",
       "  <tbody>\n",
       "    <tr>\n",
       "      <th>count</th>\n",
       "      <td>7032.000000</td>\n",
       "      <td>7032.000000</td>\n",
       "      <td>7032.000000</td>\n",
       "      <td>7032.000000</td>\n",
       "    </tr>\n",
       "    <tr>\n",
       "      <th>mean</th>\n",
       "      <td>0.162400</td>\n",
       "      <td>32.421786</td>\n",
       "      <td>64.798208</td>\n",
       "      <td>2283.300441</td>\n",
       "    </tr>\n",
       "    <tr>\n",
       "      <th>std</th>\n",
       "      <td>0.368844</td>\n",
       "      <td>24.545260</td>\n",
       "      <td>30.085974</td>\n",
       "      <td>2266.771362</td>\n",
       "    </tr>\n",
       "    <tr>\n",
       "      <th>min</th>\n",
       "      <td>0.000000</td>\n",
       "      <td>1.000000</td>\n",
       "      <td>18.250000</td>\n",
       "      <td>18.800000</td>\n",
       "    </tr>\n",
       "    <tr>\n",
       "      <th>25%</th>\n",
       "      <td>0.000000</td>\n",
       "      <td>9.000000</td>\n",
       "      <td>35.587500</td>\n",
       "      <td>401.450000</td>\n",
       "    </tr>\n",
       "    <tr>\n",
       "      <th>50%</th>\n",
       "      <td>0.000000</td>\n",
       "      <td>29.000000</td>\n",
       "      <td>70.350000</td>\n",
       "      <td>1397.475000</td>\n",
       "    </tr>\n",
       "    <tr>\n",
       "      <th>75%</th>\n",
       "      <td>0.000000</td>\n",
       "      <td>55.000000</td>\n",
       "      <td>89.862500</td>\n",
       "      <td>3794.737500</td>\n",
       "    </tr>\n",
       "    <tr>\n",
       "      <th>max</th>\n",
       "      <td>1.000000</td>\n",
       "      <td>72.000000</td>\n",
       "      <td>118.750000</td>\n",
       "      <td>8684.800000</td>\n",
       "    </tr>\n",
       "  </tbody>\n",
       "</table>\n",
       "</div>"
      ],
      "text/plain": [
       "       SeniorCitizen       tenure  MonthlyCharges  TotalCharges\n",
       "count    7032.000000  7032.000000     7032.000000   7032.000000\n",
       "mean        0.162400    32.421786       64.798208   2283.300441\n",
       "std         0.368844    24.545260       30.085974   2266.771362\n",
       "min         0.000000     1.000000       18.250000     18.800000\n",
       "25%         0.000000     9.000000       35.587500    401.450000\n",
       "50%         0.000000    29.000000       70.350000   1397.475000\n",
       "75%         0.000000    55.000000       89.862500   3794.737500\n",
       "max         1.000000    72.000000      118.750000   8684.800000"
      ]
     },
     "execution_count": 8,
     "metadata": {},
     "output_type": "execute_result"
    }
   ],
   "source": [
    "df_churn.describe()"
   ]
  },
  {
   "cell_type": "code",
   "execution_count": 9,
   "metadata": {},
   "outputs": [],
   "source": [
    "dum_churn=pd.get_dummies(df_churn['Churn'])"
   ]
  },
  {
   "cell_type": "code",
   "execution_count": 10,
   "metadata": {},
   "outputs": [
    {
     "data": {
      "text/html": [
       "<div>\n",
       "<style scoped>\n",
       "    .dataframe tbody tr th:only-of-type {\n",
       "        vertical-align: middle;\n",
       "    }\n",
       "\n",
       "    .dataframe tbody tr th {\n",
       "        vertical-align: top;\n",
       "    }\n",
       "\n",
       "    .dataframe thead th {\n",
       "        text-align: right;\n",
       "    }\n",
       "</style>\n",
       "<table border=\"1\" class=\"dataframe\">\n",
       "  <thead>\n",
       "    <tr style=\"text-align: right;\">\n",
       "      <th></th>\n",
       "      <th>No</th>\n",
       "      <th>Yes</th>\n",
       "    </tr>\n",
       "  </thead>\n",
       "  <tbody>\n",
       "    <tr>\n",
       "      <th>0</th>\n",
       "      <td>1</td>\n",
       "      <td>0</td>\n",
       "    </tr>\n",
       "    <tr>\n",
       "      <th>1</th>\n",
       "      <td>1</td>\n",
       "      <td>0</td>\n",
       "    </tr>\n",
       "    <tr>\n",
       "      <th>2</th>\n",
       "      <td>0</td>\n",
       "      <td>1</td>\n",
       "    </tr>\n",
       "    <tr>\n",
       "      <th>3</th>\n",
       "      <td>1</td>\n",
       "      <td>0</td>\n",
       "    </tr>\n",
       "    <tr>\n",
       "      <th>4</th>\n",
       "      <td>0</td>\n",
       "      <td>1</td>\n",
       "    </tr>\n",
       "    <tr>\n",
       "      <th>...</th>\n",
       "      <td>...</td>\n",
       "      <td>...</td>\n",
       "    </tr>\n",
       "    <tr>\n",
       "      <th>7038</th>\n",
       "      <td>1</td>\n",
       "      <td>0</td>\n",
       "    </tr>\n",
       "    <tr>\n",
       "      <th>7039</th>\n",
       "      <td>1</td>\n",
       "      <td>0</td>\n",
       "    </tr>\n",
       "    <tr>\n",
       "      <th>7040</th>\n",
       "      <td>1</td>\n",
       "      <td>0</td>\n",
       "    </tr>\n",
       "    <tr>\n",
       "      <th>7041</th>\n",
       "      <td>0</td>\n",
       "      <td>1</td>\n",
       "    </tr>\n",
       "    <tr>\n",
       "      <th>7042</th>\n",
       "      <td>1</td>\n",
       "      <td>0</td>\n",
       "    </tr>\n",
       "  </tbody>\n",
       "</table>\n",
       "<p>7032 rows × 2 columns</p>\n",
       "</div>"
      ],
      "text/plain": [
       "      No  Yes\n",
       "0      1    0\n",
       "1      1    0\n",
       "2      0    1\n",
       "3      1    0\n",
       "4      0    1\n",
       "...   ..  ...\n",
       "7038   1    0\n",
       "7039   1    0\n",
       "7040   1    0\n",
       "7041   0    1\n",
       "7042   1    0\n",
       "\n",
       "[7032 rows x 2 columns]"
      ]
     },
     "execution_count": 10,
     "metadata": {},
     "output_type": "execute_result"
    }
   ],
   "source": [
    "dum_churn"
   ]
  },
  {
   "cell_type": "code",
   "execution_count": 11,
   "metadata": {},
   "outputs": [
    {
     "data": {
      "text/plain": [
       "0    5163\n",
       "1    1869\n",
       "Name: Yes, dtype: int64"
      ]
     },
     "execution_count": 11,
     "metadata": {},
     "output_type": "execute_result"
    }
   ],
   "source": [
    "dum_churn['Yes'].value_counts()"
   ]
  },
  {
   "cell_type": "markdown",
   "metadata": {},
   "source": [
    "<b>Data Analysis"
   ]
  },
  {
   "cell_type": "code",
   "execution_count": 12,
   "metadata": {},
   "outputs": [],
   "source": [
    "import seaborn as sns\n",
    "import matplotlib.pyplot as plt"
   ]
  },
  {
   "cell_type": "markdown",
   "metadata": {},
   "source": [
    "colors = ['#191970','#001CF0','#0038E2','#0055D4','#0071C6','#008DB8','#00AAAA','#00C69C','#00E28E','#00FF80',]"
   ]
  },
  {
   "cell_type": "code",
   "execution_count": 13,
   "metadata": {},
   "outputs": [],
   "source": [
    "dfchurn=df_churn[df_churn.Churn=='Yes'] "
   ]
  },
  {
   "cell_type": "code",
   "execution_count": 14,
   "metadata": {},
   "outputs": [],
   "source": [
    "dfnochurn=df_churn[df_churn.Churn=='No'] "
   ]
  },
  {
   "cell_type": "code",
   "execution_count": 15,
   "metadata": {},
   "outputs": [
    {
     "data": {
      "image/png": "[encoded data removed]",
      "text/plain": [
       "<Figure size 432x288 with 1 Axes>"
      ]
     },
     "metadata": {},
     "output_type": "display_data"
    }
   ],
   "source": [
    "# Pie chart\n",
    "#colors\n",
    "colors = ['lightblue','orange']\n",
    "sizes=[5174,1869]\n",
    "labels=['Non_Churn','Churn']\n",
    "fig1, ax1 = plt.subplots()\n",
    "patches, texts, autotexts = ax1.pie(sizes,colors = colors, labels=labels, autopct='%1.1f%%', startangle=90)\n",
    "for text in texts:\n",
    "    text.set_color('black')\n",
    "for autotext in autotexts:\n",
    "    autotext.set_color('grey')\n",
    "# Equal aspect ratio ensures that pie is drawn as a circle\n",
    "ax1.axis('equal') \n",
    "plt.tight_layout()\n",
    "plt.show()"
   ]
  },
  {
   "cell_type": "markdown",
   "metadata": {},
   "source": [
    "## <b>1.1-How much is churn affecting the business?"
   ]
  },
  {
   "cell_type": "code",
   "execution_count": 16,
   "metadata": {},
   "outputs": [
    {
     "name": "stdout",
     "output_type": "stream",
     "text": [
      "Total charges 0\n"
     ]
    }
   ],
   "source": [
    "print('Total charges 0')"
   ]
  },
  {
   "cell_type": "code",
   "execution_count": 17,
   "metadata": {},
   "outputs": [],
   "source": [
    "df_relation=df_churn[['gender','SeniorCitizen','Partner','Dependents','PhoneService','MultipleLines','InternetService','OnlineSecurity','DeviceProtection','TechSupport','StreamingTV','StreamingMovies','Contract','PaperlessBilling','PaymentMethod','Churn']]"
   ]
  },
  {
   "cell_type": "code",
   "execution_count": 18,
   "metadata": {},
   "outputs": [
    {
     "data": {
      "text/html": [
       "<div>\n",
       "<style scoped>\n",
       "    .dataframe tbody tr th:only-of-type {\n",
       "        vertical-align: middle;\n",
       "    }\n",
       "\n",
       "    .dataframe tbody tr th {\n",
       "        vertical-align: top;\n",
       "    }\n",
       "\n",
       "    .dataframe thead th {\n",
       "        text-align: right;\n",
       "    }\n",
       "</style>\n",
       "<table border=\"1\" class=\"dataframe\">\n",
       "  <thead>\n",
       "    <tr style=\"text-align: right;\">\n",
       "      <th></th>\n",
       "      <th></th>\n",
       "      <th>customerID</th>\n",
       "      <th>SeniorCitizen</th>\n",
       "      <th>Partner</th>\n",
       "      <th>Dependents</th>\n",
       "      <th>tenure</th>\n",
       "      <th>PhoneService</th>\n",
       "      <th>MultipleLines</th>\n",
       "      <th>InternetService</th>\n",
       "      <th>OnlineSecurity</th>\n",
       "      <th>OnlineBackup</th>\n",
       "      <th>DeviceProtection</th>\n",
       "      <th>TechSupport</th>\n",
       "      <th>StreamingTV</th>\n",
       "      <th>StreamingMovies</th>\n",
       "      <th>Contract</th>\n",
       "      <th>PaperlessBilling</th>\n",
       "      <th>PaymentMethod</th>\n",
       "      <th>MonthlyCharges</th>\n",
       "      <th>TotalCharges</th>\n",
       "    </tr>\n",
       "    <tr>\n",
       "      <th>gender</th>\n",
       "      <th>Churn</th>\n",
       "      <th></th>\n",
       "      <th></th>\n",
       "      <th></th>\n",
       "      <th></th>\n",
       "      <th></th>\n",
       "      <th></th>\n",
       "      <th></th>\n",
       "      <th></th>\n",
       "      <th></th>\n",
       "      <th></th>\n",
       "      <th></th>\n",
       "      <th></th>\n",
       "      <th></th>\n",
       "      <th></th>\n",
       "      <th></th>\n",
       "      <th></th>\n",
       "      <th></th>\n",
       "      <th></th>\n",
       "      <th></th>\n",
       "    </tr>\n",
       "  </thead>\n",
       "  <tbody>\n",
       "    <tr>\n",
       "      <th rowspan=\"2\" valign=\"top\">Female</th>\n",
       "      <th>No</th>\n",
       "      <td>2544</td>\n",
       "      <td>2544</td>\n",
       "      <td>2544</td>\n",
       "      <td>2544</td>\n",
       "      <td>2544</td>\n",
       "      <td>2544</td>\n",
       "      <td>2544</td>\n",
       "      <td>2544</td>\n",
       "      <td>2544</td>\n",
       "      <td>2544</td>\n",
       "      <td>2544</td>\n",
       "      <td>2544</td>\n",
       "      <td>2544</td>\n",
       "      <td>2544</td>\n",
       "      <td>2544</td>\n",
       "      <td>2544</td>\n",
       "      <td>2544</td>\n",
       "      <td>2544</td>\n",
       "      <td>2544</td>\n",
       "    </tr>\n",
       "    <tr>\n",
       "      <th>Yes</th>\n",
       "      <td>939</td>\n",
       "      <td>939</td>\n",
       "      <td>939</td>\n",
       "      <td>939</td>\n",
       "      <td>939</td>\n",
       "      <td>939</td>\n",
       "      <td>939</td>\n",
       "      <td>939</td>\n",
       "      <td>939</td>\n",
       "      <td>939</td>\n",
       "      <td>939</td>\n",
       "      <td>939</td>\n",
       "      <td>939</td>\n",
       "      <td>939</td>\n",
       "      <td>939</td>\n",
       "      <td>939</td>\n",
       "      <td>939</td>\n",
       "      <td>939</td>\n",
       "      <td>939</td>\n",
       "    </tr>\n",
       "    <tr>\n",
       "      <th rowspan=\"2\" valign=\"top\">Male</th>\n",
       "      <th>No</th>\n",
       "      <td>2619</td>\n",
       "      <td>2619</td>\n",
       "      <td>2619</td>\n",
       "      <td>2619</td>\n",
       "      <td>2619</td>\n",
       "      <td>2619</td>\n",
       "      <td>2619</td>\n",
       "      <td>2619</td>\n",
       "      <td>2619</td>\n",
       "      <td>2619</td>\n",
       "      <td>2619</td>\n",
       "      <td>2619</td>\n",
       "      <td>2619</td>\n",
       "      <td>2619</td>\n",
       "      <td>2619</td>\n",
       "      <td>2619</td>\n",
       "      <td>2619</td>\n",
       "      <td>2619</td>\n",
       "      <td>2619</td>\n",
       "    </tr>\n",
       "    <tr>\n",
       "      <th>Yes</th>\n",
       "      <td>930</td>\n",
       "      <td>930</td>\n",
       "      <td>930</td>\n",
       "      <td>930</td>\n",
       "      <td>930</td>\n",
       "      <td>930</td>\n",
       "      <td>930</td>\n",
       "      <td>930</td>\n",
       "      <td>930</td>\n",
       "      <td>930</td>\n",
       "      <td>930</td>\n",
       "      <td>930</td>\n",
       "      <td>930</td>\n",
       "      <td>930</td>\n",
       "      <td>930</td>\n",
       "      <td>930</td>\n",
       "      <td>930</td>\n",
       "      <td>930</td>\n",
       "      <td>930</td>\n",
       "    </tr>\n",
       "  </tbody>\n",
       "</table>\n",
       "</div>"
      ],
      "text/plain": [
       "              customerID  SeniorCitizen  Partner  Dependents  tenure  \\\n",
       "gender Churn                                                           \n",
       "Female No           2544           2544     2544        2544    2544   \n",
       "       Yes           939            939      939         939     939   \n",
       "Male   No           2619           2619     2619        2619    2619   \n",
       "       Yes           930            930      930         930     930   \n",
       "\n",
       "              PhoneService  MultipleLines  InternetService  OnlineSecurity  \\\n",
       "gender Churn                                                                 \n",
       "Female No             2544           2544             2544            2544   \n",
       "       Yes             939            939              939             939   \n",
       "Male   No             2619           2619             2619            2619   \n",
       "       Yes             930            930              930             930   \n",
       "\n",
       "              OnlineBackup  DeviceProtection  TechSupport  StreamingTV  \\\n",
       "gender Churn                                                             \n",
       "Female No             2544              2544         2544         2544   \n",
       "       Yes             939               939          939          939   \n",
       "Male   No             2619              2619         2619         2619   \n",
       "       Yes             930               930          930          930   \n",
       "\n",
       "              StreamingMovies  Contract  PaperlessBilling  PaymentMethod  \\\n",
       "gender Churn                                                               \n",
       "Female No                2544      2544              2544           2544   \n",
       "       Yes                939       939               939            939   \n",
       "Male   No                2619      2619              2619           2619   \n",
       "       Yes                930       930               930            930   \n",
       "\n",
       "              MonthlyCharges  TotalCharges  \n",
       "gender Churn                                \n",
       "Female No               2544          2544  \n",
       "       Yes               939           939  \n",
       "Male   No               2619          2619  \n",
       "       Yes               930           930  "
      ]
     },
     "execution_count": 18,
     "metadata": {},
     "output_type": "execute_result"
    }
   ],
   "source": [
    "df_churn.groupby(['gender','Churn']).count()"
   ]
  },
  {
   "cell_type": "markdown",
   "metadata": {},
   "source": [
    "<b>gender"
   ]
  },
  {
   "cell_type": "code",
   "execution_count": 19,
   "metadata": {},
   "outputs": [],
   "source": [
    "dum_churn.rename(columns={'No':'No_churn','Yes':'churn'},inplace=True)\n",
    "dfb=pd.concat([dum_churn,df_relation],axis=1)\n",
    "#dfb.drop('Churn')"
   ]
  },
  {
   "cell_type": "code",
   "execution_count": 20,
   "metadata": {},
   "outputs": [
    {
     "data": {
      "text/plain": [
       "gender\n",
       "Female    939.0\n",
       "Male      930.0\n",
       "Name: churn, dtype: float64"
      ]
     },
     "execution_count": 20,
     "metadata": {},
     "output_type": "execute_result"
    }
   ],
   "source": [
    "dfb.groupby(['gender'])['churn'].sum()"
   ]
  },
  {
   "cell_type": "code",
   "execution_count": 115,
   "metadata": {
    "scrolled": true
   },
   "outputs": [
    {
     "data": {
      "image/png": "[encoded data removed]",
      "text/plain": [
       "<Figure size 432x288 with 1 Axes>"
      ]
     },
     "metadata": {
      "needs_background": "light"
     },
     "output_type": "display_data"
    }
   ],
   "source": [
    "ax = sns.countplot(y=\"gender\", hue=\"Churn\", data=df_churn)\n",
    "total = len(df_churn[\"gender\"])\n",
    "for p in ax.patches:\n",
    "        percentage = '{:.1f}%'.format(100 * p.get_width()/total)\n",
    "        x = p.get_x() + p.get_width()/2\n",
    "        y = p.get_y() + p.get_height()/2\n",
    "        ax.annotate(percentage, (x, y),fontsize=16,color=\"black\")\n"
   ]
  },
  {
   "cell_type": "code",
   "execution_count": 22,
   "metadata": {},
   "outputs": [
    {
     "name": "stdout",
     "output_type": "stream",
     "text": [
      "Client churn by gender\n"
     ]
    },
    {
     "data": {
      "text/plain": [
       "gender\n",
       "Female    939\n",
       "Male      930\n",
       "dtype: int64"
      ]
     },
     "execution_count": 22,
     "metadata": {},
     "output_type": "execute_result"
    }
   ],
   "source": [
    "anova_gender=dfchurn[['gender','Churn']]\n",
    "ggrp=anova_gender.groupby(['gender']).size()\n",
    "print('Client churn by gender')\n",
    "ggrp"
   ]
  },
  {
   "cell_type": "code",
   "execution_count": null,
   "metadata": {},
   "outputs": [],
   "source": []
  },
  {
   "cell_type": "markdown",
   "metadata": {},
   "source": [
    "<b>Senior Citizen"
   ]
  },
  {
   "cell_type": "code",
   "execution_count": 23,
   "metadata": {},
   "outputs": [
    {
     "data": {
      "text/html": [
       "<div>\n",
       "<style scoped>\n",
       "    .dataframe tbody tr th:only-of-type {\n",
       "        vertical-align: middle;\n",
       "    }\n",
       "\n",
       "    .dataframe tbody tr th {\n",
       "        vertical-align: top;\n",
       "    }\n",
       "\n",
       "    .dataframe thead tr th {\n",
       "        text-align: left;\n",
       "    }\n",
       "\n",
       "    .dataframe thead tr:last-of-type th {\n",
       "        text-align: right;\n",
       "    }\n",
       "</style>\n",
       "<table border=\"1\" class=\"dataframe\">\n",
       "  <thead>\n",
       "    <tr>\n",
       "      <th></th>\n",
       "      <th colspan=\"2\" halign=\"left\">SeniorCitizen</th>\n",
       "    </tr>\n",
       "    <tr>\n",
       "      <th>Churn</th>\n",
       "      <th>No</th>\n",
       "      <th>Yes</th>\n",
       "    </tr>\n",
       "    <tr>\n",
       "      <th>gender</th>\n",
       "      <th></th>\n",
       "      <th></th>\n",
       "    </tr>\n",
       "  </thead>\n",
       "  <tbody>\n",
       "    <tr>\n",
       "      <th>Female</th>\n",
       "      <td>328</td>\n",
       "      <td>240</td>\n",
       "    </tr>\n",
       "    <tr>\n",
       "      <th>Male</th>\n",
       "      <td>338</td>\n",
       "      <td>236</td>\n",
       "    </tr>\n",
       "  </tbody>\n",
       "</table>\n",
       "</div>"
      ],
      "text/plain": [
       "       SeniorCitizen     \n",
       "Churn             No  Yes\n",
       "gender                   \n",
       "Female           328  240\n",
       "Male             338  236"
      ]
     },
     "execution_count": 23,
     "metadata": {},
     "output_type": "execute_result"
    }
   ],
   "source": [
    "df_grp=df_relation.groupby(['gender','Churn'],as_index=False).sum()\n",
    "df_pivotg=df_grp.pivot(index='gender',columns='Churn')\n",
    "df_pivotg"
   ]
  },
  {
   "cell_type": "code",
   "execution_count": 24,
   "metadata": {},
   "outputs": [
    {
     "name": "stdout",
     "output_type": "stream",
     "text": [
      "Client churn by SeniorCitizen\n"
     ]
    },
    {
     "data": {
      "text/plain": [
       "SeniorCitizen\n",
       "0    1393\n",
       "1     476\n",
       "dtype: int64"
      ]
     },
     "execution_count": 24,
     "metadata": {},
     "output_type": "execute_result"
    }
   ],
   "source": [
    "anova_sc=dfchurn[['SeniorCitizen','Churn']]\n",
    "scgrp=anova_sc.groupby(['SeniorCitizen']).size()\n",
    "print('Client churn by SeniorCitizen')\n",
    "scgrp"
   ]
  },
  {
   "cell_type": "code",
   "execution_count": 114,
   "metadata": {},
   "outputs": [
    {
     "data": {
      "image/png": "[encoded data removed]",
      "text/plain": [
       "<Figure size 432x288 with 1 Axes>"
      ]
     },
     "metadata": {
      "needs_background": "light"
     },
     "output_type": "display_data"
    }
   ],
   "source": [
    "ax = sns.countplot(y=\"SeniorCitizen\", hue=\"Churn\", data=df_churn)\n",
    "for p in ax.patches:\n",
    "        percentage = '{:.1f}%'.format(100 * p.get_width()/total)\n",
    "        x = p.get_x() + p.get_width()/2\n",
    "        y = p.get_y() + p.get_height()/2\n",
    "        ax.annotate(percentage, (x, y),fontsize=16,color=\"black\")"
   ]
  },
  {
   "cell_type": "markdown",
   "metadata": {},
   "source": [
    "<b>Partner"
   ]
  },
  {
   "cell_type": "code",
   "execution_count": 113,
   "metadata": {},
   "outputs": [
    {
     "data": {
      "image/png": "[encoded data removed]",
      "text/plain": [
       "<Figure size 432x288 with 1 Axes>"
      ]
     },
     "metadata": {
      "needs_background": "light"
     },
     "output_type": "display_data"
    }
   ],
   "source": [
    "ax = sns.countplot(y=\"Partner\", hue=\"Churn\", data=df_churn)\n",
    "for p in ax.patches:\n",
    "        percentage = '{:.1f}%'.format(100 * p.get_width()/total)\n",
    "        x = p.get_x() + p.get_width()/2\n",
    "        y = p.get_y() + p.get_height()/2\n",
    "        ax.annotate(percentage, (x, y),fontsize=16,color=\"black\")"
   ]
  },
  {
   "cell_type": "code",
   "execution_count": 27,
   "metadata": {},
   "outputs": [
    {
     "name": "stdout",
     "output_type": "stream",
     "text": [
      "Client churn by partner\n"
     ]
    },
    {
     "data": {
      "text/plain": [
       "Partner\n",
       "No     1200\n",
       "Yes     669\n",
       "dtype: int64"
      ]
     },
     "execution_count": 27,
     "metadata": {},
     "output_type": "execute_result"
    }
   ],
   "source": [
    "anova_partner=dfchurn[['Partner','Churn']]\n",
    "pgrp=anova_partner.groupby(['Partner']).size()\n",
    "print('Client churn by partner')\n",
    "pgrp"
   ]
  },
  {
   "cell_type": "markdown",
   "metadata": {},
   "source": [
    "<b>Dependents"
   ]
  },
  {
   "cell_type": "code",
   "execution_count": 28,
   "metadata": {},
   "outputs": [
    {
     "name": "stdout",
     "output_type": "stream",
     "text": [
      "Client churn by Dependents\n"
     ]
    },
    {
     "data": {
      "text/plain": [
       "Dependents\n",
       "No     1543\n",
       "Yes     326\n",
       "dtype: int64"
      ]
     },
     "execution_count": 28,
     "metadata": {},
     "output_type": "execute_result"
    }
   ],
   "source": [
    "anova_Dependents=dfchurn[['Dependents','Churn']]\n",
    "dgrp=anova_Dependents.groupby(['Dependents']).size()\n",
    "print('Client churn by Dependents')\n",
    "dgrp"
   ]
  },
  {
   "cell_type": "code",
   "execution_count": 29,
   "metadata": {},
   "outputs": [
    {
     "data": {
      "image/png": "[encoded data removed]",
      "text/plain": [
       "<Figure size 432x288 with 1 Axes>"
      ]
     },
     "metadata": {
      "needs_background": "light"
     },
     "output_type": "display_data"
    }
   ],
   "source": [
    "ax = sns.countplot(y=\"Dependents\", hue=\"Churn\", data=df_churn)\n",
    "for p in ax.patches:\n",
    "        percentage = '{:.1f}%'.format(100 * p.get_width()/total)\n",
    "        x = p.get_x() + p.get_width()/2\n",
    "        y = p.get_y() + p.get_height()/2\n",
    "        ax.annotate(percentage, (x, y),fontsize=16,color=\"black\")"
   ]
  },
  {
   "cell_type": "markdown",
   "metadata": {},
   "source": [
    "<b>Phone Service"
   ]
  },
  {
   "cell_type": "code",
   "execution_count": 30,
   "metadata": {},
   "outputs": [
    {
     "data": {
      "image/png": "[encoded data removed]",
      "text/plain": [
       "<Figure size 432x288 with 1 Axes>"
      ]
     },
     "metadata": {
      "needs_background": "light"
     },
     "output_type": "display_data"
    }
   ],
   "source": [
    "ax = sns.countplot(y=\"PhoneService\", hue=\"Churn\", data=df_churn)\n",
    "for p in ax.patches:\n",
    "        percentage = '{:.1f}%'.format(100 * p.get_width()/total)\n",
    "        x = p.get_x() + p.get_width()/2\n",
    "        y = p.get_y() + p.get_height()/2\n",
    "        ax.annotate(percentage, (x, y),fontsize=16,color=\"black\")"
   ]
  },
  {
   "cell_type": "markdown",
   "metadata": {},
   "source": [
    "<b>MultipleLines"
   ]
  },
  {
   "cell_type": "code",
   "execution_count": 31,
   "metadata": {},
   "outputs": [
    {
     "data": {
      "image/png": "[encoded data removed]",
      "text/plain": [
       "<Figure size 432x288 with 1 Axes>"
      ]
     },
     "metadata": {
      "needs_background": "light"
     },
     "output_type": "display_data"
    }
   ],
   "source": [
    "ax = sns.countplot(y=\"MultipleLines\", hue=\"Churn\", data=df_churn)\n",
    "for p in ax.patches:\n",
    "        percentage = '{:.1f}%'.format(100 * p.get_width()/total)\n",
    "        x = p.get_x() + p.get_width()/2\n",
    "        y = p.get_y() + p.get_height()/2\n",
    "        ax.annotate(percentage, (x, y),fontsize=16,color=\"black\")"
   ]
  },
  {
   "cell_type": "markdown",
   "metadata": {},
   "source": [
    "<b>InternetService"
   ]
  },
  {
   "cell_type": "code",
   "execution_count": 32,
   "metadata": {},
   "outputs": [
    {
     "data": {
      "image/png": "[encoded data removed]",
      "text/plain": [
       "<Figure size 432x288 with 1 Axes>"
      ]
     },
     "metadata": {
      "needs_background": "light"
     },
     "output_type": "display_data"
    }
   ],
   "source": [
    "ax = sns.countplot(y=\"InternetService\", hue=\"Churn\", data=df_churn)\n",
    "for p in ax.patches:\n",
    "        percentage = '{:.1f}%'.format(100 * p.get_width()/total)\n",
    "        x = p.get_x() + p.get_width()/2\n",
    "        y = p.get_y() + p.get_height()/2\n",
    "        ax.annotate(percentage, (x, y),fontsize=16,color=\"black\")"
   ]
  },
  {
   "cell_type": "markdown",
   "metadata": {},
   "source": [
    "<b>OnlineSecurity"
   ]
  },
  {
   "cell_type": "code",
   "execution_count": 33,
   "metadata": {},
   "outputs": [
    {
     "data": {
      "image/png": "[encoded data removed]",
      "text/plain": [
       "<Figure size 432x288 with 1 Axes>"
      ]
     },
     "metadata": {
      "needs_background": "light"
     },
     "output_type": "display_data"
    }
   ],
   "source": [
    "ax = sns.countplot(y=\"OnlineSecurity\", hue=\"Churn\", data=df_churn)\n",
    "for p in ax.patches:\n",
    "        percentage = '{:.1f}%'.format(100 * p.get_width()/total)\n",
    "        x = p.get_x() + p.get_width()/2\n",
    "        y = p.get_y() + p.get_height()/2\n",
    "        ax.annotate(percentage, (x, y),fontsize=16,color=\"black\")"
   ]
  },
  {
   "cell_type": "markdown",
   "metadata": {},
   "source": [
    "<b>OnlineBackup"
   ]
  },
  {
   "cell_type": "code",
   "execution_count": 34,
   "metadata": {},
   "outputs": [
    {
     "data": {
      "image/png": "[encoded data removed]",
      "text/plain": [
       "<Figure size 432x288 with 1 Axes>"
      ]
     },
     "metadata": {
      "needs_background": "light"
     },
     "output_type": "display_data"
    }
   ],
   "source": [
    "ax = sns.countplot(y=\"OnlineBackup\", hue=\"Churn\", data=df_churn)\n",
    "for p in ax.patches:\n",
    "        percentage = '{:.1f}%'.format(100 * p.get_width()/total)\n",
    "        x = p.get_x() + p.get_width()/2\n",
    "        y = p.get_y() + p.get_height()/2\n",
    "        ax.annotate(percentage, (x, y),fontsize=16,color=\"black\")"
   ]
  },
  {
   "cell_type": "markdown",
   "metadata": {},
   "source": [
    "<b>DeviceProtection"
   ]
  },
  {
   "cell_type": "code",
   "execution_count": 35,
   "metadata": {},
   "outputs": [
    {
     "data": {
      "image/png": "[encoded data removed]",
      "text/plain": [
       "<Figure size 432x288 with 1 Axes>"
      ]
     },
     "metadata": {
      "needs_background": "light"
     },
     "output_type": "display_data"
    }
   ],
   "source": [
    "ax = sns.countplot(y=\"DeviceProtection\", hue=\"Churn\", data=df_churn)\n",
    "for p in ax.patches:\n",
    "        percentage = '{:.1f}%'.format(100 * p.get_width()/total)\n",
    "        x = p.get_x() + p.get_width()/2\n",
    "        y = p.get_y() + p.get_height()/2\n",
    "        ax.annotate(percentage, (x, y),fontsize=16,color=\"black\")"
   ]
  },
  {
   "cell_type": "markdown",
   "metadata": {},
   "source": [
    "<b>TechSupport"
   ]
  },
  {
   "cell_type": "code",
   "execution_count": 36,
   "metadata": {},
   "outputs": [
    {
     "data": {
      "image/png": "[encoded data removed]",
      "text/plain": [
       "<Figure size 432x288 with 1 Axes>"
      ]
     },
     "metadata": {
      "needs_background": "light"
     },
     "output_type": "display_data"
    }
   ],
   "source": [
    "ax = sns.countplot(y=\"TechSupport\", hue=\"Churn\", data=df_churn)\n",
    "for p in ax.patches:\n",
    "        percentage = '{:.1f}%'.format(100 * p.get_width()/total)\n",
    "        x = p.get_x() + p.get_width()/2\n",
    "        y = p.get_y() + p.get_height()/2\n",
    "        ax.annotate(percentage, (x, y),fontsize=16,color=\"black\")"
   ]
  },
  {
   "cell_type": "markdown",
   "metadata": {},
   "source": [
    "<b>StreamingTV"
   ]
  },
  {
   "cell_type": "code",
   "execution_count": 37,
   "metadata": {},
   "outputs": [
    {
     "data": {
      "image/png": "[encoded data removed]",
      "text/plain": [
       "<Figure size 432x288 with 1 Axes>"
      ]
     },
     "metadata": {
      "needs_background": "light"
     },
     "output_type": "display_data"
    }
   ],
   "source": [
    "ax = sns.countplot(y=\"StreamingTV\", hue=\"Churn\", data=df_churn)\n",
    "for p in ax.patches:\n",
    "        percentage = '{:.1f}%'.format(100 * p.get_width()/total)\n",
    "        x = p.get_x() + p.get_width()/2\n",
    "        y = p.get_y() + p.get_height()/2\n",
    "        ax.annotate(percentage, (x, y),fontsize=16,color=\"black\")"
   ]
  },
  {
   "cell_type": "markdown",
   "metadata": {},
   "source": [
    "<b>StreamingMovies"
   ]
  },
  {
   "cell_type": "code",
   "execution_count": 38,
   "metadata": {},
   "outputs": [
    {
     "data": {
      "image/png": "[encoded data removed]",
      "text/plain": [
       "<Figure size 432x288 with 1 Axes>"
      ]
     },
     "metadata": {
      "needs_background": "light"
     },
     "output_type": "display_data"
    }
   ],
   "source": [
    "ax = sns.countplot(y=\"StreamingMovies\", hue=\"Churn\", data=df_churn)\n",
    "for p in ax.patches:\n",
    "        percentage = '{:.1f}%'.format(100 * p.get_width()/total)\n",
    "        x = p.get_x() + p.get_width()/2\n",
    "        y = p.get_y() + p.get_height()/2\n",
    "        ax.annotate(percentage, (x, y),fontsize=16,color=\"black\")"
   ]
  },
  {
   "cell_type": "markdown",
   "metadata": {},
   "source": [
    "<b>Contract"
   ]
  },
  {
   "cell_type": "code",
   "execution_count": 39,
   "metadata": {},
   "outputs": [
    {
     "data": {
      "image/png": "[encoded data removed]",
      "text/plain": [
       "<Figure size 432x288 with 1 Axes>"
      ]
     },
     "metadata": {
      "needs_background": "light"
     },
     "output_type": "display_data"
    }
   ],
   "source": [
    "ax = sns.countplot(y=\"Contract\", hue=\"Churn\", data=df_churn)\n",
    "for p in ax.patches:\n",
    "        percentage = '{:.1f}%'.format(100 * p.get_width()/total)\n",
    "        x = p.get_x() + p.get_width()/2\n",
    "        y = p.get_y() + p.get_height()/2\n",
    "        ax.annotate(percentage, (x, y),fontsize=16,color=\"black\")"
   ]
  },
  {
   "cell_type": "markdown",
   "metadata": {},
   "source": [
    "<b>PaperlessBilling"
   ]
  },
  {
   "cell_type": "code",
   "execution_count": 40,
   "metadata": {},
   "outputs": [
    {
     "data": {
      "image/png": "[encoded data removed]",
      "text/plain": [
       "<Figure size 432x288 with 1 Axes>"
      ]
     },
     "metadata": {
      "needs_background": "light"
     },
     "output_type": "display_data"
    }
   ],
   "source": [
    "ax = sns.countplot(y=\"PaperlessBilling\", hue=\"Churn\", data=df_churn)\n",
    "for p in ax.patches:\n",
    "        percentage = '{:.1f}%'.format(100 * p.get_width()/total)\n",
    "        x = p.get_x() + p.get_width()/2\n",
    "        y = p.get_y() + p.get_height()/2\n",
    "        ax.annotate(percentage, (x, y),fontsize=16,color=\"black\")"
   ]
  },
  {
   "cell_type": "markdown",
   "metadata": {},
   "source": [
    "<b>PaymentMethod"
   ]
  },
  {
   "cell_type": "code",
   "execution_count": 41,
   "metadata": {},
   "outputs": [
    {
     "data": {
      "image/png": "[encoded data removed]",
      "text/plain": [
       "<Figure size 432x288 with 1 Axes>"
      ]
     },
     "metadata": {
      "needs_background": "light"
     },
     "output_type": "display_data"
    }
   ],
   "source": [
    "ax = sns.countplot(y=\"PaymentMethod\", hue=\"Churn\", data=df_churn)\n",
    "for p in ax.patches:\n",
    "        percentage = '{:.1f}%'.format(100 * p.get_width()/total)\n",
    "        x = p.get_x() + p.get_width()/2\n",
    "        y = p.get_y() + p.get_height()/2\n",
    "        ax.annotate(percentage, (x, y),fontsize=16,color=\"black\")"
   ]
  },
  {
   "cell_type": "markdown",
   "metadata": {},
   "source": [
    "<b>tenure"
   ]
  },
  {
   "cell_type": "code",
   "execution_count": 42,
   "metadata": {},
   "outputs": [
    {
     "data": {
      "text/plain": [
       "<matplotlib.axes._subplots.AxesSubplot at 0x216ead95ec8>"
      ]
     },
     "execution_count": 42,
     "metadata": {},
     "output_type": "execute_result"
    },
    {
     "data": {
      "image/png": "[encoded data removed]",
      "text/plain": [
       "<Figure size 432x288 with 1 Axes>"
      ]
     },
     "metadata": {
      "needs_background": "light"
     },
     "output_type": "display_data"
    }
   ],
   "source": [
    "#ax1=sns.distplot(df_churn['Churn'],hist=False,color='r',label='Churn')\n",
    "sns.distplot(df_churn['tenure'],hist=False,color='b',label='tenure')"
   ]
  },
  {
   "cell_type": "code",
   "execution_count": 43,
   "metadata": {},
   "outputs": [
    {
     "data": {
      "text/plain": [
       "count    7032.000000\n",
       "mean       32.421786\n",
       "std        24.545260\n",
       "min         1.000000\n",
       "25%         9.000000\n",
       "50%        29.000000\n",
       "75%        55.000000\n",
       "max        72.000000\n",
       "Name: tenure, dtype: float64"
      ]
     },
     "execution_count": 43,
     "metadata": {},
     "output_type": "execute_result"
    }
   ],
   "source": [
    "df_churn['tenure'].describe()"
   ]
  },
  {
   "cell_type": "code",
   "execution_count": 44,
   "metadata": {},
   "outputs": [
    {
     "data": {
      "text/plain": [
       "Text(0.5, 1.0, 'tenure distribution by Churn')"
      ]
     },
     "execution_count": 44,
     "metadata": {},
     "output_type": "execute_result"
    },
    {
     "data": {
      "image/png": "[encoded data removed]",
      "text/plain": [
       "<Figure size 432x288 with 1 Axes>"
      ]
     },
     "metadata": {
      "needs_background": "light"
     },
     "output_type": "display_data"
    }
   ],
   "source": [
    "ax = sns.kdeplot(df_churn.tenure[(df_churn[\"Churn\"] == 'No') ],\n",
    "                color=\"Blue\", shade = True)\n",
    "ax = sns.kdeplot(df_churn.tenure[(df_churn[\"Churn\"] == 'Yes') ],\n",
    "                ax =ax, color=\"Red\", shade= True)\n",
    "ax.legend([\"Not Churn\",\"Churn\"], loc='upper right')\n",
    "ax.set_ylabel('Density')\n",
    "ax.set_xlabel('tenure')\n",
    "ax.set_title('tenure distribution by Churn')"
   ]
  },
  {
   "cell_type": "markdown",
   "metadata": {},
   "source": [
    "<b>Monthly Charges"
   ]
  },
  {
   "cell_type": "code",
   "execution_count": 45,
   "metadata": {},
   "outputs": [
    {
     "data": {
      "text/plain": [
       "<matplotlib.axes._subplots.AxesSubplot at 0x216eaea6448>"
      ]
     },
     "execution_count": 45,
     "metadata": {},
     "output_type": "execute_result"
    },
    {
     "data": {
      "image/png": "[encoded data removed]",
      "text/plain": [
       "<Figure size 432x288 with 1 Axes>"
      ]
     },
     "metadata": {
      "needs_background": "light"
     },
     "output_type": "display_data"
    }
   ],
   "source": [
    "sns.distplot(df_churn['MonthlyCharges'],hist=False,color='b',label='tenure')"
   ]
  },
  {
   "cell_type": "code",
   "execution_count": 46,
   "metadata": {},
   "outputs": [
    {
     "data": {
      "text/plain": [
       "count    7032.000000\n",
       "mean       64.798208\n",
       "std        30.085974\n",
       "min        18.250000\n",
       "25%        35.587500\n",
       "50%        70.350000\n",
       "75%        89.862500\n",
       "max       118.750000\n",
       "Name: MonthlyCharges, dtype: float64"
      ]
     },
     "execution_count": 46,
     "metadata": {},
     "output_type": "execute_result"
    }
   ],
   "source": [
    "df_churn['MonthlyCharges'].describe()"
   ]
  },
  {
   "cell_type": "code",
   "execution_count": 47,
   "metadata": {},
   "outputs": [
    {
     "name": "stdout",
     "output_type": "stream",
     "text": [
      "Monthly Charges for churner\n"
     ]
    },
    {
     "data": {
      "text/plain": [
       "count    1869.000000\n",
       "mean       74.441332\n",
       "std        24.666053\n",
       "min        18.850000\n",
       "25%        56.150000\n",
       "50%        79.650000\n",
       "75%        94.200000\n",
       "max       118.350000\n",
       "Name: MonthlyCharges, dtype: float64"
      ]
     },
     "execution_count": 47,
     "metadata": {},
     "output_type": "execute_result"
    }
   ],
   "source": [
    "print('Monthly Charges for churner')\n",
    "dfchurn['MonthlyCharges'].describe()"
   ]
  },
  {
   "cell_type": "code",
   "execution_count": 48,
   "metadata": {},
   "outputs": [
    {
     "data": {
      "text/plain": [
       "Text(0.5, 1.0, 'Monthly distribution by Churn')"
      ]
     },
     "execution_count": 48,
     "metadata": {},
     "output_type": "execute_result"
    },
    {
     "data": {
      "image/png": "[encoded data removed]",
      "text/plain": [
       "<Figure size 432x288 with 1 Axes>"
      ]
     },
     "metadata": {
      "needs_background": "light"
     },
     "output_type": "display_data"
    }
   ],
   "source": [
    "ax = sns.kdeplot(df_churn.MonthlyCharges[(df_churn[\"Churn\"] == 'No') ],\n",
    "                color=\"Blue\", shade = True)\n",
    "ax = sns.kdeplot(df_churn.MonthlyCharges[(df_churn[\"Churn\"] == 'Yes') ],\n",
    "                ax =ax, color=\"Red\", shade= True)\n",
    "ax.legend([\"Not Churn\",\"Churn\"], loc='upper right')\n",
    "ax.set_ylabel('Density')\n",
    "ax.set_xlabel('Monthly Charges')\n",
    "ax.set_title('Monthly distribution by Churn')"
   ]
  },
  {
   "cell_type": "code",
   "execution_count": 49,
   "metadata": {},
   "outputs": [
    {
     "name": "stdout",
     "output_type": "stream",
     "text": [
      "Monthly Charges for no_churner\n"
     ]
    },
    {
     "data": {
      "text/plain": [
       "count    5163.000000\n",
       "mean       61.307408\n",
       "std        31.094557\n",
       "min        18.250000\n",
       "25%        25.100000\n",
       "50%        64.450000\n",
       "75%        88.475000\n",
       "max       118.750000\n",
       "Name: MonthlyCharges, dtype: float64"
      ]
     },
     "execution_count": 49,
     "metadata": {},
     "output_type": "execute_result"
    }
   ],
   "source": [
    "print('Monthly Charges for no_churner')\n",
    "dfnochurn['MonthlyCharges'].describe()"
   ]
  },
  {
   "cell_type": "code",
   "execution_count": 50,
   "metadata": {},
   "outputs": [
    {
     "data": {
      "text/html": [
       "<div>\n",
       "<style scoped>\n",
       "    .dataframe tbody tr th:only-of-type {\n",
       "        vertical-align: middle;\n",
       "    }\n",
       "\n",
       "    .dataframe tbody tr th {\n",
       "        vertical-align: top;\n",
       "    }\n",
       "\n",
       "    .dataframe thead th {\n",
       "        text-align: right;\n",
       "    }\n",
       "</style>\n",
       "<table border=\"1\" class=\"dataframe\">\n",
       "  <thead>\n",
       "    <tr style=\"text-align: right;\">\n",
       "      <th></th>\n",
       "      <th>MonthlyCharges</th>\n",
       "    </tr>\n",
       "    <tr>\n",
       "      <th>Churn</th>\n",
       "      <th></th>\n",
       "    </tr>\n",
       "  </thead>\n",
       "  <tbody>\n",
       "    <tr>\n",
       "      <th>No</th>\n",
       "      <td>69.47</td>\n",
       "    </tr>\n",
       "    <tr>\n",
       "      <th>Yes</th>\n",
       "      <td>30.53</td>\n",
       "    </tr>\n",
       "  </tbody>\n",
       "</table>\n",
       "</div>"
      ],
      "text/plain": [
       "       MonthlyCharges\n",
       "Churn                \n",
       "No              69.47\n",
       "Yes             30.53"
      ]
     },
     "execution_count": 50,
     "metadata": {},
     "output_type": "execute_result"
    }
   ],
   "source": [
    "dfmonthly=df_churn[['MonthlyCharges','Churn']]\n",
    "monthlygroup=dfmonthly.groupby(['Churn']).MonthlyCharges.sum().to_frame()/ dfmonthly.MonthlyCharges.sum()\n",
    "np.round(100*monthlygroup,2)"
   ]
  },
  {
   "cell_type": "code",
   "execution_count": 51,
   "metadata": {},
   "outputs": [
    {
     "data": {
      "image/png": "[encoded data removed]",
      "text/plain": [
       "<Figure size 432x288 with 1 Axes>"
      ]
     },
     "metadata": {},
     "output_type": "display_data"
    }
   ],
   "source": [
    "colors = ['lightblue','orange']\n",
    "sizes=[69.47,30.53]\n",
    "labels=['Non_Churn','Churn']\n",
    "fig1, ax1 = plt.subplots()\n",
    "patches, texts, autotexts = ax1.pie(sizes,colors = colors, labels=labels, autopct='%1.1f%%', startangle=90)\n",
    "for text in texts:\n",
    "    text.set_color('black')\n",
    "for autotext in autotexts:\n",
    "    autotext.set_color('grey')\n",
    "# Equal aspect ratio ensures that pie is drawn as a circle\n",
    "ax1.axis('equal') \n",
    "plt.tight_layout()\n",
    "plt.show()"
   ]
  },
  {
   "cell_type": "markdown",
   "metadata": {
    "scrolled": false
   },
   "source": [
    "<b>TotalCharges"
   ]
  },
  {
   "cell_type": "code",
   "execution_count": 52,
   "metadata": {},
   "outputs": [
    {
     "data": {
      "text/plain": [
       "<matplotlib.axes._subplots.AxesSubplot at 0x216e98c5048>"
      ]
     },
     "execution_count": 52,
     "metadata": {},
     "output_type": "execute_result"
    },
    {
     "data": {
      "image/png": "[encoded data removed]",
      "text/plain": [
       "<Figure size 432x288 with 1 Axes>"
      ]
     },
     "metadata": {
      "needs_background": "light"
     },
     "output_type": "display_data"
    }
   ],
   "source": [
    "sns.distplot(df_churn['TotalCharges'],hist=False,color='b',label='Total Charges')"
   ]
  },
  {
   "cell_type": "code",
   "execution_count": 53,
   "metadata": {},
   "outputs": [
    {
     "data": {
      "text/plain": [
       "count    7032.000000\n",
       "mean     2283.300441\n",
       "std      2266.771362\n",
       "min        18.800000\n",
       "25%       401.450000\n",
       "50%      1397.475000\n",
       "75%      3794.737500\n",
       "max      8684.800000\n",
       "Name: TotalCharges, dtype: float64"
      ]
     },
     "execution_count": 53,
     "metadata": {},
     "output_type": "execute_result"
    }
   ],
   "source": [
    "df_churn['TotalCharges'].describe()"
   ]
  },
  {
   "cell_type": "code",
   "execution_count": 54,
   "metadata": {},
   "outputs": [
    {
     "name": "stdout",
     "output_type": "stream",
     "text": [
      "Total Charges for churner\n"
     ]
    },
    {
     "data": {
      "text/plain": [
       "count    1869.000000\n",
       "mean     1531.796094\n",
       "std      1890.822994\n",
       "min        18.850000\n",
       "25%       134.500000\n",
       "50%       703.550000\n",
       "75%      2331.300000\n",
       "max      8684.800000\n",
       "Name: TotalCharges, dtype: float64"
      ]
     },
     "execution_count": 54,
     "metadata": {},
     "output_type": "execute_result"
    }
   ],
   "source": [
    "print('Total Charges for churner')\n",
    "dfchurn['TotalCharges'].describe()"
   ]
  },
  {
   "cell_type": "code",
   "execution_count": 55,
   "metadata": {},
   "outputs": [
    {
     "name": "stdout",
     "output_type": "stream",
     "text": [
      "Total Charges for no_churner\n"
     ]
    },
    {
     "data": {
      "text/plain": [
       "count    5163.000000\n",
       "mean     2555.344141\n",
       "std      2329.456984\n",
       "min        18.800000\n",
       "25%       577.825000\n",
       "50%      1683.600000\n",
       "75%      4264.125000\n",
       "max      8672.450000\n",
       "Name: TotalCharges, dtype: float64"
      ]
     },
     "execution_count": 55,
     "metadata": {},
     "output_type": "execute_result"
    }
   ],
   "source": [
    "print('Total Charges for no_churner')\n",
    "dfnochurn['TotalCharges'].describe()"
   ]
  },
  {
   "cell_type": "code",
   "execution_count": 56,
   "metadata": {},
   "outputs": [
    {
     "data": {
      "text/html": [
       "<div>\n",
       "<style scoped>\n",
       "    .dataframe tbody tr th:only-of-type {\n",
       "        vertical-align: middle;\n",
       "    }\n",
       "\n",
       "    .dataframe tbody tr th {\n",
       "        vertical-align: top;\n",
       "    }\n",
       "\n",
       "    .dataframe thead th {\n",
       "        text-align: right;\n",
       "    }\n",
       "</style>\n",
       "<table border=\"1\" class=\"dataframe\">\n",
       "  <thead>\n",
       "    <tr style=\"text-align: right;\">\n",
       "      <th></th>\n",
       "      <th>TotalCharges</th>\n",
       "    </tr>\n",
       "    <tr>\n",
       "      <th>Churn</th>\n",
       "      <th></th>\n",
       "    </tr>\n",
       "  </thead>\n",
       "  <tbody>\n",
       "    <tr>\n",
       "      <th>No</th>\n",
       "      <td>82.17</td>\n",
       "    </tr>\n",
       "    <tr>\n",
       "      <th>Yes</th>\n",
       "      <td>17.83</td>\n",
       "    </tr>\n",
       "  </tbody>\n",
       "</table>\n",
       "</div>"
      ],
      "text/plain": [
       "       TotalCharges\n",
       "Churn              \n",
       "No            82.17\n",
       "Yes           17.83"
      ]
     },
     "execution_count": 56,
     "metadata": {},
     "output_type": "execute_result"
    }
   ],
   "source": [
    "dftotal=df_churn[['TotalCharges','Churn']]\n",
    "totalgroup=dftotal.groupby(['Churn']).TotalCharges.sum().to_frame()/ dftotal.TotalCharges.sum()\n",
    "np.round(100*totalgroup,2)"
   ]
  },
  {
   "cell_type": "code",
   "execution_count": 57,
   "metadata": {},
   "outputs": [
    {
     "data": {
      "image/png": "[encoded data removed]",
      "text/plain": [
       "<Figure size 432x288 with 1 Axes>"
      ]
     },
     "metadata": {},
     "output_type": "display_data"
    }
   ],
   "source": [
    "colors = ['lightblue','orange']\n",
    "sizes=[82.17,17.83]\n",
    "labels=['Non_Churn','Churn']\n",
    "fig1, ax1 = plt.subplots()\n",
    "patches, texts, autotexts = ax1.pie(sizes,colors = colors, labels=labels, autopct='%1.1f%%', startangle=90)\n",
    "for text in texts:\n",
    "    text.set_color('black')\n",
    "for autotext in autotexts:\n",
    "    autotext.set_color('grey')\n",
    "# Equal aspect ratio ensures that pie is drawn as a circle\n",
    "ax1.axis('equal') \n",
    "plt.tight_layout()\n",
    "plt.show()"
   ]
  },
  {
   "cell_type": "code",
   "execution_count": 58,
   "metadata": {},
   "outputs": [
    {
     "data": {
      "text/plain": [
       "Text(0.5, 1.0, 'Total Charges distribution by Churn')"
      ]
     },
     "execution_count": 58,
     "metadata": {},
     "output_type": "execute_result"
    },
    {
     "data": {
      "image/png": "[encoded data removed]",
      "text/plain": [
       "<Figure size 432x288 with 1 Axes>"
      ]
     },
     "metadata": {
      "needs_background": "light"
     },
     "output_type": "display_data"
    }
   ],
   "source": [
    "ax = sns.kdeplot(df_churn.TotalCharges[(df_churn[\"Churn\"] == 'No') ],\n",
    "                color=\"Blue\", shade = True)\n",
    "ax = sns.kdeplot(df_churn.TotalCharges[(df_churn[\"Churn\"] == 'Yes') ],\n",
    "                ax =ax, color=\"Red\", shade= True)\n",
    "ax.legend([\"Not Churn\",\"Churn\"], loc='upper right')\n",
    "ax.set_ylabel('Density')\n",
    "ax.set_xlabel('Total Charges')\n",
    "ax.set_title('Total Charges distribution by Churn')"
   ]
  },
  {
   "cell_type": "markdown",
   "metadata": {},
   "source": [
    "<b>Services"
   ]
  },
  {
   "cell_type": "code",
   "execution_count": 59,
   "metadata": {},
   "outputs": [
    {
     "data": {
      "text/plain": [
       "Index(['customerID', 'gender', 'SeniorCitizen', 'Partner', 'Dependents',\n",
       "       'tenure', 'PhoneService', 'MultipleLines', 'InternetService',\n",
       "       'OnlineSecurity', 'OnlineBackup', 'DeviceProtection', 'TechSupport',\n",
       "       'StreamingTV', 'StreamingMovies', 'Contract', 'PaperlessBilling',\n",
       "       'PaymentMethod', 'MonthlyCharges', 'TotalCharges', 'Churn'],\n",
       "      dtype='object')"
      ]
     },
     "execution_count": 59,
     "metadata": {},
     "output_type": "execute_result"
    }
   ],
   "source": [
    "#anova_partner=dfchurn[['Partner','Churn']]\n",
    "df_churn.columns\n",
    "#pgrp=dfchurn.groupby([]).size()\n",
    "#rint('Client churn by')\n",
    "#pgrp"
   ]
  },
  {
   "cell_type": "code",
   "execution_count": 60,
   "metadata": {},
   "outputs": [],
   "source": [
    "#values = dfchurn.columns[6:15]\n",
    "#df0=dfchurn['Churn']\n",
    "#values.union(df0)"
   ]
  },
  {
   "cell_type": "code",
   "execution_count": 61,
   "metadata": {},
   "outputs": [],
   "source": [
    "#grouped = values.groupby(['cut','']).size()"
   ]
  },
  {
   "cell_type": "code",
   "execution_count": 62,
   "metadata": {},
   "outputs": [],
   "source": [
    "#values = df_churn.columns[6:15].to_list()\n",
    "#pgrp = list()\n",
    "\n",
    "#for i in values:\n",
    "    #anova_partner=dfchurn[[i,'Churn']]\n",
    "    #pgrp=anova_partner.groupby([i]).size()\n",
    "    #pgrp\n",
    "    #print('Client churn by '+i)\n",
    "    \n",
    "#pgrp\n",
    "\n"
   ]
  },
  {
   "cell_type": "code",
   "execution_count": 63,
   "metadata": {},
   "outputs": [],
   "source": [
    "\n",
    "\n",
    "#plt.title(\"InternetService\", fontsize=10)\n",
    "#plt.ylabel('Churn')\n",
    "#plt.xlabel('InternetService')\n",
    "#plt.show()\n",
    "\n",
    "\n",
    "#df.groupby(['InternetService','Churn']).size().to_frame().rename(columns ={0: \"size\"}).reset_index()"
   ]
  },
  {
   "cell_type": "code",
   "execution_count": 64,
   "metadata": {},
   "outputs": [],
   "source": [
    "#plt.hist(df['InternetService'])"
   ]
  },
  {
   "cell_type": "markdown",
   "metadata": {},
   "source": [
    " ## <b>Model"
   ]
  },
  {
   "cell_type": "code",
   "execution_count": 65,
   "metadata": {},
   "outputs": [],
   "source": [
    "dfm=df_churn.drop('customerID',axis=1,inplace=True)"
   ]
  },
  {
   "cell_type": "code",
   "execution_count": 66,
   "metadata": {},
   "outputs": [
    {
     "data": {
      "text/plain": [
       "gender               object\n",
       "SeniorCitizen         int64\n",
       "Partner              object\n",
       "Dependents           object\n",
       "tenure                int64\n",
       "PhoneService         object\n",
       "MultipleLines        object\n",
       "InternetService      object\n",
       "OnlineSecurity       object\n",
       "OnlineBackup         object\n",
       "DeviceProtection     object\n",
       "TechSupport          object\n",
       "StreamingTV          object\n",
       "StreamingMovies      object\n",
       "Contract             object\n",
       "PaperlessBilling     object\n",
       "PaymentMethod        object\n",
       "MonthlyCharges      float64\n",
       "TotalCharges        float64\n",
       "Churn                object\n",
       "dtype: object"
      ]
     },
     "execution_count": 66,
     "metadata": {},
     "output_type": "execute_result"
    }
   ],
   "source": [
    "df_churn.dtypes"
   ]
  },
  {
   "cell_type": "code",
   "execution_count": 67,
   "metadata": {},
   "outputs": [],
   "source": [
    "from sklearn.preprocessing import LabelEncoder"
   ]
  },
  {
   "cell_type": "code",
   "execution_count": 68,
   "metadata": {},
   "outputs": [
    {
     "name": "stdout",
     "output_type": "stream",
     "text": [
      "['gender', 'Partner', 'Dependents', 'PhoneService', 'MultipleLines', 'InternetService', 'OnlineSecurity', 'OnlineBackup', 'DeviceProtection', 'TechSupport', 'StreamingTV', 'StreamingMovies', 'Contract', 'PaperlessBilling', 'PaymentMethod', 'Churn'] ['SeniorCitizen', 'tenure', 'MonthlyCharges', 'TotalCharges']\n"
     ]
    }
   ],
   "source": [
    "listt0=df_churn.columns.to_list()\n",
    "list1=[]\n",
    "list2=[]\n",
    "for d in listt0 :\n",
    "    if df_churn[d].dtypes == 'object':\n",
    "        list1.append(d)\n",
    "    else :\n",
    "        list2.append(d)\n",
    "print(list1,list2)    "
   ]
  },
  {
   "cell_type": "code",
   "execution_count": 69,
   "metadata": {},
   "outputs": [
    {
     "data": {
      "text/html": [
       "<div>\n",
       "<style scoped>\n",
       "    .dataframe tbody tr th:only-of-type {\n",
       "        vertical-align: middle;\n",
       "    }\n",
       "\n",
       "    .dataframe tbody tr th {\n",
       "        vertical-align: top;\n",
       "    }\n",
       "\n",
       "    .dataframe thead th {\n",
       "        text-align: right;\n",
       "    }\n",
       "</style>\n",
       "<table border=\"1\" class=\"dataframe\">\n",
       "  <thead>\n",
       "    <tr style=\"text-align: right;\">\n",
       "      <th></th>\n",
       "      <th>gender</th>\n",
       "      <th>Partner</th>\n",
       "      <th>Dependents</th>\n",
       "      <th>PhoneService</th>\n",
       "      <th>MultipleLines</th>\n",
       "      <th>InternetService</th>\n",
       "      <th>OnlineSecurity</th>\n",
       "      <th>OnlineBackup</th>\n",
       "      <th>DeviceProtection</th>\n",
       "      <th>TechSupport</th>\n",
       "      <th>StreamingTV</th>\n",
       "      <th>StreamingMovies</th>\n",
       "      <th>Contract</th>\n",
       "      <th>PaperlessBilling</th>\n",
       "      <th>PaymentMethod</th>\n",
       "      <th>Churn</th>\n",
       "    </tr>\n",
       "  </thead>\n",
       "  <tbody>\n",
       "    <tr>\n",
       "      <th>0</th>\n",
       "      <td>0</td>\n",
       "      <td>1</td>\n",
       "      <td>0</td>\n",
       "      <td>0</td>\n",
       "      <td>1</td>\n",
       "      <td>0</td>\n",
       "      <td>0</td>\n",
       "      <td>2</td>\n",
       "      <td>0</td>\n",
       "      <td>0</td>\n",
       "      <td>0</td>\n",
       "      <td>0</td>\n",
       "      <td>0</td>\n",
       "      <td>1</td>\n",
       "      <td>2</td>\n",
       "      <td>0</td>\n",
       "    </tr>\n",
       "    <tr>\n",
       "      <th>1</th>\n",
       "      <td>1</td>\n",
       "      <td>0</td>\n",
       "      <td>0</td>\n",
       "      <td>1</td>\n",
       "      <td>0</td>\n",
       "      <td>0</td>\n",
       "      <td>2</td>\n",
       "      <td>0</td>\n",
       "      <td>2</td>\n",
       "      <td>0</td>\n",
       "      <td>0</td>\n",
       "      <td>0</td>\n",
       "      <td>1</td>\n",
       "      <td>0</td>\n",
       "      <td>3</td>\n",
       "      <td>0</td>\n",
       "    </tr>\n",
       "    <tr>\n",
       "      <th>2</th>\n",
       "      <td>1</td>\n",
       "      <td>0</td>\n",
       "      <td>0</td>\n",
       "      <td>1</td>\n",
       "      <td>0</td>\n",
       "      <td>0</td>\n",
       "      <td>2</td>\n",
       "      <td>2</td>\n",
       "      <td>0</td>\n",
       "      <td>0</td>\n",
       "      <td>0</td>\n",
       "      <td>0</td>\n",
       "      <td>0</td>\n",
       "      <td>1</td>\n",
       "      <td>3</td>\n",
       "      <td>1</td>\n",
       "    </tr>\n",
       "    <tr>\n",
       "      <th>3</th>\n",
       "      <td>1</td>\n",
       "      <td>0</td>\n",
       "      <td>0</td>\n",
       "      <td>0</td>\n",
       "      <td>1</td>\n",
       "      <td>0</td>\n",
       "      <td>2</td>\n",
       "      <td>0</td>\n",
       "      <td>2</td>\n",
       "      <td>2</td>\n",
       "      <td>0</td>\n",
       "      <td>0</td>\n",
       "      <td>1</td>\n",
       "      <td>0</td>\n",
       "      <td>0</td>\n",
       "      <td>0</td>\n",
       "    </tr>\n",
       "    <tr>\n",
       "      <th>4</th>\n",
       "      <td>0</td>\n",
       "      <td>0</td>\n",
       "      <td>0</td>\n",
       "      <td>1</td>\n",
       "      <td>0</td>\n",
       "      <td>1</td>\n",
       "      <td>0</td>\n",
       "      <td>0</td>\n",
       "      <td>0</td>\n",
       "      <td>0</td>\n",
       "      <td>0</td>\n",
       "      <td>0</td>\n",
       "      <td>0</td>\n",
       "      <td>1</td>\n",
       "      <td>2</td>\n",
       "      <td>1</td>\n",
       "    </tr>\n",
       "  </tbody>\n",
       "</table>\n",
       "</div>"
      ],
      "text/plain": [
       "   gender  Partner  Dependents  PhoneService  MultipleLines  InternetService  \\\n",
       "0       0        1           0             0              1                0   \n",
       "1       1        0           0             1              0                0   \n",
       "2       1        0           0             1              0                0   \n",
       "3       1        0           0             0              1                0   \n",
       "4       0        0           0             1              0                1   \n",
       "\n",
       "   OnlineSecurity  OnlineBackup  DeviceProtection  TechSupport  StreamingTV  \\\n",
       "0               0             2                 0            0            0   \n",
       "1               2             0                 2            0            0   \n",
       "2               2             2                 0            0            0   \n",
       "3               2             0                 2            2            0   \n",
       "4               0             0                 0            0            0   \n",
       "\n",
       "   StreamingMovies  Contract  PaperlessBilling  PaymentMethod  Churn  \n",
       "0                0         0                 1              2      0  \n",
       "1                0         1                 0              3      0  \n",
       "2                0         0                 1              3      1  \n",
       "3                0         1                 0              0      0  \n",
       "4                0         0                 1              2      1  "
      ]
     },
     "execution_count": 69,
     "metadata": {},
     "output_type": "execute_result"
    }
   ],
   "source": [
    "df1=df_churn[list1]\n",
    "dfcat_num=df1.apply(LabelEncoder().fit_transform)\n",
    "dfcat_num.head()"
   ]
  },
  {
   "cell_type": "code",
   "execution_count": 70,
   "metadata": {},
   "outputs": [
    {
     "data": {
      "text/html": [
       "<div>\n",
       "<style scoped>\n",
       "    .dataframe tbody tr th:only-of-type {\n",
       "        vertical-align: middle;\n",
       "    }\n",
       "\n",
       "    .dataframe tbody tr th {\n",
       "        vertical-align: top;\n",
       "    }\n",
       "\n",
       "    .dataframe thead th {\n",
       "        text-align: right;\n",
       "    }\n",
       "</style>\n",
       "<table border=\"1\" class=\"dataframe\">\n",
       "  <thead>\n",
       "    <tr style=\"text-align: right;\">\n",
       "      <th></th>\n",
       "      <th>SeniorCitizen</th>\n",
       "      <th>tenure</th>\n",
       "      <th>MonthlyCharges</th>\n",
       "      <th>TotalCharges</th>\n",
       "    </tr>\n",
       "  </thead>\n",
       "  <tbody>\n",
       "    <tr>\n",
       "      <th>0</th>\n",
       "      <td>0</td>\n",
       "      <td>1</td>\n",
       "      <td>29.85</td>\n",
       "      <td>29.85</td>\n",
       "    </tr>\n",
       "    <tr>\n",
       "      <th>1</th>\n",
       "      <td>0</td>\n",
       "      <td>34</td>\n",
       "      <td>56.95</td>\n",
       "      <td>1889.50</td>\n",
       "    </tr>\n",
       "    <tr>\n",
       "      <th>2</th>\n",
       "      <td>0</td>\n",
       "      <td>2</td>\n",
       "      <td>53.85</td>\n",
       "      <td>108.15</td>\n",
       "    </tr>\n",
       "    <tr>\n",
       "      <th>3</th>\n",
       "      <td>0</td>\n",
       "      <td>45</td>\n",
       "      <td>42.30</td>\n",
       "      <td>1840.75</td>\n",
       "    </tr>\n",
       "    <tr>\n",
       "      <th>4</th>\n",
       "      <td>0</td>\n",
       "      <td>2</td>\n",
       "      <td>70.70</td>\n",
       "      <td>151.65</td>\n",
       "    </tr>\n",
       "  </tbody>\n",
       "</table>\n",
       "</div>"
      ],
      "text/plain": [
       "   SeniorCitizen  tenure  MonthlyCharges  TotalCharges\n",
       "0              0       1           29.85         29.85\n",
       "1              0      34           56.95       1889.50\n",
       "2              0       2           53.85        108.15\n",
       "3              0      45           42.30       1840.75\n",
       "4              0       2           70.70        151.65"
      ]
     },
     "execution_count": 70,
     "metadata": {},
     "output_type": "execute_result"
    }
   ],
   "source": [
    "dfnum=df_churn[list2]\n",
    "dfnum.head()"
   ]
  },
  {
   "cell_type": "code",
   "execution_count": 71,
   "metadata": {},
   "outputs": [
    {
     "data": {
      "text/html": [
       "<div>\n",
       "<style scoped>\n",
       "    .dataframe tbody tr th:only-of-type {\n",
       "        vertical-align: middle;\n",
       "    }\n",
       "\n",
       "    .dataframe tbody tr th {\n",
       "        vertical-align: top;\n",
       "    }\n",
       "\n",
       "    .dataframe thead th {\n",
       "        text-align: right;\n",
       "    }\n",
       "</style>\n",
       "<table border=\"1\" class=\"dataframe\">\n",
       "  <thead>\n",
       "    <tr style=\"text-align: right;\">\n",
       "      <th></th>\n",
       "      <th>gender</th>\n",
       "      <th>Partner</th>\n",
       "      <th>Dependents</th>\n",
       "      <th>PhoneService</th>\n",
       "      <th>MultipleLines</th>\n",
       "      <th>InternetService</th>\n",
       "      <th>OnlineSecurity</th>\n",
       "      <th>OnlineBackup</th>\n",
       "      <th>DeviceProtection</th>\n",
       "      <th>TechSupport</th>\n",
       "      <th>StreamingTV</th>\n",
       "      <th>StreamingMovies</th>\n",
       "      <th>Contract</th>\n",
       "      <th>PaperlessBilling</th>\n",
       "      <th>PaymentMethod</th>\n",
       "      <th>Churn</th>\n",
       "      <th>SeniorCitizen</th>\n",
       "      <th>tenure</th>\n",
       "      <th>MonthlyCharges</th>\n",
       "      <th>TotalCharges</th>\n",
       "    </tr>\n",
       "  </thead>\n",
       "  <tbody>\n",
       "    <tr>\n",
       "      <th>0</th>\n",
       "      <td>0</td>\n",
       "      <td>1</td>\n",
       "      <td>0</td>\n",
       "      <td>0</td>\n",
       "      <td>1</td>\n",
       "      <td>0</td>\n",
       "      <td>0</td>\n",
       "      <td>2</td>\n",
       "      <td>0</td>\n",
       "      <td>0</td>\n",
       "      <td>0</td>\n",
       "      <td>0</td>\n",
       "      <td>0</td>\n",
       "      <td>1</td>\n",
       "      <td>2</td>\n",
       "      <td>0</td>\n",
       "      <td>0</td>\n",
       "      <td>1</td>\n",
       "      <td>29.85</td>\n",
       "      <td>29.85</td>\n",
       "    </tr>\n",
       "    <tr>\n",
       "      <th>1</th>\n",
       "      <td>1</td>\n",
       "      <td>0</td>\n",
       "      <td>0</td>\n",
       "      <td>1</td>\n",
       "      <td>0</td>\n",
       "      <td>0</td>\n",
       "      <td>2</td>\n",
       "      <td>0</td>\n",
       "      <td>2</td>\n",
       "      <td>0</td>\n",
       "      <td>0</td>\n",
       "      <td>0</td>\n",
       "      <td>1</td>\n",
       "      <td>0</td>\n",
       "      <td>3</td>\n",
       "      <td>0</td>\n",
       "      <td>0</td>\n",
       "      <td>34</td>\n",
       "      <td>56.95</td>\n",
       "      <td>1889.50</td>\n",
       "    </tr>\n",
       "    <tr>\n",
       "      <th>2</th>\n",
       "      <td>1</td>\n",
       "      <td>0</td>\n",
       "      <td>0</td>\n",
       "      <td>1</td>\n",
       "      <td>0</td>\n",
       "      <td>0</td>\n",
       "      <td>2</td>\n",
       "      <td>2</td>\n",
       "      <td>0</td>\n",
       "      <td>0</td>\n",
       "      <td>0</td>\n",
       "      <td>0</td>\n",
       "      <td>0</td>\n",
       "      <td>1</td>\n",
       "      <td>3</td>\n",
       "      <td>1</td>\n",
       "      <td>0</td>\n",
       "      <td>2</td>\n",
       "      <td>53.85</td>\n",
       "      <td>108.15</td>\n",
       "    </tr>\n",
       "    <tr>\n",
       "      <th>3</th>\n",
       "      <td>1</td>\n",
       "      <td>0</td>\n",
       "      <td>0</td>\n",
       "      <td>0</td>\n",
       "      <td>1</td>\n",
       "      <td>0</td>\n",
       "      <td>2</td>\n",
       "      <td>0</td>\n",
       "      <td>2</td>\n",
       "      <td>2</td>\n",
       "      <td>0</td>\n",
       "      <td>0</td>\n",
       "      <td>1</td>\n",
       "      <td>0</td>\n",
       "      <td>0</td>\n",
       "      <td>0</td>\n",
       "      <td>0</td>\n",
       "      <td>45</td>\n",
       "      <td>42.30</td>\n",
       "      <td>1840.75</td>\n",
       "    </tr>\n",
       "    <tr>\n",
       "      <th>4</th>\n",
       "      <td>0</td>\n",
       "      <td>0</td>\n",
       "      <td>0</td>\n",
       "      <td>1</td>\n",
       "      <td>0</td>\n",
       "      <td>1</td>\n",
       "      <td>0</td>\n",
       "      <td>0</td>\n",
       "      <td>0</td>\n",
       "      <td>0</td>\n",
       "      <td>0</td>\n",
       "      <td>0</td>\n",
       "      <td>0</td>\n",
       "      <td>1</td>\n",
       "      <td>2</td>\n",
       "      <td>1</td>\n",
       "      <td>0</td>\n",
       "      <td>2</td>\n",
       "      <td>70.70</td>\n",
       "      <td>151.65</td>\n",
       "    </tr>\n",
       "  </tbody>\n",
       "</table>\n",
       "</div>"
      ],
      "text/plain": [
       "   gender  Partner  Dependents  PhoneService  MultipleLines  InternetService  \\\n",
       "0       0        1           0             0              1                0   \n",
       "1       1        0           0             1              0                0   \n",
       "2       1        0           0             1              0                0   \n",
       "3       1        0           0             0              1                0   \n",
       "4       0        0           0             1              0                1   \n",
       "\n",
       "   OnlineSecurity  OnlineBackup  DeviceProtection  TechSupport  StreamingTV  \\\n",
       "0               0             2                 0            0            0   \n",
       "1               2             0                 2            0            0   \n",
       "2               2             2                 0            0            0   \n",
       "3               2             0                 2            2            0   \n",
       "4               0             0                 0            0            0   \n",
       "\n",
       "   StreamingMovies  Contract  PaperlessBilling  PaymentMethod  Churn  \\\n",
       "0                0         0                 1              2      0   \n",
       "1                0         1                 0              3      0   \n",
       "2                0         0                 1              3      1   \n",
       "3                0         1                 0              0      0   \n",
       "4                0         0                 1              2      1   \n",
       "\n",
       "   SeniorCitizen  tenure  MonthlyCharges  TotalCharges  \n",
       "0              0       1           29.85         29.85  \n",
       "1              0      34           56.95       1889.50  \n",
       "2              0       2           53.85        108.15  \n",
       "3              0      45           42.30       1840.75  \n",
       "4              0       2           70.70        151.65  "
      ]
     },
     "execution_count": 71,
     "metadata": {},
     "output_type": "execute_result"
    }
   ],
   "source": [
    "df_model=pd.concat([dfcat_num,dfnum],axis=1)\n",
    "df_model.head()"
   ]
  },
  {
   "cell_type": "code",
   "execution_count": 72,
   "metadata": {},
   "outputs": [
    {
     "data": {
      "text/plain": [
       "Index(['gender', 'Partner', 'Dependents', 'PhoneService', 'MultipleLines',\n",
       "       'InternetService', 'OnlineSecurity', 'OnlineBackup', 'DeviceProtection',\n",
       "       'TechSupport', 'StreamingTV', 'StreamingMovies', 'Contract',\n",
       "       'PaperlessBilling', 'PaymentMethod', 'Churn', 'SeniorCitizen', 'tenure',\n",
       "       'MonthlyCharges', 'TotalCharges'],\n",
       "      dtype='object')"
      ]
     },
     "execution_count": 72,
     "metadata": {},
     "output_type": "execute_result"
    }
   ],
   "source": [
    "df_model.columns"
   ]
  },
  {
   "cell_type": "code",
   "execution_count": null,
   "metadata": {},
   "outputs": [],
   "source": []
  },
  {
   "cell_type": "code",
   "execution_count": 73,
   "metadata": {},
   "outputs": [],
   "source": [
    "y=df_model['Churn']\n",
    "x=df_model[['gender', 'Partner', 'Dependents', 'PhoneService', 'MultipleLines',\n",
    "       'InternetService', 'OnlineSecurity', 'OnlineBackup', 'DeviceProtection',\n",
    "       'TechSupport', 'StreamingTV', 'StreamingMovies', 'Contract',\n",
    "       'PaperlessBilling', 'PaymentMethod', 'SeniorCitizen', 'tenure',\n",
    "       'MonthlyCharges', 'TotalCharges']]"
   ]
  },
  {
   "cell_type": "code",
   "execution_count": 74,
   "metadata": {},
   "outputs": [],
   "source": [
    "from sklearn.linear_model import LogisticRegression \n",
    "logreg=LogisticRegression"
   ]
  },
  {
   "cell_type": "code",
   "execution_count": 75,
   "metadata": {},
   "outputs": [],
   "source": [
    "import statsmodels.api as sm"
   ]
  },
  {
   "cell_type": "code",
   "execution_count": 76,
   "metadata": {},
   "outputs": [],
   "source": [
    "from sklearn.model_selection import train_test_split"
   ]
  },
  {
   "cell_type": "code",
   "execution_count": 77,
   "metadata": {},
   "outputs": [],
   "source": [
    "x_train, x_test, y_train, y_test = train_test_split(x, y, test_size=0.3, random_state=0)"
   ]
  },
  {
   "cell_type": "code",
   "execution_count": 78,
   "metadata": {},
   "outputs": [
    {
     "name": "stdout",
     "output_type": "stream",
     "text": [
      "Optimization terminated successfully.\n",
      "         Current function value: 0.416779\n",
      "         Iterations 8\n",
      "                         Results: Logit\n",
      "=================================================================\n",
      "Model:               Logit            Pseudo R-squared: 0.280    \n",
      "Dependent Variable:  Churn            AIC:              5899.5758\n",
      "Date:                2020-06-23 16:10 BIC:              6029.8821\n",
      "No. Observations:    7032             Log-Likelihood:   -2930.8  \n",
      "Df Model:            18               LL-Null:          -4071.7  \n",
      "Df Residuals:        7013             LLR p-value:      0.0000   \n",
      "Converged:           1.0000           Scale:            1.0000   \n",
      "No. Iterations:      8.0000                                      \n",
      "-----------------------------------------------------------------\n",
      "                  Coef.  Std.Err.    z     P>|z|   [0.025  0.975]\n",
      "-----------------------------------------------------------------\n",
      "gender           -0.0574   0.0635  -0.9041 0.3660 -0.1817  0.0670\n",
      "Partner           0.0095   0.0773   0.1230 0.9021 -0.1420  0.1610\n",
      "Dependents       -0.1791   0.0892  -2.0093 0.0445 -0.3539 -0.0044\n",
      "PhoneService     -1.1694   0.1363  -8.5779 0.0000 -1.4366 -0.9022\n",
      "MultipleLines     0.0612   0.0405   1.5121 0.1305 -0.0181  0.1405\n",
      "InternetService   0.2272   0.0653   3.4817 0.0005  0.0993  0.3551\n",
      "OnlineSecurity   -0.2874   0.0409  -7.0296 0.0000 -0.3675 -0.2072\n",
      "OnlineBackup     -0.1561   0.0378  -4.1309 0.0000 -0.2302 -0.0820\n",
      "DeviceProtection -0.0974   0.0391  -2.4924 0.0127 -0.1739 -0.0208\n",
      "TechSupport      -0.2772   0.0415  -6.6737 0.0000 -0.3586 -0.1958\n",
      "StreamingTV      -0.0051   0.0412  -0.1235 0.9017 -0.0858  0.0756\n",
      "StreamingMovies  -0.0053   0.0411  -0.1280 0.8981 -0.0857  0.0752\n",
      "Contract         -0.7101   0.0772  -9.1929 0.0000 -0.8614 -0.5587\n",
      "PaperlessBilling  0.3336   0.0729   4.5779 0.0000  0.1908  0.4765\n",
      "PaymentMethod     0.0037   0.0311   0.1200 0.9044 -0.0573  0.0647\n",
      "SeniorCitizen     0.2293   0.0840   2.7309 0.0063  0.0647  0.3939\n",
      "tenure           -0.0680   0.0053 -12.7490 0.0000 -0.0784 -0.0575\n",
      "MonthlyCharges    0.0202   0.0020  10.2458 0.0000  0.0164  0.0241\n",
      "TotalCharges      0.0004   0.0001   7.1698 0.0000  0.0003  0.0005\n",
      "=================================================================\n",
      "\n"
     ]
    }
   ],
   "source": [
    "logit_model=sm.Logit(y,x)\n",
    "result=logit_model.fit()\n",
    "print(result.summary2())"
   ]
  },
  {
   "cell_type": "code",
   "execution_count": 79,
   "metadata": {},
   "outputs": [
    {
     "name": "stdout",
     "output_type": "stream",
     "text": [
      "Optimization terminated successfully.\n",
      "         Current function value: 0.417004\n",
      "         Iterations 8\n",
      "                         Results: Logit\n",
      "=================================================================\n",
      "Model:               Logit            Pseudo R-squared: 0.280    \n",
      "Dependent Variable:  Churn            AIC:              5890.7377\n",
      "Date:                2020-06-23 16:10 BIC:              5979.8946\n",
      "No. Observations:    7032             Log-Likelihood:   -2932.4  \n",
      "Df Model:            12               LL-Null:          -4071.7  \n",
      "Df Residuals:        7019             LLR p-value:      0.0000   \n",
      "Converged:           1.0000           Scale:            1.0000   \n",
      "No. Iterations:      8.0000                                      \n",
      "-----------------------------------------------------------------\n",
      "                  Coef.  Std.Err.    z     P>|z|   [0.025  0.975]\n",
      "-----------------------------------------------------------------\n",
      "Dependents       -0.1752   0.0808  -2.1699 0.0300 -0.3335 -0.0170\n",
      "PhoneService     -1.2084   0.1262  -9.5724 0.0000 -1.4558 -0.9610\n",
      "InternetService   0.2312   0.0626   3.6911 0.0002  0.1084  0.3539\n",
      "OnlineSecurity   -0.2879   0.0407  -7.0679 0.0000 -0.3677 -0.2081\n",
      "OnlineBackup     -0.1562   0.0377  -4.1470 0.0000 -0.2301 -0.0824\n",
      "DeviceProtection -0.1010   0.0386  -2.6190 0.0088 -0.1766 -0.0254\n",
      "TechSupport      -0.2812   0.0411  -6.8403 0.0000 -0.3618 -0.2006\n",
      "Contract         -0.7171   0.0769  -9.3291 0.0000 -0.8677 -0.5664\n",
      "PaperlessBilling  0.3368   0.0726   4.6399 0.0000  0.1945  0.4791\n",
      "SeniorCitizen     0.2358   0.0832   2.8339 0.0046  0.0727  0.3989\n",
      "tenure           -0.0676   0.0051 -13.1414 0.0000 -0.0777 -0.0575\n",
      "MonthlyCharges    0.0209   0.0017  12.2031 0.0000  0.0175  0.0243\n",
      "TotalCharges      0.0004   0.0001   7.6483 0.0000  0.0003  0.0005\n",
      "=================================================================\n",
      "\n"
     ]
    }
   ],
   "source": [
    " #The p-values for most of the variables are smaller than 0.05, except for variables: gender,Partner,MultipleLines,StreamingTV,StreamingMovies,PaymentMethod. Therefore, we will remove them.\n",
    "list4=['Dependents','PhoneService','InternetService','OnlineSecurity','OnlineBackup','DeviceProtection','TechSupport','Contract','PaperlessBilling','SeniorCitizen','tenure','MonthlyCharges','TotalCharges']\n",
    "x1=x[list4]\n",
    "logit_model1=sm.Logit(y,x1)\n",
    "result1=logit_model1.fit()\n",
    "print(result1.summary2())"
   ]
  },
  {
   "cell_type": "code",
   "execution_count": 80,
   "metadata": {},
   "outputs": [],
   "source": [
    "#now the p-value is smaller than .05\n",
    "# we will fit the logestic regression\n",
    "from sklearn import metrics\n",
    "from sklearn.model_selection import train_test_split\n",
    "x1_train, x1_test, y_train, y_test = train_test_split(x1, y , test_size=0.3, random_state=0)"
   ]
  },
  {
   "cell_type": "code",
   "execution_count": 81,
   "metadata": {},
   "outputs": [
    {
     "name": "stderr",
     "output_type": "stream",
     "text": [
      "C:\\Users\\User\\anaconda3\\lib\\site-packages\\sklearn\\linear_model\\_logistic.py:940: ConvergenceWarning: lbfgs failed to converge (status=1):\n",
      "STOP: TOTAL NO. of ITERATIONS REACHED LIMIT.\n",
      "\n",
      "Increase the number of iterations (max_iter) or scale the data as shown in:\n",
      "    https://scikit-learn.org/stable/modules/preprocessing.html\n",
      "Please also refer to the documentation for alternative solver options:\n",
      "    https://scikit-learn.org/stable/modules/linear_model.html#logistic-regression\n",
      "  extra_warning_msg=_LOGISTIC_SOLVER_CONVERGENCE_MSG)\n"
     ]
    }
   ],
   "source": [
    "logistic_regression= LogisticRegression()\n",
    "logistic_regression.fit(x1_train,y_train)\n",
    "y_pred=logistic_regression.predict(x1_test)"
   ]
  },
  {
   "cell_type": "code",
   "execution_count": 82,
   "metadata": {},
   "outputs": [
    {
     "name": "stdout",
     "output_type": "stream",
     "text": [
      "Accuracy of logistic regression classifier on test set: 0.80\n"
     ]
    }
   ],
   "source": [
    "print('Accuracy of logistic regression classifier on test set: {:.2f}'.format(logistic_regression.score(x1_test, y_test)))"
   ]
  },
  {
   "cell_type": "code",
   "execution_count": 83,
   "metadata": {},
   "outputs": [
    {
     "name": "stdout",
     "output_type": "stream",
     "text": [
      "[[1375  180]\n",
      " [ 248  307]]\n"
     ]
    }
   ],
   "source": [
    "from sklearn.metrics import confusion_matrix\n",
    "confusion_matrix = confusion_matrix(y_test, y_pred)\n",
    "print(confusion_matrix)"
   ]
  },
  {
   "cell_type": "code",
   "execution_count": 84,
   "metadata": {},
   "outputs": [],
   "source": [
    "#The result is telling us that we have 1375+307 correct predictions and 248+180 incorrect predictions."
   ]
  },
  {
   "cell_type": "code",
   "execution_count": 85,
   "metadata": {},
   "outputs": [
    {
     "name": "stdout",
     "output_type": "stream",
     "text": [
      "              precision    recall  f1-score   support\n",
      "\n",
      "           0       0.85      0.88      0.87      1555\n",
      "           1       0.63      0.55      0.59       555\n",
      "\n",
      "    accuracy                           0.80      2110\n",
      "   macro avg       0.74      0.72      0.73      2110\n",
      "weighted avg       0.79      0.80      0.79      2110\n",
      "\n"
     ]
    }
   ],
   "source": [
    "#The precision is the ratio tp / (tp + fp) where tp is the number of true positives and fp the number of false positives. The precision is intuitively the ability of the classifier to not label a sample as positive if it is negative.\n",
    "#The recall is the ratio tp / (tp + fn) where tp is the number of true positives and fn the number of false negatives. The recall is intuitively the ability of the classifier to find all the positive samples.\n",
    "from sklearn.metrics import classification_report\n",
    "print(classification_report(y_test, y_pred))"
   ]
  },
  {
   "cell_type": "markdown",
   "metadata": {},
   "source": [
    "## <b>Profil"
   ]
  },
  {
   "cell_type": "code",
   "execution_count": 86,
   "metadata": {},
   "outputs": [],
   "source": [
    "list30=x1_train.columns.to_list()\n",
    "dfch=df_churn[list30]"
   ]
  },
  {
   "cell_type": "code",
   "execution_count": 87,
   "metadata": {
    "scrolled": true
   },
   "outputs": [],
   "source": [
    "dummies=pd.get_dummies(dfch[['Dependents','PhoneService','InternetService','OnlineSecurity','OnlineBackup','DeviceProtection','TechSupport','Contract','PaperlessBilling']])\n"
   ]
  },
  {
   "cell_type": "code",
   "execution_count": 88,
   "metadata": {},
   "outputs": [],
   "source": [
    "dfa=df_churn[['SeniorCitizen','tenure','MonthlyCharges','TotalCharges','Churn','gender']]\n",
    "dataprofil = pd.concat([dummies,dfa], axis = 1)"
   ]
  },
  {
   "cell_type": "code",
   "execution_count": 89,
   "metadata": {},
   "outputs": [
    {
     "data": {
      "text/plain": [
       "['Dependents_No',\n",
       " 'Dependents_Yes',\n",
       " 'PhoneService_No',\n",
       " 'PhoneService_Yes',\n",
       " 'InternetService_DSL',\n",
       " 'InternetService_Fiber optic',\n",
       " 'InternetService_No',\n",
       " 'OnlineSecurity_No',\n",
       " 'OnlineSecurity_No internet service',\n",
       " 'OnlineSecurity_Yes',\n",
       " 'OnlineBackup_No',\n",
       " 'OnlineBackup_No internet service',\n",
       " 'OnlineBackup_Yes',\n",
       " 'DeviceProtection_No',\n",
       " 'DeviceProtection_No internet service',\n",
       " 'DeviceProtection_Yes',\n",
       " 'TechSupport_No',\n",
       " 'TechSupport_No internet service',\n",
       " 'TechSupport_Yes',\n",
       " 'Contract_Month-to-month',\n",
       " 'Contract_One year',\n",
       " 'Contract_Two year',\n",
       " 'PaperlessBilling_No',\n",
       " 'PaperlessBilling_Yes',\n",
       " 'SeniorCitizen',\n",
       " 'tenure',\n",
       " 'MonthlyCharges',\n",
       " 'TotalCharges',\n",
       " 'Churn',\n",
       " 'gender']"
      ]
     },
     "execution_count": 89,
     "metadata": {},
     "output_type": "execute_result"
    }
   ],
   "source": [
    "list50=dataprofil.columns.to_list()\n",
    "list50"
   ]
  },
  {
   "cell_type": "code",
   "execution_count": 90,
   "metadata": {},
   "outputs": [
    {
     "data": {
      "text/plain": [
       "Churn\n",
       "No     5163\n",
       "Yes    1869\n",
       "dtype: int64"
      ]
     },
     "execution_count": 90,
     "metadata": {},
     "output_type": "execute_result"
    }
   ],
   "source": [
    "grpprofil = dataprofil[['SeniorCitizen','tenure','MonthlyCharges','TotalCharges','gender','TechSupport_No','Contract_Month-to-month','DeviceProtection_No','OnlineSecurity_No','Churn']].groupby(['Churn']).size()\n",
    "grpprofil"
   ]
  },
  {
   "cell_type": "code",
   "execution_count": 91,
   "metadata": {},
   "outputs": [
    {
     "data": {
      "text/html": [
       "<div>\n",
       "<style scoped>\n",
       "    .dataframe tbody tr th:only-of-type {\n",
       "        vertical-align: middle;\n",
       "    }\n",
       "\n",
       "    .dataframe tbody tr th {\n",
       "        vertical-align: top;\n",
       "    }\n",
       "\n",
       "    .dataframe thead th {\n",
       "        text-align: right;\n",
       "    }\n",
       "</style>\n",
       "<table border=\"1\" class=\"dataframe\">\n",
       "  <thead>\n",
       "    <tr style=\"text-align: right;\">\n",
       "      <th></th>\n",
       "      <th></th>\n",
       "      <th>Dependents_No</th>\n",
       "      <th>Dependents_Yes</th>\n",
       "      <th>PhoneService_No</th>\n",
       "      <th>PhoneService_Yes</th>\n",
       "      <th>InternetService_DSL</th>\n",
       "      <th>InternetService_Fiber optic</th>\n",
       "      <th>InternetService_No</th>\n",
       "      <th>OnlineSecurity_No</th>\n",
       "      <th>OnlineSecurity_No internet service</th>\n",
       "      <th>OnlineSecurity_Yes</th>\n",
       "      <th>...</th>\n",
       "      <th>TechSupport_Yes</th>\n",
       "      <th>Contract_Month-to-month</th>\n",
       "      <th>Contract_One year</th>\n",
       "      <th>Contract_Two year</th>\n",
       "      <th>PaperlessBilling_No</th>\n",
       "      <th>PaperlessBilling_Yes</th>\n",
       "      <th>SeniorCitizen</th>\n",
       "      <th>tenure</th>\n",
       "      <th>MonthlyCharges</th>\n",
       "      <th>TotalCharges</th>\n",
       "    </tr>\n",
       "    <tr>\n",
       "      <th>gender</th>\n",
       "      <th>Churn</th>\n",
       "      <th></th>\n",
       "      <th></th>\n",
       "      <th></th>\n",
       "      <th></th>\n",
       "      <th></th>\n",
       "      <th></th>\n",
       "      <th></th>\n",
       "      <th></th>\n",
       "      <th></th>\n",
       "      <th></th>\n",
       "      <th></th>\n",
       "      <th></th>\n",
       "      <th></th>\n",
       "      <th></th>\n",
       "      <th></th>\n",
       "      <th></th>\n",
       "      <th></th>\n",
       "      <th></th>\n",
       "      <th></th>\n",
       "      <th></th>\n",
       "      <th></th>\n",
       "    </tr>\n",
       "  </thead>\n",
       "  <tbody>\n",
       "    <tr>\n",
       "      <th rowspan=\"2\" valign=\"top\">Female</th>\n",
       "      <th>No</th>\n",
       "      <td>1686.0</td>\n",
       "      <td>858.0</td>\n",
       "      <td>249.0</td>\n",
       "      <td>2295.0</td>\n",
       "      <td>965.0</td>\n",
       "      <td>889.0</td>\n",
       "      <td>690.0</td>\n",
       "      <td>992.0</td>\n",
       "      <td>690.0</td>\n",
       "      <td>862.0</td>\n",
       "      <td>...</td>\n",
       "      <td>859.0</td>\n",
       "      <td>1083.0</td>\n",
       "      <td>643.0</td>\n",
       "      <td>818.0</td>\n",
       "      <td>1158.0</td>\n",
       "      <td>1386.0</td>\n",
       "      <td>328</td>\n",
       "      <td>96502</td>\n",
       "      <td>156901.05</td>\n",
       "      <td>6599274.45</td>\n",
       "    </tr>\n",
       "    <tr>\n",
       "      <th>Yes</th>\n",
       "      <td>774.0</td>\n",
       "      <td>165.0</td>\n",
       "      <td>80.0</td>\n",
       "      <td>859.0</td>\n",
       "      <td>219.0</td>\n",
       "      <td>664.0</td>\n",
       "      <td>56.0</td>\n",
       "      <td>721.0</td>\n",
       "      <td>56.0</td>\n",
       "      <td>162.0</td>\n",
       "      <td>...</td>\n",
       "      <td>165.0</td>\n",
       "      <td>842.0</td>\n",
       "      <td>75.0</td>\n",
       "      <td>22.0</td>\n",
       "      <td>240.0</td>\n",
       "      <td>699.0</td>\n",
       "      <td>240</td>\n",
       "      <td>15967</td>\n",
       "      <td>70248.55</td>\n",
       "      <td>1353079.75</td>\n",
       "    </tr>\n",
       "    <tr>\n",
       "      <th rowspan=\"2\" valign=\"top\">Male</th>\n",
       "      <th>No</th>\n",
       "      <td>1704.0</td>\n",
       "      <td>915.0</td>\n",
       "      <td>261.0</td>\n",
       "      <td>2358.0</td>\n",
       "      <td>992.0</td>\n",
       "      <td>910.0</td>\n",
       "      <td>717.0</td>\n",
       "      <td>1044.0</td>\n",
       "      <td>717.0</td>\n",
       "      <td>858.0</td>\n",
       "      <td>...</td>\n",
       "      <td>871.0</td>\n",
       "      <td>1137.0</td>\n",
       "      <td>663.0</td>\n",
       "      <td>819.0</td>\n",
       "      <td>1237.0</td>\n",
       "      <td>1382.0</td>\n",
       "      <td>338</td>\n",
       "      <td>97885</td>\n",
       "      <td>159629.10</td>\n",
       "      <td>6593967.35</td>\n",
       "    </tr>\n",
       "    <tr>\n",
       "      <th>Yes</th>\n",
       "      <td>769.0</td>\n",
       "      <td>161.0</td>\n",
       "      <td>90.0</td>\n",
       "      <td>840.0</td>\n",
       "      <td>240.0</td>\n",
       "      <td>633.0</td>\n",
       "      <td>57.0</td>\n",
       "      <td>740.0</td>\n",
       "      <td>57.0</td>\n",
       "      <td>133.0</td>\n",
       "      <td>...</td>\n",
       "      <td>145.0</td>\n",
       "      <td>813.0</td>\n",
       "      <td>91.0</td>\n",
       "      <td>26.0</td>\n",
       "      <td>229.0</td>\n",
       "      <td>701.0</td>\n",
       "      <td>236</td>\n",
       "      <td>17636</td>\n",
       "      <td>68882.30</td>\n",
       "      <td>1509847.15</td>\n",
       "    </tr>\n",
       "  </tbody>\n",
       "</table>\n",
       "<p>4 rows × 28 columns</p>\n",
       "</div>"
      ],
      "text/plain": [
       "              Dependents_No  Dependents_Yes  PhoneService_No  \\\n",
       "gender Churn                                                   \n",
       "Female No            1686.0           858.0            249.0   \n",
       "       Yes            774.0           165.0             80.0   \n",
       "Male   No            1704.0           915.0            261.0   \n",
       "       Yes            769.0           161.0             90.0   \n",
       "\n",
       "              PhoneService_Yes  InternetService_DSL  \\\n",
       "gender Churn                                          \n",
       "Female No               2295.0                965.0   \n",
       "       Yes               859.0                219.0   \n",
       "Male   No               2358.0                992.0   \n",
       "       Yes               840.0                240.0   \n",
       "\n",
       "              InternetService_Fiber optic  InternetService_No  \\\n",
       "gender Churn                                                    \n",
       "Female No                           889.0               690.0   \n",
       "       Yes                          664.0                56.0   \n",
       "Male   No                           910.0               717.0   \n",
       "       Yes                          633.0                57.0   \n",
       "\n",
       "              OnlineSecurity_No  OnlineSecurity_No internet service  \\\n",
       "gender Churn                                                          \n",
       "Female No                 992.0                               690.0   \n",
       "       Yes                721.0                                56.0   \n",
       "Male   No                1044.0                               717.0   \n",
       "       Yes                740.0                                57.0   \n",
       "\n",
       "              OnlineSecurity_Yes  ...  TechSupport_Yes  \\\n",
       "gender Churn                      ...                    \n",
       "Female No                  862.0  ...            859.0   \n",
       "       Yes                 162.0  ...            165.0   \n",
       "Male   No                  858.0  ...            871.0   \n",
       "       Yes                 133.0  ...            145.0   \n",
       "\n",
       "              Contract_Month-to-month  Contract_One year  Contract_Two year  \\\n",
       "gender Churn                                                                  \n",
       "Female No                      1083.0              643.0              818.0   \n",
       "       Yes                      842.0               75.0               22.0   \n",
       "Male   No                      1137.0              663.0              819.0   \n",
       "       Yes                      813.0               91.0               26.0   \n",
       "\n",
       "              PaperlessBilling_No  PaperlessBilling_Yes  SeniorCitizen  \\\n",
       "gender Churn                                                             \n",
       "Female No                  1158.0                1386.0            328   \n",
       "       Yes                  240.0                 699.0            240   \n",
       "Male   No                  1237.0                1382.0            338   \n",
       "       Yes                  229.0                 701.0            236   \n",
       "\n",
       "              tenure  MonthlyCharges  TotalCharges  \n",
       "gender Churn                                        \n",
       "Female No      96502       156901.05    6599274.45  \n",
       "       Yes     15967        70248.55    1353079.75  \n",
       "Male   No      97885       159629.10    6593967.35  \n",
       "       Yes     17636        68882.30    1509847.15  \n",
       "\n",
       "[4 rows x 28 columns]"
      ]
     },
     "execution_count": 91,
     "metadata": {},
     "output_type": "execute_result"
    }
   ],
   "source": [
    "a=dataprofil.groupby(['gender','Churn']).sum()\n",
    "a"
   ]
  },
  {
   "cell_type": "code",
   "execution_count": 92,
   "metadata": {},
   "outputs": [
    {
     "data": {
      "text/html": [
       "<div>\n",
       "<style scoped>\n",
       "    .dataframe tbody tr th:only-of-type {\n",
       "        vertical-align: middle;\n",
       "    }\n",
       "\n",
       "    .dataframe tbody tr th {\n",
       "        vertical-align: top;\n",
       "    }\n",
       "\n",
       "    .dataframe thead th {\n",
       "        text-align: right;\n",
       "    }\n",
       "</style>\n",
       "<table border=\"1\" class=\"dataframe\">\n",
       "  <thead>\n",
       "    <tr style=\"text-align: right;\">\n",
       "      <th></th>\n",
       "      <th></th>\n",
       "      <th>Dependents_No</th>\n",
       "      <th>Dependents_Yes</th>\n",
       "      <th>PhoneService_No</th>\n",
       "      <th>PhoneService_Yes</th>\n",
       "      <th>InternetService_DSL</th>\n",
       "      <th>InternetService_Fiber optic</th>\n",
       "      <th>InternetService_No</th>\n",
       "      <th>OnlineSecurity_No</th>\n",
       "      <th>OnlineSecurity_No internet service</th>\n",
       "      <th>OnlineSecurity_Yes</th>\n",
       "      <th>...</th>\n",
       "      <th>DeviceProtection_Yes</th>\n",
       "      <th>TechSupport_No</th>\n",
       "      <th>TechSupport_No internet service</th>\n",
       "      <th>TechSupport_Yes</th>\n",
       "      <th>Contract_Month-to-month</th>\n",
       "      <th>Contract_One year</th>\n",
       "      <th>Contract_Two year</th>\n",
       "      <th>PaperlessBilling_No</th>\n",
       "      <th>PaperlessBilling_Yes</th>\n",
       "      <th>SeniorCitizen</th>\n",
       "    </tr>\n",
       "    <tr>\n",
       "      <th>gender</th>\n",
       "      <th>Churn</th>\n",
       "      <th></th>\n",
       "      <th></th>\n",
       "      <th></th>\n",
       "      <th></th>\n",
       "      <th></th>\n",
       "      <th></th>\n",
       "      <th></th>\n",
       "      <th></th>\n",
       "      <th></th>\n",
       "      <th></th>\n",
       "      <th></th>\n",
       "      <th></th>\n",
       "      <th></th>\n",
       "      <th></th>\n",
       "      <th></th>\n",
       "      <th></th>\n",
       "      <th></th>\n",
       "      <th></th>\n",
       "      <th></th>\n",
       "      <th></th>\n",
       "      <th></th>\n",
       "    </tr>\n",
       "  </thead>\n",
       "  <tbody>\n",
       "    <tr>\n",
       "      <th rowspan=\"2\" valign=\"top\">Female</th>\n",
       "      <th>No</th>\n",
       "      <td>1686.0</td>\n",
       "      <td>858.0</td>\n",
       "      <td>249.0</td>\n",
       "      <td>2295.0</td>\n",
       "      <td>965.0</td>\n",
       "      <td>889.0</td>\n",
       "      <td>690.0</td>\n",
       "      <td>992.0</td>\n",
       "      <td>690.0</td>\n",
       "      <td>862.0</td>\n",
       "      <td>...</td>\n",
       "      <td>932.0</td>\n",
       "      <td>995.0</td>\n",
       "      <td>690.0</td>\n",
       "      <td>859.0</td>\n",
       "      <td>1083.0</td>\n",
       "      <td>643.0</td>\n",
       "      <td>818.0</td>\n",
       "      <td>1158.0</td>\n",
       "      <td>1386.0</td>\n",
       "      <td>328</td>\n",
       "    </tr>\n",
       "    <tr>\n",
       "      <th>Yes</th>\n",
       "      <td>774.0</td>\n",
       "      <td>165.0</td>\n",
       "      <td>80.0</td>\n",
       "      <td>859.0</td>\n",
       "      <td>219.0</td>\n",
       "      <td>664.0</td>\n",
       "      <td>56.0</td>\n",
       "      <td>721.0</td>\n",
       "      <td>56.0</td>\n",
       "      <td>162.0</td>\n",
       "      <td>...</td>\n",
       "      <td>267.0</td>\n",
       "      <td>718.0</td>\n",
       "      <td>56.0</td>\n",
       "      <td>165.0</td>\n",
       "      <td>842.0</td>\n",
       "      <td>75.0</td>\n",
       "      <td>22.0</td>\n",
       "      <td>240.0</td>\n",
       "      <td>699.0</td>\n",
       "      <td>240</td>\n",
       "    </tr>\n",
       "    <tr>\n",
       "      <th rowspan=\"2\" valign=\"top\">Male</th>\n",
       "      <th>No</th>\n",
       "      <td>1704.0</td>\n",
       "      <td>915.0</td>\n",
       "      <td>261.0</td>\n",
       "      <td>2358.0</td>\n",
       "      <td>992.0</td>\n",
       "      <td>910.0</td>\n",
       "      <td>717.0</td>\n",
       "      <td>1044.0</td>\n",
       "      <td>717.0</td>\n",
       "      <td>858.0</td>\n",
       "      <td>...</td>\n",
       "      <td>941.0</td>\n",
       "      <td>1031.0</td>\n",
       "      <td>717.0</td>\n",
       "      <td>871.0</td>\n",
       "      <td>1137.0</td>\n",
       "      <td>663.0</td>\n",
       "      <td>819.0</td>\n",
       "      <td>1237.0</td>\n",
       "      <td>1382.0</td>\n",
       "      <td>338</td>\n",
       "    </tr>\n",
       "    <tr>\n",
       "      <th>Yes</th>\n",
       "      <td>769.0</td>\n",
       "      <td>161.0</td>\n",
       "      <td>90.0</td>\n",
       "      <td>840.0</td>\n",
       "      <td>240.0</td>\n",
       "      <td>633.0</td>\n",
       "      <td>57.0</td>\n",
       "      <td>740.0</td>\n",
       "      <td>57.0</td>\n",
       "      <td>133.0</td>\n",
       "      <td>...</td>\n",
       "      <td>278.0</td>\n",
       "      <td>728.0</td>\n",
       "      <td>57.0</td>\n",
       "      <td>145.0</td>\n",
       "      <td>813.0</td>\n",
       "      <td>91.0</td>\n",
       "      <td>26.0</td>\n",
       "      <td>229.0</td>\n",
       "      <td>701.0</td>\n",
       "      <td>236</td>\n",
       "    </tr>\n",
       "  </tbody>\n",
       "</table>\n",
       "<p>4 rows × 25 columns</p>\n",
       "</div>"
      ],
      "text/plain": [
       "              Dependents_No  Dependents_Yes  PhoneService_No  \\\n",
       "gender Churn                                                   \n",
       "Female No            1686.0           858.0            249.0   \n",
       "       Yes            774.0           165.0             80.0   \n",
       "Male   No            1704.0           915.0            261.0   \n",
       "       Yes            769.0           161.0             90.0   \n",
       "\n",
       "              PhoneService_Yes  InternetService_DSL  \\\n",
       "gender Churn                                          \n",
       "Female No               2295.0                965.0   \n",
       "       Yes               859.0                219.0   \n",
       "Male   No               2358.0                992.0   \n",
       "       Yes               840.0                240.0   \n",
       "\n",
       "              InternetService_Fiber optic  InternetService_No  \\\n",
       "gender Churn                                                    \n",
       "Female No                           889.0               690.0   \n",
       "       Yes                          664.0                56.0   \n",
       "Male   No                           910.0               717.0   \n",
       "       Yes                          633.0                57.0   \n",
       "\n",
       "              OnlineSecurity_No  OnlineSecurity_No internet service  \\\n",
       "gender Churn                                                          \n",
       "Female No                 992.0                               690.0   \n",
       "       Yes                721.0                                56.0   \n",
       "Male   No                1044.0                               717.0   \n",
       "       Yes                740.0                                57.0   \n",
       "\n",
       "              OnlineSecurity_Yes  ...  DeviceProtection_Yes  TechSupport_No  \\\n",
       "gender Churn                      ...                                         \n",
       "Female No                  862.0  ...                 932.0           995.0   \n",
       "       Yes                 162.0  ...                 267.0           718.0   \n",
       "Male   No                  858.0  ...                 941.0          1031.0   \n",
       "       Yes                 133.0  ...                 278.0           728.0   \n",
       "\n",
       "              TechSupport_No internet service  TechSupport_Yes  \\\n",
       "gender Churn                                                     \n",
       "Female No                               690.0            859.0   \n",
       "       Yes                               56.0            165.0   \n",
       "Male   No                               717.0            871.0   \n",
       "       Yes                               57.0            145.0   \n",
       "\n",
       "              Contract_Month-to-month  Contract_One year  Contract_Two year  \\\n",
       "gender Churn                                                                  \n",
       "Female No                      1083.0              643.0              818.0   \n",
       "       Yes                      842.0               75.0               22.0   \n",
       "Male   No                      1137.0              663.0              819.0   \n",
       "       Yes                      813.0               91.0               26.0   \n",
       "\n",
       "              PaperlessBilling_No  PaperlessBilling_Yes  SeniorCitizen  \n",
       "gender Churn                                                            \n",
       "Female No                  1158.0                1386.0            328  \n",
       "       Yes                  240.0                 699.0            240  \n",
       "Male   No                  1237.0                1382.0            338  \n",
       "       Yes                  229.0                 701.0            236  \n",
       "\n",
       "[4 rows x 25 columns]"
      ]
     },
     "execution_count": 92,
     "metadata": {},
     "output_type": "execute_result"
    }
   ],
   "source": [
    "dfp=a.drop(['tenure','MonthlyCharges','TotalCharges'],axis=1,inplace=False)\n",
    "dfp"
   ]
  },
  {
   "cell_type": "code",
   "execution_count": 93,
   "metadata": {},
   "outputs": [
    {
     "data": {
      "text/html": [
       "<div>\n",
       "<style scoped>\n",
       "    .dataframe tbody tr th:only-of-type {\n",
       "        vertical-align: middle;\n",
       "    }\n",
       "\n",
       "    .dataframe tbody tr th {\n",
       "        vertical-align: top;\n",
       "    }\n",
       "\n",
       "    .dataframe thead th {\n",
       "        text-align: right;\n",
       "    }\n",
       "</style>\n",
       "<table border=\"1\" class=\"dataframe\">\n",
       "  <thead>\n",
       "    <tr style=\"text-align: right;\">\n",
       "      <th></th>\n",
       "      <th></th>\n",
       "      <th>Dependents_No</th>\n",
       "      <th>Dependents_Yes</th>\n",
       "      <th>PhoneService_No</th>\n",
       "      <th>PhoneService_Yes</th>\n",
       "      <th>InternetService_DSL</th>\n",
       "      <th>InternetService_Fiber optic</th>\n",
       "      <th>InternetService_No</th>\n",
       "      <th>OnlineSecurity_No</th>\n",
       "      <th>OnlineSecurity_No internet service</th>\n",
       "      <th>OnlineSecurity_Yes</th>\n",
       "      <th>...</th>\n",
       "      <th>TechSupport_Yes</th>\n",
       "      <th>Contract_Month-to-month</th>\n",
       "      <th>Contract_One year</th>\n",
       "      <th>Contract_Two year</th>\n",
       "      <th>PaperlessBilling_No</th>\n",
       "      <th>PaperlessBilling_Yes</th>\n",
       "      <th>SeniorCitizen</th>\n",
       "      <th>tenure</th>\n",
       "      <th>MonthlyCharges</th>\n",
       "      <th>TotalCharges</th>\n",
       "    </tr>\n",
       "    <tr>\n",
       "      <th>gender</th>\n",
       "      <th>Churn</th>\n",
       "      <th></th>\n",
       "      <th></th>\n",
       "      <th></th>\n",
       "      <th></th>\n",
       "      <th></th>\n",
       "      <th></th>\n",
       "      <th></th>\n",
       "      <th></th>\n",
       "      <th></th>\n",
       "      <th></th>\n",
       "      <th></th>\n",
       "      <th></th>\n",
       "      <th></th>\n",
       "      <th></th>\n",
       "      <th></th>\n",
       "      <th></th>\n",
       "      <th></th>\n",
       "      <th></th>\n",
       "      <th></th>\n",
       "      <th></th>\n",
       "      <th></th>\n",
       "    </tr>\n",
       "  </thead>\n",
       "  <tbody>\n",
       "    <tr>\n",
       "      <th rowspan=\"2\" valign=\"top\">Female</th>\n",
       "      <th>No</th>\n",
       "      <td>0.662736</td>\n",
       "      <td>0.337264</td>\n",
       "      <td>0.097877</td>\n",
       "      <td>0.902123</td>\n",
       "      <td>0.379324</td>\n",
       "      <td>0.349450</td>\n",
       "      <td>0.271226</td>\n",
       "      <td>0.389937</td>\n",
       "      <td>0.271226</td>\n",
       "      <td>0.338836</td>\n",
       "      <td>...</td>\n",
       "      <td>0.337657</td>\n",
       "      <td>0.425708</td>\n",
       "      <td>0.252752</td>\n",
       "      <td>0.321541</td>\n",
       "      <td>0.455189</td>\n",
       "      <td>0.544811</td>\n",
       "      <td>0.128931</td>\n",
       "      <td>37.933176</td>\n",
       "      <td>61.674941</td>\n",
       "      <td>2594.054422</td>\n",
       "    </tr>\n",
       "    <tr>\n",
       "      <th>Yes</th>\n",
       "      <td>0.824281</td>\n",
       "      <td>0.175719</td>\n",
       "      <td>0.085197</td>\n",
       "      <td>0.914803</td>\n",
       "      <td>0.233227</td>\n",
       "      <td>0.707135</td>\n",
       "      <td>0.059638</td>\n",
       "      <td>0.767838</td>\n",
       "      <td>0.059638</td>\n",
       "      <td>0.172524</td>\n",
       "      <td>...</td>\n",
       "      <td>0.175719</td>\n",
       "      <td>0.896699</td>\n",
       "      <td>0.079872</td>\n",
       "      <td>0.023429</td>\n",
       "      <td>0.255591</td>\n",
       "      <td>0.744409</td>\n",
       "      <td>0.255591</td>\n",
       "      <td>17.004260</td>\n",
       "      <td>74.812087</td>\n",
       "      <td>1440.979499</td>\n",
       "    </tr>\n",
       "    <tr>\n",
       "      <th rowspan=\"2\" valign=\"top\">Male</th>\n",
       "      <th>No</th>\n",
       "      <td>0.650630</td>\n",
       "      <td>0.349370</td>\n",
       "      <td>0.099656</td>\n",
       "      <td>0.900344</td>\n",
       "      <td>0.378771</td>\n",
       "      <td>0.347461</td>\n",
       "      <td>0.273769</td>\n",
       "      <td>0.398625</td>\n",
       "      <td>0.273769</td>\n",
       "      <td>0.327606</td>\n",
       "      <td>...</td>\n",
       "      <td>0.332570</td>\n",
       "      <td>0.434135</td>\n",
       "      <td>0.253150</td>\n",
       "      <td>0.312715</td>\n",
       "      <td>0.472318</td>\n",
       "      <td>0.527682</td>\n",
       "      <td>0.129057</td>\n",
       "      <td>37.374952</td>\n",
       "      <td>60.950401</td>\n",
       "      <td>2517.742402</td>\n",
       "    </tr>\n",
       "    <tr>\n",
       "      <th>Yes</th>\n",
       "      <td>0.826882</td>\n",
       "      <td>0.173118</td>\n",
       "      <td>0.096774</td>\n",
       "      <td>0.903226</td>\n",
       "      <td>0.258065</td>\n",
       "      <td>0.680645</td>\n",
       "      <td>0.061290</td>\n",
       "      <td>0.795699</td>\n",
       "      <td>0.061290</td>\n",
       "      <td>0.143011</td>\n",
       "      <td>...</td>\n",
       "      <td>0.155914</td>\n",
       "      <td>0.874194</td>\n",
       "      <td>0.097849</td>\n",
       "      <td>0.027957</td>\n",
       "      <td>0.246237</td>\n",
       "      <td>0.753763</td>\n",
       "      <td>0.253763</td>\n",
       "      <td>18.963441</td>\n",
       "      <td>74.066989</td>\n",
       "      <td>1623.491559</td>\n",
       "    </tr>\n",
       "  </tbody>\n",
       "</table>\n",
       "<p>4 rows × 28 columns</p>\n",
       "</div>"
      ],
      "text/plain": [
       "              Dependents_No  Dependents_Yes  PhoneService_No  \\\n",
       "gender Churn                                                   \n",
       "Female No          0.662736        0.337264         0.097877   \n",
       "       Yes         0.824281        0.175719         0.085197   \n",
       "Male   No          0.650630        0.349370         0.099656   \n",
       "       Yes         0.826882        0.173118         0.096774   \n",
       "\n",
       "              PhoneService_Yes  InternetService_DSL  \\\n",
       "gender Churn                                          \n",
       "Female No             0.902123             0.379324   \n",
       "       Yes            0.914803             0.233227   \n",
       "Male   No             0.900344             0.378771   \n",
       "       Yes            0.903226             0.258065   \n",
       "\n",
       "              InternetService_Fiber optic  InternetService_No  \\\n",
       "gender Churn                                                    \n",
       "Female No                        0.349450            0.271226   \n",
       "       Yes                       0.707135            0.059638   \n",
       "Male   No                        0.347461            0.273769   \n",
       "       Yes                       0.680645            0.061290   \n",
       "\n",
       "              OnlineSecurity_No  OnlineSecurity_No internet service  \\\n",
       "gender Churn                                                          \n",
       "Female No              0.389937                            0.271226   \n",
       "       Yes             0.767838                            0.059638   \n",
       "Male   No              0.398625                            0.273769   \n",
       "       Yes             0.795699                            0.061290   \n",
       "\n",
       "              OnlineSecurity_Yes  ...  TechSupport_Yes  \\\n",
       "gender Churn                      ...                    \n",
       "Female No               0.338836  ...         0.337657   \n",
       "       Yes              0.172524  ...         0.175719   \n",
       "Male   No               0.327606  ...         0.332570   \n",
       "       Yes              0.143011  ...         0.155914   \n",
       "\n",
       "              Contract_Month-to-month  Contract_One year  Contract_Two year  \\\n",
       "gender Churn                                                                  \n",
       "Female No                    0.425708           0.252752           0.321541   \n",
       "       Yes                   0.896699           0.079872           0.023429   \n",
       "Male   No                    0.434135           0.253150           0.312715   \n",
       "       Yes                   0.874194           0.097849           0.027957   \n",
       "\n",
       "              PaperlessBilling_No  PaperlessBilling_Yes  SeniorCitizen  \\\n",
       "gender Churn                                                             \n",
       "Female No                0.455189              0.544811       0.128931   \n",
       "       Yes               0.255591              0.744409       0.255591   \n",
       "Male   No                0.472318              0.527682       0.129057   \n",
       "       Yes               0.246237              0.753763       0.253763   \n",
       "\n",
       "                 tenure  MonthlyCharges  TotalCharges  \n",
       "gender Churn                                           \n",
       "Female No     37.933176       61.674941   2594.054422  \n",
       "       Yes    17.004260       74.812087   1440.979499  \n",
       "Male   No     37.374952       60.950401   2517.742402  \n",
       "       Yes    18.963441       74.066989   1623.491559  \n",
       "\n",
       "[4 rows x 28 columns]"
      ]
     },
     "execution_count": 93,
     "metadata": {},
     "output_type": "execute_result"
    }
   ],
   "source": [
    "b=dataprofil.groupby(['gender','Churn']).mean()\n",
    "b"
   ]
  },
  {
   "cell_type": "code",
   "execution_count": 94,
   "metadata": {},
   "outputs": [],
   "source": [
    "dfp1=b.drop(['Dependents_No','Dependents_Yes','PhoneService_No','PhoneService_Yes','InternetService_DSL','InternetService_Fiber optic','InternetService_No','OnlineSecurity_No','OnlineSecurity_No internet service','OnlineSecurity_Yes', 'OnlineBackup_No','OnlineBackup_No internet service','OnlineBackup_Yes','DeviceProtection_No','DeviceProtection_No internet service','DeviceProtection_Yes','TechSupport_No','TechSupport_No internet service','TechSupport_Yes','Contract_Month-to-month','Contract_One year','Contract_Two year','PaperlessBilling_No','PaperlessBilling_Yes','SeniorCitizen'],axis=1,inplace=False)"
   ]
  },
  {
   "cell_type": "code",
   "execution_count": 95,
   "metadata": {},
   "outputs": [
    {
     "data": {
      "text/html": [
       "<div>\n",
       "<style scoped>\n",
       "    .dataframe tbody tr th:only-of-type {\n",
       "        vertical-align: middle;\n",
       "    }\n",
       "\n",
       "    .dataframe tbody tr th {\n",
       "        vertical-align: top;\n",
       "    }\n",
       "\n",
       "    .dataframe thead th {\n",
       "        text-align: right;\n",
       "    }\n",
       "</style>\n",
       "<table border=\"1\" class=\"dataframe\">\n",
       "  <thead>\n",
       "    <tr style=\"text-align: right;\">\n",
       "      <th></th>\n",
       "      <th></th>\n",
       "      <th>tenure</th>\n",
       "      <th>MonthlyCharges</th>\n",
       "      <th>TotalCharges</th>\n",
       "    </tr>\n",
       "    <tr>\n",
       "      <th>gender</th>\n",
       "      <th>Churn</th>\n",
       "      <th></th>\n",
       "      <th></th>\n",
       "      <th></th>\n",
       "    </tr>\n",
       "  </thead>\n",
       "  <tbody>\n",
       "    <tr>\n",
       "      <th rowspan=\"2\" valign=\"top\">Female</th>\n",
       "      <th>No</th>\n",
       "      <td>37.933176</td>\n",
       "      <td>61.674941</td>\n",
       "      <td>2594.054422</td>\n",
       "    </tr>\n",
       "    <tr>\n",
       "      <th>Yes</th>\n",
       "      <td>17.004260</td>\n",
       "      <td>74.812087</td>\n",
       "      <td>1440.979499</td>\n",
       "    </tr>\n",
       "    <tr>\n",
       "      <th rowspan=\"2\" valign=\"top\">Male</th>\n",
       "      <th>No</th>\n",
       "      <td>37.374952</td>\n",
       "      <td>60.950401</td>\n",
       "      <td>2517.742402</td>\n",
       "    </tr>\n",
       "    <tr>\n",
       "      <th>Yes</th>\n",
       "      <td>18.963441</td>\n",
       "      <td>74.066989</td>\n",
       "      <td>1623.491559</td>\n",
       "    </tr>\n",
       "  </tbody>\n",
       "</table>\n",
       "</div>"
      ],
      "text/plain": [
       "                 tenure  MonthlyCharges  TotalCharges\n",
       "gender Churn                                         \n",
       "Female No     37.933176       61.674941   2594.054422\n",
       "       Yes    17.004260       74.812087   1440.979499\n",
       "Male   No     37.374952       60.950401   2517.742402\n",
       "       Yes    18.963441       74.066989   1623.491559"
      ]
     },
     "execution_count": 95,
     "metadata": {},
     "output_type": "execute_result"
    }
   ],
   "source": [
    "dfp1"
   ]
  },
  {
   "cell_type": "code",
   "execution_count": 96,
   "metadata": {},
   "outputs": [
    {
     "data": {
      "text/html": [
       "<div>\n",
       "<style scoped>\n",
       "    .dataframe tbody tr th:only-of-type {\n",
       "        vertical-align: middle;\n",
       "    }\n",
       "\n",
       "    .dataframe tbody tr th {\n",
       "        vertical-align: top;\n",
       "    }\n",
       "\n",
       "    .dataframe thead th {\n",
       "        text-align: right;\n",
       "    }\n",
       "</style>\n",
       "<table border=\"1\" class=\"dataframe\">\n",
       "  <thead>\n",
       "    <tr style=\"text-align: right;\">\n",
       "      <th></th>\n",
       "      <th></th>\n",
       "      <th>Dependents_No</th>\n",
       "      <th>Dependents_Yes</th>\n",
       "      <th>PhoneService_No</th>\n",
       "      <th>PhoneService_Yes</th>\n",
       "      <th>InternetService_DSL</th>\n",
       "      <th>InternetService_Fiber optic</th>\n",
       "      <th>InternetService_No</th>\n",
       "      <th>OnlineSecurity_No</th>\n",
       "      <th>OnlineSecurity_No internet service</th>\n",
       "      <th>OnlineSecurity_Yes</th>\n",
       "      <th>...</th>\n",
       "      <th>TechSupport_Yes</th>\n",
       "      <th>Contract_Month-to-month</th>\n",
       "      <th>Contract_One year</th>\n",
       "      <th>Contract_Two year</th>\n",
       "      <th>PaperlessBilling_No</th>\n",
       "      <th>PaperlessBilling_Yes</th>\n",
       "      <th>SeniorCitizen</th>\n",
       "      <th>tenure</th>\n",
       "      <th>MonthlyCharges</th>\n",
       "      <th>TotalCharges</th>\n",
       "    </tr>\n",
       "    <tr>\n",
       "      <th>gender</th>\n",
       "      <th>Churn</th>\n",
       "      <th></th>\n",
       "      <th></th>\n",
       "      <th></th>\n",
       "      <th></th>\n",
       "      <th></th>\n",
       "      <th></th>\n",
       "      <th></th>\n",
       "      <th></th>\n",
       "      <th></th>\n",
       "      <th></th>\n",
       "      <th></th>\n",
       "      <th></th>\n",
       "      <th></th>\n",
       "      <th></th>\n",
       "      <th></th>\n",
       "      <th></th>\n",
       "      <th></th>\n",
       "      <th></th>\n",
       "      <th></th>\n",
       "      <th></th>\n",
       "      <th></th>\n",
       "    </tr>\n",
       "  </thead>\n",
       "  <tbody>\n",
       "    <tr>\n",
       "      <th rowspan=\"2\" valign=\"top\">Female</th>\n",
       "      <th>No</th>\n",
       "      <td>1686.0</td>\n",
       "      <td>858.0</td>\n",
       "      <td>249.0</td>\n",
       "      <td>2295.0</td>\n",
       "      <td>965.0</td>\n",
       "      <td>889.0</td>\n",
       "      <td>690.0</td>\n",
       "      <td>992.0</td>\n",
       "      <td>690.0</td>\n",
       "      <td>862.0</td>\n",
       "      <td>...</td>\n",
       "      <td>859.0</td>\n",
       "      <td>1083.0</td>\n",
       "      <td>643.0</td>\n",
       "      <td>818.0</td>\n",
       "      <td>1158.0</td>\n",
       "      <td>1386.0</td>\n",
       "      <td>328</td>\n",
       "      <td>37.933176</td>\n",
       "      <td>61.674941</td>\n",
       "      <td>2594.054422</td>\n",
       "    </tr>\n",
       "    <tr>\n",
       "      <th>Yes</th>\n",
       "      <td>774.0</td>\n",
       "      <td>165.0</td>\n",
       "      <td>80.0</td>\n",
       "      <td>859.0</td>\n",
       "      <td>219.0</td>\n",
       "      <td>664.0</td>\n",
       "      <td>56.0</td>\n",
       "      <td>721.0</td>\n",
       "      <td>56.0</td>\n",
       "      <td>162.0</td>\n",
       "      <td>...</td>\n",
       "      <td>165.0</td>\n",
       "      <td>842.0</td>\n",
       "      <td>75.0</td>\n",
       "      <td>22.0</td>\n",
       "      <td>240.0</td>\n",
       "      <td>699.0</td>\n",
       "      <td>240</td>\n",
       "      <td>17.004260</td>\n",
       "      <td>74.812087</td>\n",
       "      <td>1440.979499</td>\n",
       "    </tr>\n",
       "    <tr>\n",
       "      <th rowspan=\"2\" valign=\"top\">Male</th>\n",
       "      <th>No</th>\n",
       "      <td>1704.0</td>\n",
       "      <td>915.0</td>\n",
       "      <td>261.0</td>\n",
       "      <td>2358.0</td>\n",
       "      <td>992.0</td>\n",
       "      <td>910.0</td>\n",
       "      <td>717.0</td>\n",
       "      <td>1044.0</td>\n",
       "      <td>717.0</td>\n",
       "      <td>858.0</td>\n",
       "      <td>...</td>\n",
       "      <td>871.0</td>\n",
       "      <td>1137.0</td>\n",
       "      <td>663.0</td>\n",
       "      <td>819.0</td>\n",
       "      <td>1237.0</td>\n",
       "      <td>1382.0</td>\n",
       "      <td>338</td>\n",
       "      <td>37.374952</td>\n",
       "      <td>60.950401</td>\n",
       "      <td>2517.742402</td>\n",
       "    </tr>\n",
       "    <tr>\n",
       "      <th>Yes</th>\n",
       "      <td>769.0</td>\n",
       "      <td>161.0</td>\n",
       "      <td>90.0</td>\n",
       "      <td>840.0</td>\n",
       "      <td>240.0</td>\n",
       "      <td>633.0</td>\n",
       "      <td>57.0</td>\n",
       "      <td>740.0</td>\n",
       "      <td>57.0</td>\n",
       "      <td>133.0</td>\n",
       "      <td>...</td>\n",
       "      <td>145.0</td>\n",
       "      <td>813.0</td>\n",
       "      <td>91.0</td>\n",
       "      <td>26.0</td>\n",
       "      <td>229.0</td>\n",
       "      <td>701.0</td>\n",
       "      <td>236</td>\n",
       "      <td>18.963441</td>\n",
       "      <td>74.066989</td>\n",
       "      <td>1623.491559</td>\n",
       "    </tr>\n",
       "  </tbody>\n",
       "</table>\n",
       "<p>4 rows × 28 columns</p>\n",
       "</div>"
      ],
      "text/plain": [
       "              Dependents_No  Dependents_Yes  PhoneService_No  \\\n",
       "gender Churn                                                   \n",
       "Female No            1686.0           858.0            249.0   \n",
       "       Yes            774.0           165.0             80.0   \n",
       "Male   No            1704.0           915.0            261.0   \n",
       "       Yes            769.0           161.0             90.0   \n",
       "\n",
       "              PhoneService_Yes  InternetService_DSL  \\\n",
       "gender Churn                                          \n",
       "Female No               2295.0                965.0   \n",
       "       Yes               859.0                219.0   \n",
       "Male   No               2358.0                992.0   \n",
       "       Yes               840.0                240.0   \n",
       "\n",
       "              InternetService_Fiber optic  InternetService_No  \\\n",
       "gender Churn                                                    \n",
       "Female No                           889.0               690.0   \n",
       "       Yes                          664.0                56.0   \n",
       "Male   No                           910.0               717.0   \n",
       "       Yes                          633.0                57.0   \n",
       "\n",
       "              OnlineSecurity_No  OnlineSecurity_No internet service  \\\n",
       "gender Churn                                                          \n",
       "Female No                 992.0                               690.0   \n",
       "       Yes                721.0                                56.0   \n",
       "Male   No                1044.0                               717.0   \n",
       "       Yes                740.0                                57.0   \n",
       "\n",
       "              OnlineSecurity_Yes  ...  TechSupport_Yes  \\\n",
       "gender Churn                      ...                    \n",
       "Female No                  862.0  ...            859.0   \n",
       "       Yes                 162.0  ...            165.0   \n",
       "Male   No                  858.0  ...            871.0   \n",
       "       Yes                 133.0  ...            145.0   \n",
       "\n",
       "              Contract_Month-to-month  Contract_One year  Contract_Two year  \\\n",
       "gender Churn                                                                  \n",
       "Female No                      1083.0              643.0              818.0   \n",
       "       Yes                      842.0               75.0               22.0   \n",
       "Male   No                      1137.0              663.0              819.0   \n",
       "       Yes                      813.0               91.0               26.0   \n",
       "\n",
       "              PaperlessBilling_No  PaperlessBilling_Yes  SeniorCitizen  \\\n",
       "gender Churn                                                             \n",
       "Female No                  1158.0                1386.0            328   \n",
       "       Yes                  240.0                 699.0            240   \n",
       "Male   No                  1237.0                1382.0            338   \n",
       "       Yes                  229.0                 701.0            236   \n",
       "\n",
       "                 tenure  MonthlyCharges  TotalCharges  \n",
       "gender Churn                                           \n",
       "Female No     37.933176       61.674941   2594.054422  \n",
       "       Yes    17.004260       74.812087   1440.979499  \n",
       "Male   No     37.374952       60.950401   2517.742402  \n",
       "       Yes    18.963441       74.066989   1623.491559  \n",
       "\n",
       "[4 rows x 28 columns]"
      ]
     },
     "execution_count": 96,
     "metadata": {},
     "output_type": "execute_result"
    }
   ],
   "source": [
    "dfprofil = pd.concat([dfp,dfp1], axis = 1)\n",
    "dfprofil"
   ]
  },
  {
   "cell_type": "code",
   "execution_count": 97,
   "metadata": {},
   "outputs": [],
   "source": [
    "from sklearn import preprocessing \n",
    "values = preprocessing.normalize(dfprofil)\n",
    "dfprofil[['Dependents_No','Dependents_Yes','PhoneService_No','PhoneService_Yes','InternetService_DSL','InternetService_Fiber optic','InternetService_No','OnlineSecurity_No','OnlineSecurity_No internet service','OnlineSecurity_Yes', 'OnlineBackup_No','OnlineBackup_No internet service','OnlineBackup_Yes','DeviceProtection_No','DeviceProtection_No internet service','DeviceProtection_Yes','TechSupport_No','TechSupport_No internet service','TechSupport_Yes','Contract_Month-to-month','Contract_One year','Contract_Two year','PaperlessBilling_No','PaperlessBilling_Yes','SeniorCitizen','tenure','MonthlyCharges','TotalCharges']]=values"
   ]
  },
  {
   "cell_type": "code",
   "execution_count": 98,
   "metadata": {},
   "outputs": [
    {
     "data": {
      "text/html": [
       "<div>\n",
       "<style scoped>\n",
       "    .dataframe tbody tr th:only-of-type {\n",
       "        vertical-align: middle;\n",
       "    }\n",
       "\n",
       "    .dataframe tbody tr th {\n",
       "        vertical-align: top;\n",
       "    }\n",
       "\n",
       "    .dataframe thead th {\n",
       "        text-align: right;\n",
       "    }\n",
       "</style>\n",
       "<table border=\"1\" class=\"dataframe\">\n",
       "  <thead>\n",
       "    <tr style=\"text-align: right;\">\n",
       "      <th></th>\n",
       "      <th></th>\n",
       "      <th>Dependents_No</th>\n",
       "      <th>Dependents_Yes</th>\n",
       "      <th>PhoneService_No</th>\n",
       "      <th>PhoneService_Yes</th>\n",
       "      <th>InternetService_DSL</th>\n",
       "      <th>InternetService_Fiber optic</th>\n",
       "      <th>InternetService_No</th>\n",
       "      <th>OnlineSecurity_No</th>\n",
       "      <th>OnlineSecurity_No internet service</th>\n",
       "      <th>OnlineSecurity_Yes</th>\n",
       "      <th>...</th>\n",
       "      <th>TechSupport_Yes</th>\n",
       "      <th>Contract_Month-to-month</th>\n",
       "      <th>Contract_One year</th>\n",
       "      <th>Contract_Two year</th>\n",
       "      <th>PaperlessBilling_No</th>\n",
       "      <th>PaperlessBilling_Yes</th>\n",
       "      <th>SeniorCitizen</th>\n",
       "      <th>tenure</th>\n",
       "      <th>MonthlyCharges</th>\n",
       "      <th>TotalCharges</th>\n",
       "    </tr>\n",
       "    <tr>\n",
       "      <th>gender</th>\n",
       "      <th>Churn</th>\n",
       "      <th></th>\n",
       "      <th></th>\n",
       "      <th></th>\n",
       "      <th></th>\n",
       "      <th></th>\n",
       "      <th></th>\n",
       "      <th></th>\n",
       "      <th></th>\n",
       "      <th></th>\n",
       "      <th></th>\n",
       "      <th></th>\n",
       "      <th></th>\n",
       "      <th></th>\n",
       "      <th></th>\n",
       "      <th></th>\n",
       "      <th></th>\n",
       "      <th></th>\n",
       "      <th></th>\n",
       "      <th></th>\n",
       "      <th></th>\n",
       "      <th></th>\n",
       "    </tr>\n",
       "  </thead>\n",
       "  <tbody>\n",
       "    <tr>\n",
       "      <th rowspan=\"2\" valign=\"top\">Female</th>\n",
       "      <th>No</th>\n",
       "      <td>0.296826</td>\n",
       "      <td>0.151054</td>\n",
       "      <td>0.043837</td>\n",
       "      <td>0.404042</td>\n",
       "      <td>0.169891</td>\n",
       "      <td>0.156511</td>\n",
       "      <td>0.121477</td>\n",
       "      <td>0.174645</td>\n",
       "      <td>0.121477</td>\n",
       "      <td>0.151758</td>\n",
       "      <td>...</td>\n",
       "      <td>0.151230</td>\n",
       "      <td>0.190666</td>\n",
       "      <td>0.113202</td>\n",
       "      <td>0.144012</td>\n",
       "      <td>0.203870</td>\n",
       "      <td>0.244010</td>\n",
       "      <td>0.057745</td>\n",
       "      <td>0.006678</td>\n",
       "      <td>0.010858</td>\n",
       "      <td>0.456692</td>\n",
       "    </tr>\n",
       "    <tr>\n",
       "      <th>Yes</th>\n",
       "      <td>0.287100</td>\n",
       "      <td>0.061203</td>\n",
       "      <td>0.029674</td>\n",
       "      <td>0.318629</td>\n",
       "      <td>0.081234</td>\n",
       "      <td>0.246297</td>\n",
       "      <td>0.020772</td>\n",
       "      <td>0.267440</td>\n",
       "      <td>0.020772</td>\n",
       "      <td>0.060091</td>\n",
       "      <td>...</td>\n",
       "      <td>0.061203</td>\n",
       "      <td>0.312323</td>\n",
       "      <td>0.027820</td>\n",
       "      <td>0.008160</td>\n",
       "      <td>0.089023</td>\n",
       "      <td>0.259280</td>\n",
       "      <td>0.089023</td>\n",
       "      <td>0.006307</td>\n",
       "      <td>0.027750</td>\n",
       "      <td>0.534502</td>\n",
       "    </tr>\n",
       "    <tr>\n",
       "      <th rowspan=\"2\" valign=\"top\">Male</th>\n",
       "      <th>No</th>\n",
       "      <td>0.295205</td>\n",
       "      <td>0.158517</td>\n",
       "      <td>0.045216</td>\n",
       "      <td>0.408506</td>\n",
       "      <td>0.171857</td>\n",
       "      <td>0.157651</td>\n",
       "      <td>0.124215</td>\n",
       "      <td>0.180865</td>\n",
       "      <td>0.124215</td>\n",
       "      <td>0.148642</td>\n",
       "      <td>...</td>\n",
       "      <td>0.150894</td>\n",
       "      <td>0.196977</td>\n",
       "      <td>0.114860</td>\n",
       "      <td>0.141886</td>\n",
       "      <td>0.214301</td>\n",
       "      <td>0.239421</td>\n",
       "      <td>0.058556</td>\n",
       "      <td>0.006475</td>\n",
       "      <td>0.010559</td>\n",
       "      <td>0.436180</td>\n",
       "    </tr>\n",
       "    <tr>\n",
       "      <th>Yes</th>\n",
       "      <td>0.276968</td>\n",
       "      <td>0.057987</td>\n",
       "      <td>0.032415</td>\n",
       "      <td>0.302539</td>\n",
       "      <td>0.086440</td>\n",
       "      <td>0.227985</td>\n",
       "      <td>0.020529</td>\n",
       "      <td>0.266523</td>\n",
       "      <td>0.020529</td>\n",
       "      <td>0.047902</td>\n",
       "      <td>...</td>\n",
       "      <td>0.052224</td>\n",
       "      <td>0.292815</td>\n",
       "      <td>0.032775</td>\n",
       "      <td>0.009364</td>\n",
       "      <td>0.082478</td>\n",
       "      <td>0.252476</td>\n",
       "      <td>0.084999</td>\n",
       "      <td>0.006830</td>\n",
       "      <td>0.026676</td>\n",
       "      <td>0.584726</td>\n",
       "    </tr>\n",
       "  </tbody>\n",
       "</table>\n",
       "<p>4 rows × 28 columns</p>\n",
       "</div>"
      ],
      "text/plain": [
       "              Dependents_No  Dependents_Yes  PhoneService_No  \\\n",
       "gender Churn                                                   \n",
       "Female No          0.296826        0.151054         0.043837   \n",
       "       Yes         0.287100        0.061203         0.029674   \n",
       "Male   No          0.295205        0.158517         0.045216   \n",
       "       Yes         0.276968        0.057987         0.032415   \n",
       "\n",
       "              PhoneService_Yes  InternetService_DSL  \\\n",
       "gender Churn                                          \n",
       "Female No             0.404042             0.169891   \n",
       "       Yes            0.318629             0.081234   \n",
       "Male   No             0.408506             0.171857   \n",
       "       Yes            0.302539             0.086440   \n",
       "\n",
       "              InternetService_Fiber optic  InternetService_No  \\\n",
       "gender Churn                                                    \n",
       "Female No                        0.156511            0.121477   \n",
       "       Yes                       0.246297            0.020772   \n",
       "Male   No                        0.157651            0.124215   \n",
       "       Yes                       0.227985            0.020529   \n",
       "\n",
       "              OnlineSecurity_No  OnlineSecurity_No internet service  \\\n",
       "gender Churn                                                          \n",
       "Female No              0.174645                            0.121477   \n",
       "       Yes             0.267440                            0.020772   \n",
       "Male   No              0.180865                            0.124215   \n",
       "       Yes             0.266523                            0.020529   \n",
       "\n",
       "              OnlineSecurity_Yes  ...  TechSupport_Yes  \\\n",
       "gender Churn                      ...                    \n",
       "Female No               0.151758  ...         0.151230   \n",
       "       Yes              0.060091  ...         0.061203   \n",
       "Male   No               0.148642  ...         0.150894   \n",
       "       Yes              0.047902  ...         0.052224   \n",
       "\n",
       "              Contract_Month-to-month  Contract_One year  Contract_Two year  \\\n",
       "gender Churn                                                                  \n",
       "Female No                    0.190666           0.113202           0.144012   \n",
       "       Yes                   0.312323           0.027820           0.008160   \n",
       "Male   No                    0.196977           0.114860           0.141886   \n",
       "       Yes                   0.292815           0.032775           0.009364   \n",
       "\n",
       "              PaperlessBilling_No  PaperlessBilling_Yes  SeniorCitizen  \\\n",
       "gender Churn                                                             \n",
       "Female No                0.203870              0.244010       0.057745   \n",
       "       Yes               0.089023              0.259280       0.089023   \n",
       "Male   No                0.214301              0.239421       0.058556   \n",
       "       Yes               0.082478              0.252476       0.084999   \n",
       "\n",
       "                tenure  MonthlyCharges  TotalCharges  \n",
       "gender Churn                                          \n",
       "Female No     0.006678        0.010858      0.456692  \n",
       "       Yes    0.006307        0.027750      0.534502  \n",
       "Male   No     0.006475        0.010559      0.436180  \n",
       "       Yes    0.006830        0.026676      0.584726  \n",
       "\n",
       "[4 rows x 28 columns]"
      ]
     },
     "execution_count": 98,
     "metadata": {},
     "output_type": "execute_result"
    }
   ],
   "source": [
    "dfprofil"
   ]
  },
  {
   "cell_type": "code",
   "execution_count": 99,
   "metadata": {},
   "outputs": [
    {
     "data": {
      "text/html": [
       "<div>\n",
       "<style scoped>\n",
       "    .dataframe tbody tr th:only-of-type {\n",
       "        vertical-align: middle;\n",
       "    }\n",
       "\n",
       "    .dataframe tbody tr th {\n",
       "        vertical-align: top;\n",
       "    }\n",
       "\n",
       "    .dataframe thead th {\n",
       "        text-align: right;\n",
       "    }\n",
       "</style>\n",
       "<table border=\"1\" class=\"dataframe\">\n",
       "  <thead>\n",
       "    <tr style=\"text-align: right;\">\n",
       "      <th></th>\n",
       "      <th>gender</th>\n",
       "      <th>Churn</th>\n",
       "      <th>Dependents_No</th>\n",
       "      <th>Dependents_Yes</th>\n",
       "      <th>PhoneService_No</th>\n",
       "      <th>PhoneService_Yes</th>\n",
       "      <th>InternetService_DSL</th>\n",
       "      <th>InternetService_Fiber optic</th>\n",
       "      <th>InternetService_No</th>\n",
       "      <th>OnlineSecurity_No</th>\n",
       "      <th>...</th>\n",
       "      <th>Contract_Month-to-month</th>\n",
       "      <th>Contract_One year</th>\n",
       "      <th>Contract_Two year</th>\n",
       "      <th>PaperlessBilling_No</th>\n",
       "      <th>PaperlessBilling_Yes</th>\n",
       "      <th>SeniorCitizen</th>\n",
       "      <th>tenure</th>\n",
       "      <th>MonthlyCharges</th>\n",
       "      <th>TotalCharges</th>\n",
       "      <th>plot</th>\n",
       "    </tr>\n",
       "  </thead>\n",
       "  <tbody>\n",
       "    <tr>\n",
       "      <th>0</th>\n",
       "      <td>Female</td>\n",
       "      <td>No</td>\n",
       "      <td>0.296826</td>\n",
       "      <td>0.151054</td>\n",
       "      <td>0.043837</td>\n",
       "      <td>0.404042</td>\n",
       "      <td>0.169891</td>\n",
       "      <td>0.156511</td>\n",
       "      <td>0.121477</td>\n",
       "      <td>0.174645</td>\n",
       "      <td>...</td>\n",
       "      <td>0.190666</td>\n",
       "      <td>0.113202</td>\n",
       "      <td>0.144012</td>\n",
       "      <td>0.203870</td>\n",
       "      <td>0.244010</td>\n",
       "      <td>0.057745</td>\n",
       "      <td>0.006678</td>\n",
       "      <td>0.010858</td>\n",
       "      <td>0.456692</td>\n",
       "      <td>FemaleNo</td>\n",
       "    </tr>\n",
       "    <tr>\n",
       "      <th>1</th>\n",
       "      <td>Female</td>\n",
       "      <td>Yes</td>\n",
       "      <td>0.287100</td>\n",
       "      <td>0.061203</td>\n",
       "      <td>0.029674</td>\n",
       "      <td>0.318629</td>\n",
       "      <td>0.081234</td>\n",
       "      <td>0.246297</td>\n",
       "      <td>0.020772</td>\n",
       "      <td>0.267440</td>\n",
       "      <td>...</td>\n",
       "      <td>0.312323</td>\n",
       "      <td>0.027820</td>\n",
       "      <td>0.008160</td>\n",
       "      <td>0.089023</td>\n",
       "      <td>0.259280</td>\n",
       "      <td>0.089023</td>\n",
       "      <td>0.006307</td>\n",
       "      <td>0.027750</td>\n",
       "      <td>0.534502</td>\n",
       "      <td>FemaleYes</td>\n",
       "    </tr>\n",
       "    <tr>\n",
       "      <th>2</th>\n",
       "      <td>Male</td>\n",
       "      <td>No</td>\n",
       "      <td>0.295205</td>\n",
       "      <td>0.158517</td>\n",
       "      <td>0.045216</td>\n",
       "      <td>0.408506</td>\n",
       "      <td>0.171857</td>\n",
       "      <td>0.157651</td>\n",
       "      <td>0.124215</td>\n",
       "      <td>0.180865</td>\n",
       "      <td>...</td>\n",
       "      <td>0.196977</td>\n",
       "      <td>0.114860</td>\n",
       "      <td>0.141886</td>\n",
       "      <td>0.214301</td>\n",
       "      <td>0.239421</td>\n",
       "      <td>0.058556</td>\n",
       "      <td>0.006475</td>\n",
       "      <td>0.010559</td>\n",
       "      <td>0.436180</td>\n",
       "      <td>MaleNo</td>\n",
       "    </tr>\n",
       "    <tr>\n",
       "      <th>3</th>\n",
       "      <td>Male</td>\n",
       "      <td>Yes</td>\n",
       "      <td>0.276968</td>\n",
       "      <td>0.057987</td>\n",
       "      <td>0.032415</td>\n",
       "      <td>0.302539</td>\n",
       "      <td>0.086440</td>\n",
       "      <td>0.227985</td>\n",
       "      <td>0.020529</td>\n",
       "      <td>0.266523</td>\n",
       "      <td>...</td>\n",
       "      <td>0.292815</td>\n",
       "      <td>0.032775</td>\n",
       "      <td>0.009364</td>\n",
       "      <td>0.082478</td>\n",
       "      <td>0.252476</td>\n",
       "      <td>0.084999</td>\n",
       "      <td>0.006830</td>\n",
       "      <td>0.026676</td>\n",
       "      <td>0.584726</td>\n",
       "      <td>MaleYes</td>\n",
       "    </tr>\n",
       "  </tbody>\n",
       "</table>\n",
       "<p>4 rows × 31 columns</p>\n",
       "</div>"
      ],
      "text/plain": [
       "   gender Churn  Dependents_No  Dependents_Yes  PhoneService_No  \\\n",
       "0  Female    No       0.296826        0.151054         0.043837   \n",
       "1  Female   Yes       0.287100        0.061203         0.029674   \n",
       "2    Male    No       0.295205        0.158517         0.045216   \n",
       "3    Male   Yes       0.276968        0.057987         0.032415   \n",
       "\n",
       "   PhoneService_Yes  InternetService_DSL  InternetService_Fiber optic  \\\n",
       "0          0.404042             0.169891                     0.156511   \n",
       "1          0.318629             0.081234                     0.246297   \n",
       "2          0.408506             0.171857                     0.157651   \n",
       "3          0.302539             0.086440                     0.227985   \n",
       "\n",
       "   InternetService_No  OnlineSecurity_No  ...  Contract_Month-to-month  \\\n",
       "0            0.121477           0.174645  ...                 0.190666   \n",
       "1            0.020772           0.267440  ...                 0.312323   \n",
       "2            0.124215           0.180865  ...                 0.196977   \n",
       "3            0.020529           0.266523  ...                 0.292815   \n",
       "\n",
       "   Contract_One year  Contract_Two year  PaperlessBilling_No  \\\n",
       "0           0.113202           0.144012             0.203870   \n",
       "1           0.027820           0.008160             0.089023   \n",
       "2           0.114860           0.141886             0.214301   \n",
       "3           0.032775           0.009364             0.082478   \n",
       "\n",
       "   PaperlessBilling_Yes  SeniorCitizen    tenure  MonthlyCharges  \\\n",
       "0              0.244010       0.057745  0.006678        0.010858   \n",
       "1              0.259280       0.089023  0.006307        0.027750   \n",
       "2              0.239421       0.058556  0.006475        0.010559   \n",
       "3              0.252476       0.084999  0.006830        0.026676   \n",
       "\n",
       "   TotalCharges       plot  \n",
       "0      0.456692   FemaleNo  \n",
       "1      0.534502  FemaleYes  \n",
       "2      0.436180     MaleNo  \n",
       "3      0.584726    MaleYes  \n",
       "\n",
       "[4 rows x 31 columns]"
      ]
     },
     "execution_count": 99,
     "metadata": {},
     "output_type": "execute_result"
    }
   ],
   "source": [
    "dfreset=dfprofil.reset_index()\n",
    "dfreset['plot']=dfreset['gender']+dfreset['Churn']\n",
    "dfreset"
   ]
  },
  {
   "cell_type": "code",
   "execution_count": 100,
   "metadata": {},
   "outputs": [
    {
     "data": {
      "text/html": [
       "<div>\n",
       "<style scoped>\n",
       "    .dataframe tbody tr th:only-of-type {\n",
       "        vertical-align: middle;\n",
       "    }\n",
       "\n",
       "    .dataframe tbody tr th {\n",
       "        vertical-align: top;\n",
       "    }\n",
       "\n",
       "    .dataframe thead th {\n",
       "        text-align: right;\n",
       "    }\n",
       "</style>\n",
       "<table border=\"1\" class=\"dataframe\">\n",
       "  <thead>\n",
       "    <tr style=\"text-align: right;\">\n",
       "      <th></th>\n",
       "      <th>Dependents_No</th>\n",
       "      <th>Dependents_Yes</th>\n",
       "      <th>PhoneService_No</th>\n",
       "      <th>PhoneService_Yes</th>\n",
       "      <th>InternetService_DSL</th>\n",
       "      <th>InternetService_Fiber optic</th>\n",
       "      <th>InternetService_No</th>\n",
       "      <th>OnlineSecurity_No</th>\n",
       "      <th>OnlineSecurity_No internet service</th>\n",
       "      <th>OnlineSecurity_Yes</th>\n",
       "      <th>...</th>\n",
       "      <th>Contract_Month-to-month</th>\n",
       "      <th>Contract_One year</th>\n",
       "      <th>Contract_Two year</th>\n",
       "      <th>PaperlessBilling_No</th>\n",
       "      <th>PaperlessBilling_Yes</th>\n",
       "      <th>SeniorCitizen</th>\n",
       "      <th>tenure</th>\n",
       "      <th>MonthlyCharges</th>\n",
       "      <th>TotalCharges</th>\n",
       "      <th>plot</th>\n",
       "    </tr>\n",
       "  </thead>\n",
       "  <tbody>\n",
       "    <tr>\n",
       "      <th>0</th>\n",
       "      <td>0.296826</td>\n",
       "      <td>0.151054</td>\n",
       "      <td>0.043837</td>\n",
       "      <td>0.404042</td>\n",
       "      <td>0.169891</td>\n",
       "      <td>0.156511</td>\n",
       "      <td>0.121477</td>\n",
       "      <td>0.174645</td>\n",
       "      <td>0.121477</td>\n",
       "      <td>0.151758</td>\n",
       "      <td>...</td>\n",
       "      <td>0.190666</td>\n",
       "      <td>0.113202</td>\n",
       "      <td>0.144012</td>\n",
       "      <td>0.203870</td>\n",
       "      <td>0.244010</td>\n",
       "      <td>0.057745</td>\n",
       "      <td>0.006678</td>\n",
       "      <td>0.010858</td>\n",
       "      <td>0.456692</td>\n",
       "      <td>FemaleNo</td>\n",
       "    </tr>\n",
       "    <tr>\n",
       "      <th>1</th>\n",
       "      <td>0.287100</td>\n",
       "      <td>0.061203</td>\n",
       "      <td>0.029674</td>\n",
       "      <td>0.318629</td>\n",
       "      <td>0.081234</td>\n",
       "      <td>0.246297</td>\n",
       "      <td>0.020772</td>\n",
       "      <td>0.267440</td>\n",
       "      <td>0.020772</td>\n",
       "      <td>0.060091</td>\n",
       "      <td>...</td>\n",
       "      <td>0.312323</td>\n",
       "      <td>0.027820</td>\n",
       "      <td>0.008160</td>\n",
       "      <td>0.089023</td>\n",
       "      <td>0.259280</td>\n",
       "      <td>0.089023</td>\n",
       "      <td>0.006307</td>\n",
       "      <td>0.027750</td>\n",
       "      <td>0.534502</td>\n",
       "      <td>FemaleYes</td>\n",
       "    </tr>\n",
       "    <tr>\n",
       "      <th>2</th>\n",
       "      <td>0.295205</td>\n",
       "      <td>0.158517</td>\n",
       "      <td>0.045216</td>\n",
       "      <td>0.408506</td>\n",
       "      <td>0.171857</td>\n",
       "      <td>0.157651</td>\n",
       "      <td>0.124215</td>\n",
       "      <td>0.180865</td>\n",
       "      <td>0.124215</td>\n",
       "      <td>0.148642</td>\n",
       "      <td>...</td>\n",
       "      <td>0.196977</td>\n",
       "      <td>0.114860</td>\n",
       "      <td>0.141886</td>\n",
       "      <td>0.214301</td>\n",
       "      <td>0.239421</td>\n",
       "      <td>0.058556</td>\n",
       "      <td>0.006475</td>\n",
       "      <td>0.010559</td>\n",
       "      <td>0.436180</td>\n",
       "      <td>MaleNo</td>\n",
       "    </tr>\n",
       "    <tr>\n",
       "      <th>3</th>\n",
       "      <td>0.276968</td>\n",
       "      <td>0.057987</td>\n",
       "      <td>0.032415</td>\n",
       "      <td>0.302539</td>\n",
       "      <td>0.086440</td>\n",
       "      <td>0.227985</td>\n",
       "      <td>0.020529</td>\n",
       "      <td>0.266523</td>\n",
       "      <td>0.020529</td>\n",
       "      <td>0.047902</td>\n",
       "      <td>...</td>\n",
       "      <td>0.292815</td>\n",
       "      <td>0.032775</td>\n",
       "      <td>0.009364</td>\n",
       "      <td>0.082478</td>\n",
       "      <td>0.252476</td>\n",
       "      <td>0.084999</td>\n",
       "      <td>0.006830</td>\n",
       "      <td>0.026676</td>\n",
       "      <td>0.584726</td>\n",
       "      <td>MaleYes</td>\n",
       "    </tr>\n",
       "  </tbody>\n",
       "</table>\n",
       "<p>4 rows × 29 columns</p>\n",
       "</div>"
      ],
      "text/plain": [
       "   Dependents_No  Dependents_Yes  PhoneService_No  PhoneService_Yes  \\\n",
       "0       0.296826        0.151054         0.043837          0.404042   \n",
       "1       0.287100        0.061203         0.029674          0.318629   \n",
       "2       0.295205        0.158517         0.045216          0.408506   \n",
       "3       0.276968        0.057987         0.032415          0.302539   \n",
       "\n",
       "   InternetService_DSL  InternetService_Fiber optic  InternetService_No  \\\n",
       "0             0.169891                     0.156511            0.121477   \n",
       "1             0.081234                     0.246297            0.020772   \n",
       "2             0.171857                     0.157651            0.124215   \n",
       "3             0.086440                     0.227985            0.020529   \n",
       "\n",
       "   OnlineSecurity_No  OnlineSecurity_No internet service  OnlineSecurity_Yes  \\\n",
       "0           0.174645                            0.121477            0.151758   \n",
       "1           0.267440                            0.020772            0.060091   \n",
       "2           0.180865                            0.124215            0.148642   \n",
       "3           0.266523                            0.020529            0.047902   \n",
       "\n",
       "   ...  Contract_Month-to-month  Contract_One year  Contract_Two year  \\\n",
       "0  ...                 0.190666           0.113202           0.144012   \n",
       "1  ...                 0.312323           0.027820           0.008160   \n",
       "2  ...                 0.196977           0.114860           0.141886   \n",
       "3  ...                 0.292815           0.032775           0.009364   \n",
       "\n",
       "   PaperlessBilling_No  PaperlessBilling_Yes  SeniorCitizen    tenure  \\\n",
       "0             0.203870              0.244010       0.057745  0.006678   \n",
       "1             0.089023              0.259280       0.089023  0.006307   \n",
       "2             0.214301              0.239421       0.058556  0.006475   \n",
       "3             0.082478              0.252476       0.084999  0.006830   \n",
       "\n",
       "   MonthlyCharges  TotalCharges       plot  \n",
       "0        0.010858      0.456692   FemaleNo  \n",
       "1        0.027750      0.534502  FemaleYes  \n",
       "2        0.010559      0.436180     MaleNo  \n",
       "3        0.026676      0.584726    MaleYes  \n",
       "\n",
       "[4 rows x 29 columns]"
      ]
     },
     "execution_count": 100,
     "metadata": {},
     "output_type": "execute_result"
    }
   ],
   "source": [
    "dfreset12=dfreset.drop(['gender','Churn'],axis=1,inplace=False)\n",
    "dfreset12"
   ]
  },
  {
   "cell_type": "code",
   "execution_count": 101,
   "metadata": {},
   "outputs": [],
   "source": [
    "#dfreset1.columns"
   ]
  },
  {
   "cell_type": "code",
   "execution_count": 102,
   "metadata": {},
   "outputs": [],
   "source": [
    "dfreset13=dfreset12[['Dependents_No', 'Dependents_Yes', 'PhoneService_No','PhoneService_Yes', 'InternetService_DSL','InternetService_Fiber optic', 'InternetService_No','OnlineSecurity_No', 'OnlineSecurity_No internet service','OnlineSecurity_Yes', 'OnlineBackup_No','OnlineBackup_No internet service', 'OnlineBackup_Yes','DeviceProtection_No', 'DeviceProtection_No internet service','DeviceProtection_Yes', 'TechSupport_No','TechSupport_No internet service', 'TechSupport_Yes','Contract_Month-to-month', 'Contract_One year', 'Contract_Two year','PaperlessBilling_No', 'PaperlessBilling_Yes', 'SeniorCitizen','tenure', 'MonthlyCharges', 'TotalCharges']]*100"
   ]
  },
  {
   "cell_type": "code",
   "execution_count": 103,
   "metadata": {},
   "outputs": [],
   "source": [
    "dfreset14=dfreset12['plot']"
   ]
  },
  {
   "cell_type": "code",
   "execution_count": 104,
   "metadata": {},
   "outputs": [],
   "source": [
    "dfreset1=pd.concat([dfreset14,dfreset13], axis = 1)"
   ]
  },
  {
   "cell_type": "code",
   "execution_count": 105,
   "metadata": {},
   "outputs": [
    {
     "data": {
      "text/html": [
       "<div>\n",
       "<style scoped>\n",
       "    .dataframe tbody tr th:only-of-type {\n",
       "        vertical-align: middle;\n",
       "    }\n",
       "\n",
       "    .dataframe tbody tr th {\n",
       "        vertical-align: top;\n",
       "    }\n",
       "\n",
       "    .dataframe thead th {\n",
       "        text-align: right;\n",
       "    }\n",
       "</style>\n",
       "<table border=\"1\" class=\"dataframe\">\n",
       "  <thead>\n",
       "    <tr style=\"text-align: right;\">\n",
       "      <th></th>\n",
       "      <th>plot</th>\n",
       "      <th>Dependents_No</th>\n",
       "      <th>Dependents_Yes</th>\n",
       "      <th>PhoneService_No</th>\n",
       "      <th>PhoneService_Yes</th>\n",
       "      <th>InternetService_DSL</th>\n",
       "      <th>InternetService_Fiber optic</th>\n",
       "      <th>InternetService_No</th>\n",
       "      <th>OnlineSecurity_No</th>\n",
       "      <th>OnlineSecurity_No internet service</th>\n",
       "      <th>...</th>\n",
       "      <th>TechSupport_Yes</th>\n",
       "      <th>Contract_Month-to-month</th>\n",
       "      <th>Contract_One year</th>\n",
       "      <th>Contract_Two year</th>\n",
       "      <th>PaperlessBilling_No</th>\n",
       "      <th>PaperlessBilling_Yes</th>\n",
       "      <th>SeniorCitizen</th>\n",
       "      <th>tenure</th>\n",
       "      <th>MonthlyCharges</th>\n",
       "      <th>TotalCharges</th>\n",
       "    </tr>\n",
       "  </thead>\n",
       "  <tbody>\n",
       "    <tr>\n",
       "      <th>0</th>\n",
       "      <td>FemaleNo</td>\n",
       "      <td>29.682592</td>\n",
       "      <td>15.105376</td>\n",
       "      <td>4.383728</td>\n",
       "      <td>40.404240</td>\n",
       "      <td>16.989147</td>\n",
       "      <td>15.651141</td>\n",
       "      <td>12.147680</td>\n",
       "      <td>17.464491</td>\n",
       "      <td>12.147680</td>\n",
       "      <td>...</td>\n",
       "      <td>15.122981</td>\n",
       "      <td>19.066576</td>\n",
       "      <td>11.320229</td>\n",
       "      <td>14.401163</td>\n",
       "      <td>20.386976</td>\n",
       "      <td>24.400992</td>\n",
       "      <td>5.774549</td>\n",
       "      <td>0.667826</td>\n",
       "      <td>1.085808</td>\n",
       "      <td>45.669193</td>\n",
       "    </tr>\n",
       "    <tr>\n",
       "      <th>1</th>\n",
       "      <td>FemaleYes</td>\n",
       "      <td>28.709963</td>\n",
       "      <td>6.120341</td>\n",
       "      <td>2.967438</td>\n",
       "      <td>31.862866</td>\n",
       "      <td>8.123362</td>\n",
       "      <td>24.629736</td>\n",
       "      <td>2.077207</td>\n",
       "      <td>26.744036</td>\n",
       "      <td>2.077207</td>\n",
       "      <td>...</td>\n",
       "      <td>6.120341</td>\n",
       "      <td>31.232286</td>\n",
       "      <td>2.781973</td>\n",
       "      <td>0.816045</td>\n",
       "      <td>8.902314</td>\n",
       "      <td>25.927990</td>\n",
       "      <td>8.902314</td>\n",
       "      <td>0.630739</td>\n",
       "      <td>2.775003</td>\n",
       "      <td>53.450218</td>\n",
       "    </tr>\n",
       "    <tr>\n",
       "      <th>2</th>\n",
       "      <td>MaleNo</td>\n",
       "      <td>29.520532</td>\n",
       "      <td>15.851694</td>\n",
       "      <td>4.521631</td>\n",
       "      <td>40.850595</td>\n",
       "      <td>17.185662</td>\n",
       "      <td>15.765073</td>\n",
       "      <td>12.421491</td>\n",
       "      <td>18.086523</td>\n",
       "      <td>12.421491</td>\n",
       "      <td>...</td>\n",
       "      <td>15.089427</td>\n",
       "      <td>19.697679</td>\n",
       "      <td>11.485981</td>\n",
       "      <td>14.188565</td>\n",
       "      <td>21.430104</td>\n",
       "      <td>23.942121</td>\n",
       "      <td>5.855598</td>\n",
       "      <td>0.647493</td>\n",
       "      <td>1.055920</td>\n",
       "      <td>43.618013</td>\n",
       "    </tr>\n",
       "    <tr>\n",
       "      <th>3</th>\n",
       "      <td>MaleYes</td>\n",
       "      <td>27.696751</td>\n",
       "      <td>5.798670</td>\n",
       "      <td>3.241492</td>\n",
       "      <td>30.253928</td>\n",
       "      <td>8.643980</td>\n",
       "      <td>22.798496</td>\n",
       "      <td>2.052945</td>\n",
       "      <td>26.652270</td>\n",
       "      <td>2.052945</td>\n",
       "      <td>...</td>\n",
       "      <td>5.222404</td>\n",
       "      <td>29.281481</td>\n",
       "      <td>3.277509</td>\n",
       "      <td>0.936431</td>\n",
       "      <td>8.247797</td>\n",
       "      <td>25.247624</td>\n",
       "      <td>8.499913</td>\n",
       "      <td>0.682998</td>\n",
       "      <td>2.667640</td>\n",
       "      <td>58.472616</td>\n",
       "    </tr>\n",
       "  </tbody>\n",
       "</table>\n",
       "<p>4 rows × 29 columns</p>\n",
       "</div>"
      ],
      "text/plain": [
       "        plot  Dependents_No  Dependents_Yes  PhoneService_No  \\\n",
       "0   FemaleNo      29.682592       15.105376         4.383728   \n",
       "1  FemaleYes      28.709963        6.120341         2.967438   \n",
       "2     MaleNo      29.520532       15.851694         4.521631   \n",
       "3    MaleYes      27.696751        5.798670         3.241492   \n",
       "\n",
       "   PhoneService_Yes  InternetService_DSL  InternetService_Fiber optic  \\\n",
       "0         40.404240            16.989147                    15.651141   \n",
       "1         31.862866             8.123362                    24.629736   \n",
       "2         40.850595            17.185662                    15.765073   \n",
       "3         30.253928             8.643980                    22.798496   \n",
       "\n",
       "   InternetService_No  OnlineSecurity_No  OnlineSecurity_No internet service  \\\n",
       "0           12.147680          17.464491                           12.147680   \n",
       "1            2.077207          26.744036                            2.077207   \n",
       "2           12.421491          18.086523                           12.421491   \n",
       "3            2.052945          26.652270                            2.052945   \n",
       "\n",
       "   ...  TechSupport_Yes  Contract_Month-to-month  Contract_One year  \\\n",
       "0  ...        15.122981                19.066576          11.320229   \n",
       "1  ...         6.120341                31.232286           2.781973   \n",
       "2  ...        15.089427                19.697679          11.485981   \n",
       "3  ...         5.222404                29.281481           3.277509   \n",
       "\n",
       "   Contract_Two year  PaperlessBilling_No  PaperlessBilling_Yes  \\\n",
       "0          14.401163            20.386976             24.400992   \n",
       "1           0.816045             8.902314             25.927990   \n",
       "2          14.188565            21.430104             23.942121   \n",
       "3           0.936431             8.247797             25.247624   \n",
       "\n",
       "   SeniorCitizen    tenure  MonthlyCharges  TotalCharges  \n",
       "0       5.774549  0.667826        1.085808     45.669193  \n",
       "1       8.902314  0.630739        2.775003     53.450218  \n",
       "2       5.855598  0.647493        1.055920     43.618013  \n",
       "3       8.499913  0.682998        2.667640     58.472616  \n",
       "\n",
       "[4 rows x 29 columns]"
      ]
     },
     "execution_count": 105,
     "metadata": {},
     "output_type": "execute_result"
    }
   ],
   "source": [
    "dfreset1"
   ]
  },
  {
   "cell_type": "code",
   "execution_count": 106,
   "metadata": {},
   "outputs": [
    {
     "data": {
      "text/html": [
       "<div>\n",
       "<style scoped>\n",
       "    .dataframe tbody tr th:only-of-type {\n",
       "        vertical-align: middle;\n",
       "    }\n",
       "\n",
       "    .dataframe tbody tr th {\n",
       "        vertical-align: top;\n",
       "    }\n",
       "\n",
       "    .dataframe thead tr th {\n",
       "        text-align: left;\n",
       "    }\n",
       "</style>\n",
       "<table border=\"1\" class=\"dataframe\">\n",
       "  <thead>\n",
       "    <tr>\n",
       "      <th>gender</th>\n",
       "      <th colspan=\"2\" halign=\"left\">Female</th>\n",
       "      <th colspan=\"2\" halign=\"left\">Male</th>\n",
       "    </tr>\n",
       "    <tr>\n",
       "      <th>Churn</th>\n",
       "      <th>No</th>\n",
       "      <th>Yes</th>\n",
       "      <th>No</th>\n",
       "      <th>Yes</th>\n",
       "    </tr>\n",
       "  </thead>\n",
       "  <tbody>\n",
       "    <tr>\n",
       "      <th>Dependents_No</th>\n",
       "      <td>29.682592</td>\n",
       "      <td>28.709963</td>\n",
       "      <td>29.520532</td>\n",
       "      <td>27.696751</td>\n",
       "    </tr>\n",
       "    <tr>\n",
       "      <th>Dependents_Yes</th>\n",
       "      <td>15.105376</td>\n",
       "      <td>6.120341</td>\n",
       "      <td>15.851694</td>\n",
       "      <td>5.798670</td>\n",
       "    </tr>\n",
       "    <tr>\n",
       "      <th>PhoneService_No</th>\n",
       "      <td>4.383728</td>\n",
       "      <td>2.967438</td>\n",
       "      <td>4.521631</td>\n",
       "      <td>3.241492</td>\n",
       "    </tr>\n",
       "    <tr>\n",
       "      <th>PhoneService_Yes</th>\n",
       "      <td>40.404240</td>\n",
       "      <td>31.862866</td>\n",
       "      <td>40.850595</td>\n",
       "      <td>30.253928</td>\n",
       "    </tr>\n",
       "    <tr>\n",
       "      <th>InternetService_DSL</th>\n",
       "      <td>16.989147</td>\n",
       "      <td>8.123362</td>\n",
       "      <td>17.185662</td>\n",
       "      <td>8.643980</td>\n",
       "    </tr>\n",
       "    <tr>\n",
       "      <th>InternetService_Fiber optic</th>\n",
       "      <td>15.651141</td>\n",
       "      <td>24.629736</td>\n",
       "      <td>15.765073</td>\n",
       "      <td>22.798496</td>\n",
       "    </tr>\n",
       "    <tr>\n",
       "      <th>InternetService_No</th>\n",
       "      <td>12.147680</td>\n",
       "      <td>2.077207</td>\n",
       "      <td>12.421491</td>\n",
       "      <td>2.052945</td>\n",
       "    </tr>\n",
       "    <tr>\n",
       "      <th>OnlineSecurity_No</th>\n",
       "      <td>17.464491</td>\n",
       "      <td>26.744036</td>\n",
       "      <td>18.086523</td>\n",
       "      <td>26.652270</td>\n",
       "    </tr>\n",
       "    <tr>\n",
       "      <th>OnlineSecurity_No internet service</th>\n",
       "      <td>12.147680</td>\n",
       "      <td>2.077207</td>\n",
       "      <td>12.421491</td>\n",
       "      <td>2.052945</td>\n",
       "    </tr>\n",
       "    <tr>\n",
       "      <th>OnlineSecurity_Yes</th>\n",
       "      <td>15.175797</td>\n",
       "      <td>6.009062</td>\n",
       "      <td>14.864211</td>\n",
       "      <td>4.790205</td>\n",
       "    </tr>\n",
       "    <tr>\n",
       "      <th>OnlineBackup_No</th>\n",
       "      <td>15.774379</td>\n",
       "      <td>22.923459</td>\n",
       "      <td>16.596637</td>\n",
       "      <td>22.150198</td>\n",
       "    </tr>\n",
       "    <tr>\n",
       "      <th>OnlineBackup_No internet service</th>\n",
       "      <td>12.147680</td>\n",
       "      <td>2.077207</td>\n",
       "      <td>12.421491</td>\n",
       "      <td>2.052945</td>\n",
       "    </tr>\n",
       "    <tr>\n",
       "      <th>OnlineBackup_Yes</th>\n",
       "      <td>16.865909</td>\n",
       "      <td>9.829639</td>\n",
       "      <td>16.354097</td>\n",
       "      <td>9.292278</td>\n",
       "    </tr>\n",
       "    <tr>\n",
       "      <th>DeviceProtection_No</th>\n",
       "      <td>16.232117</td>\n",
       "      <td>22.849273</td>\n",
       "      <td>16.648610</td>\n",
       "      <td>21.429866</td>\n",
       "    </tr>\n",
       "    <tr>\n",
       "      <th>DeviceProtection_No internet service</th>\n",
       "      <td>12.147680</td>\n",
       "      <td>2.077207</td>\n",
       "      <td>12.421491</td>\n",
       "      <td>2.052945</td>\n",
       "    </tr>\n",
       "    <tr>\n",
       "      <th>DeviceProtection_Yes</th>\n",
       "      <td>16.408171</td>\n",
       "      <td>9.903825</td>\n",
       "      <td>16.302125</td>\n",
       "      <td>10.012610</td>\n",
       "    </tr>\n",
       "    <tr>\n",
       "      <th>TechSupport_No</th>\n",
       "      <td>17.517307</td>\n",
       "      <td>26.632757</td>\n",
       "      <td>17.861308</td>\n",
       "      <td>26.220071</td>\n",
       "    </tr>\n",
       "    <tr>\n",
       "      <th>TechSupport_No internet service</th>\n",
       "      <td>12.147680</td>\n",
       "      <td>2.077207</td>\n",
       "      <td>12.421491</td>\n",
       "      <td>2.052945</td>\n",
       "    </tr>\n",
       "    <tr>\n",
       "      <th>TechSupport_Yes</th>\n",
       "      <td>15.122981</td>\n",
       "      <td>6.120341</td>\n",
       "      <td>15.089427</td>\n",
       "      <td>5.222404</td>\n",
       "    </tr>\n",
       "    <tr>\n",
       "      <th>Contract_Month-to-month</th>\n",
       "      <td>19.066576</td>\n",
       "      <td>31.232286</td>\n",
       "      <td>19.697679</td>\n",
       "      <td>29.281481</td>\n",
       "    </tr>\n",
       "    <tr>\n",
       "      <th>Contract_One year</th>\n",
       "      <td>11.320229</td>\n",
       "      <td>2.781973</td>\n",
       "      <td>11.485981</td>\n",
       "      <td>3.277509</td>\n",
       "    </tr>\n",
       "    <tr>\n",
       "      <th>Contract_Two year</th>\n",
       "      <td>14.401163</td>\n",
       "      <td>0.816045</td>\n",
       "      <td>14.188565</td>\n",
       "      <td>0.936431</td>\n",
       "    </tr>\n",
       "    <tr>\n",
       "      <th>PaperlessBilling_No</th>\n",
       "      <td>20.386976</td>\n",
       "      <td>8.902314</td>\n",
       "      <td>21.430104</td>\n",
       "      <td>8.247797</td>\n",
       "    </tr>\n",
       "    <tr>\n",
       "      <th>PaperlessBilling_Yes</th>\n",
       "      <td>24.400992</td>\n",
       "      <td>25.927990</td>\n",
       "      <td>23.942121</td>\n",
       "      <td>25.247624</td>\n",
       "    </tr>\n",
       "    <tr>\n",
       "      <th>SeniorCitizen</th>\n",
       "      <td>5.774549</td>\n",
       "      <td>8.902314</td>\n",
       "      <td>5.855598</td>\n",
       "      <td>8.499913</td>\n",
       "    </tr>\n",
       "    <tr>\n",
       "      <th>tenure</th>\n",
       "      <td>0.667826</td>\n",
       "      <td>0.630739</td>\n",
       "      <td>0.647493</td>\n",
       "      <td>0.682998</td>\n",
       "    </tr>\n",
       "    <tr>\n",
       "      <th>MonthlyCharges</th>\n",
       "      <td>1.085808</td>\n",
       "      <td>2.775003</td>\n",
       "      <td>1.055920</td>\n",
       "      <td>2.667640</td>\n",
       "    </tr>\n",
       "    <tr>\n",
       "      <th>TotalCharges</th>\n",
       "      <td>45.669193</td>\n",
       "      <td>53.450218</td>\n",
       "      <td>43.618013</td>\n",
       "      <td>58.472616</td>\n",
       "    </tr>\n",
       "  </tbody>\n",
       "</table>\n",
       "</div>"
      ],
      "text/plain": [
       "gender                                   Female                  Male  \\\n",
       "Churn                                        No        Yes         No   \n",
       "Dependents_No                         29.682592  28.709963  29.520532   \n",
       "Dependents_Yes                        15.105376   6.120341  15.851694   \n",
       "PhoneService_No                        4.383728   2.967438   4.521631   \n",
       "PhoneService_Yes                      40.404240  31.862866  40.850595   \n",
       "InternetService_DSL                   16.989147   8.123362  17.185662   \n",
       "InternetService_Fiber optic           15.651141  24.629736  15.765073   \n",
       "InternetService_No                    12.147680   2.077207  12.421491   \n",
       "OnlineSecurity_No                     17.464491  26.744036  18.086523   \n",
       "OnlineSecurity_No internet service    12.147680   2.077207  12.421491   \n",
       "OnlineSecurity_Yes                    15.175797   6.009062  14.864211   \n",
       "OnlineBackup_No                       15.774379  22.923459  16.596637   \n",
       "OnlineBackup_No internet service      12.147680   2.077207  12.421491   \n",
       "OnlineBackup_Yes                      16.865909   9.829639  16.354097   \n",
       "DeviceProtection_No                   16.232117  22.849273  16.648610   \n",
       "DeviceProtection_No internet service  12.147680   2.077207  12.421491   \n",
       "DeviceProtection_Yes                  16.408171   9.903825  16.302125   \n",
       "TechSupport_No                        17.517307  26.632757  17.861308   \n",
       "TechSupport_No internet service       12.147680   2.077207  12.421491   \n",
       "TechSupport_Yes                       15.122981   6.120341  15.089427   \n",
       "Contract_Month-to-month               19.066576  31.232286  19.697679   \n",
       "Contract_One year                     11.320229   2.781973  11.485981   \n",
       "Contract_Two year                     14.401163   0.816045  14.188565   \n",
       "PaperlessBilling_No                   20.386976   8.902314  21.430104   \n",
       "PaperlessBilling_Yes                  24.400992  25.927990  23.942121   \n",
       "SeniorCitizen                          5.774549   8.902314   5.855598   \n",
       "tenure                                 0.667826   0.630739   0.647493   \n",
       "MonthlyCharges                         1.085808   2.775003   1.055920   \n",
       "TotalCharges                          45.669193  53.450218  43.618013   \n",
       "\n",
       "gender                                           \n",
       "Churn                                       Yes  \n",
       "Dependents_No                         27.696751  \n",
       "Dependents_Yes                         5.798670  \n",
       "PhoneService_No                        3.241492  \n",
       "PhoneService_Yes                      30.253928  \n",
       "InternetService_DSL                    8.643980  \n",
       "InternetService_Fiber optic           22.798496  \n",
       "InternetService_No                     2.052945  \n",
       "OnlineSecurity_No                     26.652270  \n",
       "OnlineSecurity_No internet service     2.052945  \n",
       "OnlineSecurity_Yes                     4.790205  \n",
       "OnlineBackup_No                       22.150198  \n",
       "OnlineBackup_No internet service       2.052945  \n",
       "OnlineBackup_Yes                       9.292278  \n",
       "DeviceProtection_No                   21.429866  \n",
       "DeviceProtection_No internet service   2.052945  \n",
       "DeviceProtection_Yes                  10.012610  \n",
       "TechSupport_No                        26.220071  \n",
       "TechSupport_No internet service        2.052945  \n",
       "TechSupport_Yes                        5.222404  \n",
       "Contract_Month-to-month               29.281481  \n",
       "Contract_One year                      3.277509  \n",
       "Contract_Two year                      0.936431  \n",
       "PaperlessBilling_No                    8.247797  \n",
       "PaperlessBilling_Yes                  25.247624  \n",
       "SeniorCitizen                          8.499913  \n",
       "tenure                                 0.682998  \n",
       "MonthlyCharges                         2.667640  \n",
       "TotalCharges                          58.472616  "
      ]
     },
     "execution_count": 106,
     "metadata": {},
     "output_type": "execute_result"
    }
   ],
   "source": [
    "dfprofil.T*100"
   ]
  },
  {
   "cell_type": "code",
   "execution_count": 107,
   "metadata": {},
   "outputs": [],
   "source": [
    "# Libraries\n",
    "import matplotlib.pyplot as plt\n",
    "from math import pi"
   ]
  },
  {
   "cell_type": "code",
   "execution_count": 108,
   "metadata": {},
   "outputs": [],
   "source": [
    "def make_spider( row, title, color):\n",
    " \n",
    "    # number of variable\n",
    "    categories=list(dfreset1)[:-1]\n",
    "    N = len(categories)\n",
    " \n",
    "    # What will be the angle of each axis in the plot? (we divide the plot / number of variable)\n",
    "    angles = [n / float(N) * 2 * pi for n in range(N)]\n",
    "    angles += angles[:1]\n",
    " \n",
    "    # Initialise the spider plot\n",
    "    ax = plt.subplot(2,2,row+1, polar=True, )\n",
    " \n",
    "    # If you want the first axis to be on top:\n",
    "    ax.set_theta_offset(pi / 2)\n",
    "    ax.set_theta_direction(-1)\n",
    " \n",
    "    # Draw one axe per variable + add labels labels yet\n",
    "    plt.xticks(angles[:-1], categories, color='grey', size=55)\n",
    " \n",
    "    # Draw ylabels\n",
    "    ax.set_rlabel_position(0)\n",
    "    plt.yticks([10,20,30], [\"10\",\"20\",\"30\"], color=\"grey\", size=7)\n",
    "    plt.ylim(0,40)\n",
    " \n",
    "    # Ind1\n",
    "    values=dfreset1.loc[row].drop('plot').values.flatten().tolist()\n",
    "    values += values[:1]\n",
    "    ax.plot(angles, values, color=color, linewidth=2, linestyle='solid')\n",
    "    ax.fill(angles, values, color=color, alpha=0.4)\n",
    " \n",
    "    # Add a title\n",
    "    plt.title(title, size=100, color=color, y=1.1)\n",
    "    plt.savefig('fig1.png')\n",
    " \n",
    "   \n",
    " "
   ]
  },
  {
   "cell_type": "code",
   "execution_count": 109,
   "metadata": {},
   "outputs": [
    {
     "data": {
      "image/png": "[encoded data removed]",
      "text/plain": [
       "<Figure size 1000x1000 with 4 Axes>"
      ]
     },
     "metadata": {
      "needs_background": "dark"
     },
     "output_type": "display_data"
    }
   ],
   "source": [
    "# ------- PART 2: Apply to all individuals\n",
    "# initialize the figure\n",
    "my_dpi=10\n",
    "plt.figure(figsize=(1000/my_dpi, 1000/my_dpi), dpi=my_dpi)\n",
    " \n",
    "# Create a color palette:\n",
    "my_palette = plt.cm.get_cmap(\"Set2\", len(dfreset1.index))\n",
    " \n",
    "# Loop to plot\n",
    "for row in range(0, len(dfreset1.index)):\n",
    "    make_spider( row=row, title='plot '+dfreset1['plot'][row], color=my_palette(row))\n"
   ]
  },
  {
   "cell_type": "code",
   "execution_count": 110,
   "metadata": {},
   "outputs": [],
   "source": [
    "a1=a"
   ]
  },
  {
   "cell_type": "code",
   "execution_count": 111,
   "metadata": {},
   "outputs": [],
   "source": [
    "from sklearn import preprocessing \n",
    "values1 = preprocessing.normalize(dfprofil)\n",
    "a[['Dependents_No','Dependents_Yes','PhoneService_No','PhoneService_Yes','InternetService_DSL','InternetService_Fiber optic','InternetService_No','OnlineSecurity_No','OnlineSecurity_No internet service','OnlineSecurity_Yes', 'OnlineBackup_No','OnlineBackup_No internet service','OnlineBackup_Yes','DeviceProtection_No','DeviceProtection_No internet service','DeviceProtection_Yes','TechSupport_No','TechSupport_No internet service','TechSupport_Yes','Contract_Month-to-month','Contract_One year','Contract_Two year','PaperlessBilling_No','PaperlessBilling_Yes','SeniorCitizen','tenure','MonthlyCharges','TotalCharges']]=values1"
   ]
  },
  {
   "cell_type": "code",
   "execution_count": 112,
   "metadata": {},
   "outputs": [
    {
     "data": {
      "text/html": [
       "<div>\n",
       "<style scoped>\n",
       "    .dataframe tbody tr th:only-of-type {\n",
       "        vertical-align: middle;\n",
       "    }\n",
       "\n",
       "    .dataframe tbody tr th {\n",
       "        vertical-align: top;\n",
       "    }\n",
       "\n",
       "    .dataframe thead th {\n",
       "        text-align: right;\n",
       "    }\n",
       "</style>\n",
       "<table border=\"1\" class=\"dataframe\">\n",
       "  <thead>\n",
       "    <tr style=\"text-align: right;\">\n",
       "      <th></th>\n",
       "      <th></th>\n",
       "      <th>Dependents_No</th>\n",
       "      <th>Dependents_Yes</th>\n",
       "      <th>PhoneService_No</th>\n",
       "      <th>PhoneService_Yes</th>\n",
       "      <th>InternetService_DSL</th>\n",
       "      <th>InternetService_Fiber optic</th>\n",
       "      <th>InternetService_No</th>\n",
       "      <th>OnlineSecurity_No</th>\n",
       "      <th>OnlineSecurity_No internet service</th>\n",
       "      <th>OnlineSecurity_Yes</th>\n",
       "      <th>...</th>\n",
       "      <th>TechSupport_Yes</th>\n",
       "      <th>Contract_Month-to-month</th>\n",
       "      <th>Contract_One year</th>\n",
       "      <th>Contract_Two year</th>\n",
       "      <th>PaperlessBilling_No</th>\n",
       "      <th>PaperlessBilling_Yes</th>\n",
       "      <th>SeniorCitizen</th>\n",
       "      <th>tenure</th>\n",
       "      <th>MonthlyCharges</th>\n",
       "      <th>TotalCharges</th>\n",
       "    </tr>\n",
       "    <tr>\n",
       "      <th>gender</th>\n",
       "      <th>Churn</th>\n",
       "      <th></th>\n",
       "      <th></th>\n",
       "      <th></th>\n",
       "      <th></th>\n",
       "      <th></th>\n",
       "      <th></th>\n",
       "      <th></th>\n",
       "      <th></th>\n",
       "      <th></th>\n",
       "      <th></th>\n",
       "      <th></th>\n",
       "      <th></th>\n",
       "      <th></th>\n",
       "      <th></th>\n",
       "      <th></th>\n",
       "      <th></th>\n",
       "      <th></th>\n",
       "      <th></th>\n",
       "      <th></th>\n",
       "      <th></th>\n",
       "      <th></th>\n",
       "    </tr>\n",
       "  </thead>\n",
       "  <tbody>\n",
       "    <tr>\n",
       "      <th rowspan=\"2\" valign=\"top\">Female</th>\n",
       "      <th>No</th>\n",
       "      <td>29.682592</td>\n",
       "      <td>15.105376</td>\n",
       "      <td>4.383728</td>\n",
       "      <td>40.404240</td>\n",
       "      <td>16.989147</td>\n",
       "      <td>15.651141</td>\n",
       "      <td>12.147680</td>\n",
       "      <td>17.464491</td>\n",
       "      <td>12.147680</td>\n",
       "      <td>15.175797</td>\n",
       "      <td>...</td>\n",
       "      <td>15.122981</td>\n",
       "      <td>19.066576</td>\n",
       "      <td>11.320229</td>\n",
       "      <td>14.401163</td>\n",
       "      <td>20.386976</td>\n",
       "      <td>24.400992</td>\n",
       "      <td>5.774549</td>\n",
       "      <td>0.667826</td>\n",
       "      <td>1.085808</td>\n",
       "      <td>45.669193</td>\n",
       "    </tr>\n",
       "    <tr>\n",
       "      <th>Yes</th>\n",
       "      <td>28.709963</td>\n",
       "      <td>6.120341</td>\n",
       "      <td>2.967438</td>\n",
       "      <td>31.862866</td>\n",
       "      <td>8.123362</td>\n",
       "      <td>24.629736</td>\n",
       "      <td>2.077207</td>\n",
       "      <td>26.744036</td>\n",
       "      <td>2.077207</td>\n",
       "      <td>6.009062</td>\n",
       "      <td>...</td>\n",
       "      <td>6.120341</td>\n",
       "      <td>31.232286</td>\n",
       "      <td>2.781973</td>\n",
       "      <td>0.816045</td>\n",
       "      <td>8.902314</td>\n",
       "      <td>25.927990</td>\n",
       "      <td>8.902314</td>\n",
       "      <td>0.630739</td>\n",
       "      <td>2.775003</td>\n",
       "      <td>53.450218</td>\n",
       "    </tr>\n",
       "    <tr>\n",
       "      <th rowspan=\"2\" valign=\"top\">Male</th>\n",
       "      <th>No</th>\n",
       "      <td>29.520532</td>\n",
       "      <td>15.851694</td>\n",
       "      <td>4.521631</td>\n",
       "      <td>40.850595</td>\n",
       "      <td>17.185662</td>\n",
       "      <td>15.765073</td>\n",
       "      <td>12.421491</td>\n",
       "      <td>18.086523</td>\n",
       "      <td>12.421491</td>\n",
       "      <td>14.864211</td>\n",
       "      <td>...</td>\n",
       "      <td>15.089427</td>\n",
       "      <td>19.697679</td>\n",
       "      <td>11.485981</td>\n",
       "      <td>14.188565</td>\n",
       "      <td>21.430104</td>\n",
       "      <td>23.942121</td>\n",
       "      <td>5.855598</td>\n",
       "      <td>0.647493</td>\n",
       "      <td>1.055920</td>\n",
       "      <td>43.618013</td>\n",
       "    </tr>\n",
       "    <tr>\n",
       "      <th>Yes</th>\n",
       "      <td>27.696751</td>\n",
       "      <td>5.798670</td>\n",
       "      <td>3.241492</td>\n",
       "      <td>30.253928</td>\n",
       "      <td>8.643980</td>\n",
       "      <td>22.798496</td>\n",
       "      <td>2.052945</td>\n",
       "      <td>26.652270</td>\n",
       "      <td>2.052945</td>\n",
       "      <td>4.790205</td>\n",
       "      <td>...</td>\n",
       "      <td>5.222404</td>\n",
       "      <td>29.281481</td>\n",
       "      <td>3.277509</td>\n",
       "      <td>0.936431</td>\n",
       "      <td>8.247797</td>\n",
       "      <td>25.247624</td>\n",
       "      <td>8.499913</td>\n",
       "      <td>0.682998</td>\n",
       "      <td>2.667640</td>\n",
       "      <td>58.472616</td>\n",
       "    </tr>\n",
       "  </tbody>\n",
       "</table>\n",
       "<p>4 rows × 28 columns</p>\n",
       "</div>"
      ],
      "text/plain": [
       "              Dependents_No  Dependents_Yes  PhoneService_No  \\\n",
       "gender Churn                                                   \n",
       "Female No         29.682592       15.105376         4.383728   \n",
       "       Yes        28.709963        6.120341         2.967438   \n",
       "Male   No         29.520532       15.851694         4.521631   \n",
       "       Yes        27.696751        5.798670         3.241492   \n",
       "\n",
       "              PhoneService_Yes  InternetService_DSL  \\\n",
       "gender Churn                                          \n",
       "Female No            40.404240            16.989147   \n",
       "       Yes           31.862866             8.123362   \n",
       "Male   No            40.850595            17.185662   \n",
       "       Yes           30.253928             8.643980   \n",
       "\n",
       "              InternetService_Fiber optic  InternetService_No  \\\n",
       "gender Churn                                                    \n",
       "Female No                       15.651141           12.147680   \n",
       "       Yes                      24.629736            2.077207   \n",
       "Male   No                       15.765073           12.421491   \n",
       "       Yes                      22.798496            2.052945   \n",
       "\n",
       "              OnlineSecurity_No  OnlineSecurity_No internet service  \\\n",
       "gender Churn                                                          \n",
       "Female No             17.464491                           12.147680   \n",
       "       Yes            26.744036                            2.077207   \n",
       "Male   No             18.086523                           12.421491   \n",
       "       Yes            26.652270                            2.052945   \n",
       "\n",
       "              OnlineSecurity_Yes  ...  TechSupport_Yes  \\\n",
       "gender Churn                      ...                    \n",
       "Female No              15.175797  ...        15.122981   \n",
       "       Yes              6.009062  ...         6.120341   \n",
       "Male   No              14.864211  ...        15.089427   \n",
       "       Yes              4.790205  ...         5.222404   \n",
       "\n",
       "              Contract_Month-to-month  Contract_One year  Contract_Two year  \\\n",
       "gender Churn                                                                  \n",
       "Female No                   19.066576          11.320229          14.401163   \n",
       "       Yes                  31.232286           2.781973           0.816045   \n",
       "Male   No                   19.697679          11.485981          14.188565   \n",
       "       Yes                  29.281481           3.277509           0.936431   \n",
       "\n",
       "              PaperlessBilling_No  PaperlessBilling_Yes  SeniorCitizen  \\\n",
       "gender Churn                                                             \n",
       "Female No               20.386976             24.400992       5.774549   \n",
       "       Yes               8.902314             25.927990       8.902314   \n",
       "Male   No               21.430104             23.942121       5.855598   \n",
       "       Yes               8.247797             25.247624       8.499913   \n",
       "\n",
       "                tenure  MonthlyCharges  TotalCharges  \n",
       "gender Churn                                          \n",
       "Female No     0.667826        1.085808     45.669193  \n",
       "       Yes    0.630739        2.775003     53.450218  \n",
       "Male   No     0.647493        1.055920     43.618013  \n",
       "       Yes    0.682998        2.667640     58.472616  \n",
       "\n",
       "[4 rows x 28 columns]"
      ]
     },
     "execution_count": 112,
     "metadata": {},
     "output_type": "execute_result"
    }
   ],
   "source": [
    "a*100"
   ]
  },
  {
   "cell_type": "code",
   "execution_count": null,
   "metadata": {},
   "outputs": [],
   "source": []
  }
 ],
 "metadata": {
  "kernelspec": {
   "display_name": "Python 3",
   "language": "python",
   "name": "python3"
  },
  "language_info": {
   "codemirror_mode": {
    "name": "ipython",
    "version": 3
   },
   "file_extension": ".py",
   "mimetype": "text/x-python",
   "name": "python",
   "nbconvert_exporter": "python",
   "pygments_lexer": "ipython3",
   "version": "3.7.6"
  }
 },
 "nbformat": 4,
 "nbformat_minor": 4
}
